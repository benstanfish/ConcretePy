{
 "cells": [
  {
   "cell_type": "markdown",
   "id": "2372788f-3b08-454c-ab2d-e35e08688609",
   "metadata": {},
   "source": [
    "# Module Test Template"
   ]
  },
  {
   "cell_type": "markdown",
   "id": "a395232d-f76a-449e-be1b-0446afeed13d",
   "metadata": {},
   "source": [
    "## 1. Module & Test Description"
   ]
  },
  {
   "cell_type": "markdown",
   "id": "439a0cb0-2595-44bc-97fa-943fa9bc0e19",
   "metadata": {},
   "source": [
    "This notebook is used for testing the concrete area aggregation functionality in *concrete.py*"
   ]
  },
  {
   "cell_type": "markdown",
   "id": "56b56077-38d6-40b6-864f-6acc86d6d99d",
   "metadata": {},
   "source": [
    "### Imports\n",
    "##### General Imports"
   ]
  },
  {
   "cell_type": "code",
   "execution_count": 1,
   "id": "5479e169-7452-45d0-aa9c-e470d4df98ea",
   "metadata": {},
   "outputs": [],
   "source": [
    "import os, sys, pathlib\n",
    "import numpy as np\n",
    "import pandas as pd\n",
    "import matplotlib.pyplot as plt\n",
    "import scipy as sc\n",
    "import shapely as sh\n",
    "\n",
    "import math"
   ]
  },
  {
   "cell_type": "markdown",
   "id": "7757166a-bb74-4490-91d6-a6b4100ba823",
   "metadata": {},
   "source": [
    "##### Extend PYPATH to current folder:\n",
    "This allows importing libraries from the same folder; <code>pathlib.Path().resolve()</code> returns the path of the current directory."
   ]
  },
  {
   "cell_type": "code",
   "execution_count": 2,
   "id": "1454a3e7-7240-479e-a935-30b92001f476",
   "metadata": {},
   "outputs": [],
   "source": [
    "sys.path.extend([pathlib.Path().resolve()])"
   ]
  },
  {
   "cell_type": "markdown",
   "id": "9d8241f1-bc56-476c-adb8-18059b758262",
   "metadata": {},
   "source": [
    "Import specific testing modules:"
   ]
  },
  {
   "cell_type": "code",
   "execution_count": 3,
   "id": "b75c88e5-46c9-4d66-909e-c7d53835c860",
   "metadata": {},
   "outputs": [],
   "source": [
    "# import concrete"
   ]
  },
  {
   "cell_type": "markdown",
   "id": "7dc5c3d5-6d41-42cc-a1f6-bdc5a65999ae",
   "metadata": {},
   "source": [
    "## Testing Inputs\n",
    "Below are the properties of several concrete regions, which we'l use for testing subsequent functions."
   ]
  },
  {
   "cell_type": "code",
   "execution_count": 4,
   "id": "f7564e62-74b6-4340-a432-c95a8c6d0d93",
   "metadata": {},
   "outputs": [],
   "source": [
    "# Test inputing concrete regions as a 0D (single value), numpy array and python list:\n",
    "as_float = 10.0\n",
    "as_int = 5\n",
    "as_list = [[10, 1], [1, 10], [2, 5]]\n",
    "\n",
    "as_ndarray = np.array([[10, 1], [1, 10], [2, 5]])\n",
    "as_0darray = np.array(5)\n",
    "as_1darray = np.array([5, 2, 3, 4])\n",
    "as_2darray = np.copy(as_ndarray)"
   ]
  },
  {
   "cell_type": "code",
   "execution_count": 5,
   "id": "51ae86aa-461f-49d7-90ff-46ac9fcdbfb3",
   "metadata": {},
   "outputs": [
    {
     "data": {
      "text/plain": [
       "(float, int, list, numpy.ndarray)"
      ]
     },
     "execution_count": 5,
     "metadata": {},
     "output_type": "execute_result"
    }
   ],
   "source": [
    "# Return the type\n",
    "type(as_float), type(as_int), type(as_list), type(as_ndarray)"
   ]
  },
  {
   "cell_type": "markdown",
   "id": "d1c90dc9-1db9-4cdc-9aa6-5ff2781d665e",
   "metadata": {},
   "source": [
    "### Test dimensionality of lists and arrays"
   ]
  },
  {
   "cell_type": "code",
   "execution_count": 6,
   "id": "6effb4cf-4fac-4c4c-a629-aec282e4dff5",
   "metadata": {},
   "outputs": [],
   "source": [
    "# For lists use a cheat:\n",
    "def get_list_dimensions(my_list):\n",
    "    if type(my_list) == list:\n",
    "        temp = np.array(my_list)\n",
    "        return temp.shape\n",
    "    else:\n",
    "        return 'Not a list type'"
   ]
  },
  {
   "cell_type": "code",
   "execution_count": 7,
   "id": "9b4e0d71-1f26-4bbc-a955-16a37775ae2d",
   "metadata": {},
   "outputs": [
    {
     "data": {
      "text/plain": [
       "(3, 2)"
      ]
     },
     "execution_count": 7,
     "metadata": {},
     "output_type": "execute_result"
    }
   ],
   "source": [
    "get_list_dimensions(as_list)"
   ]
  },
  {
   "cell_type": "code",
   "execution_count": 8,
   "id": "71f3d2b0-a7df-4c1d-b0d9-875ef0117d20",
   "metadata": {},
   "outputs": [],
   "source": [
    "def is_list(my_list):\n",
    "    return True if type(my_list) == list else False"
   ]
  },
  {
   "cell_type": "code",
   "execution_count": 9,
   "id": "496f52db-5df4-43df-8715-6e61cc17abed",
   "metadata": {},
   "outputs": [
    {
     "data": {
      "text/plain": [
       "True"
      ]
     },
     "execution_count": 9,
     "metadata": {},
     "output_type": "execute_result"
    }
   ],
   "source": [
    "is_list(as_list)"
   ]
  },
  {
   "cell_type": "code",
   "execution_count": 10,
   "id": "66932e45-b047-4a97-bc3f-f36fba9d21e5",
   "metadata": {},
   "outputs": [],
   "source": [
    "# Let's create a function that converts a python list to a numpy list"
   ]
  },
  {
   "cell_type": "code",
   "execution_count": 11,
   "id": "28169226-7f89-4031-8c96-bb31333cbe15",
   "metadata": {},
   "outputs": [
    {
     "data": {
      "text/plain": [
       "(numpy.ndarray, numpy.ndarray, numpy.ndarray, numpy.ndarray)"
      ]
     },
     "execution_count": 11,
     "metadata": {},
     "output_type": "execute_result"
    }
   ],
   "source": [
    "# Now let's make sure we have numpy arrays:\n",
    "type(as_0darray), type(as_1darray), type(as_2darray), type(as_ndarray)"
   ]
  },
  {
   "cell_type": "code",
   "execution_count": 12,
   "id": "5ad0daaa-f1d4-4afd-95ef-eb4dc938b3cb",
   "metadata": {},
   "outputs": [
    {
     "data": {
      "text/plain": [
       "((), (4,), (3, 2), (3, 2))"
      ]
     },
     "execution_count": 12,
     "metadata": {},
     "output_type": "execute_result"
    }
   ],
   "source": [
    "# Now let's look at the shape of several numpy arrays\n",
    "as_0darray.shape, as_1darray.shape, as_2darray.shape, as_ndarray.shape"
   ]
  },
  {
   "cell_type": "code",
   "execution_count": 13,
   "id": "5ad8507e-6006-4207-8d79-ff2de513c013",
   "metadata": {},
   "outputs": [],
   "source": [
    "# Create a function turn a 0D array into at least a 1D array\n",
    "def to_numpy(my_0darray):\n",
    "    \"\"\"Creates a numpy array. If 0D array or single value, turns it into a 1D array. \n",
    "    Existing numpy arrays are passed through. Python lists are turned into same dimension numpy arrays.\"\"\"\n",
    "    if type(my_0darray) == np.ndarray and my_0darray.shape == ():\n",
    "        return np.array([my_0darray])\n",
    "    elif type(my_0darray) == int or type(my_0darray) == float:\n",
    "        return np.array([my_0darray])\n",
    "    else:\n",
    "        return np.array(my_0darray)"
   ]
  },
  {
   "cell_type": "markdown",
   "id": "1db39a26-9425-4f05-a560-ecf24191ce56",
   "metadata": {},
   "source": [
    "<span style=\"color: tomato\">**WARNING**:</span> Note that the conditional tests for the shorthand module name *np.ndarray* while type() returns *numpy.ndarray* "
   ]
  },
  {
   "cell_type": "code",
   "execution_count": 14,
   "id": "2e72ef35-82c9-4bb8-a542-8ad243369d85",
   "metadata": {},
   "outputs": [
    {
     "data": {
      "text/plain": [
       "(array([5]),\n",
       " array([5, 2, 3, 4]),\n",
       " array([[10,  1],\n",
       "        [ 1, 10],\n",
       "        [ 2,  5]]),\n",
       " array([[10,  1],\n",
       "        [ 1, 10],\n",
       "        [ 2,  5]]))"
      ]
     },
     "execution_count": 14,
     "metadata": {},
     "output_type": "execute_result"
    }
   ],
   "source": [
    "to_numpy(as_0darray), to_numpy(as_1darray), to_numpy(as_ndarray), to_numpy(as_list)"
   ]
  },
  {
   "cell_type": "code",
   "execution_count": 15,
   "id": "efcd0ea4-1bb3-4b21-aeaf-ee10ac377076",
   "metadata": {},
   "outputs": [
    {
     "data": {
      "text/plain": [
       "((1,), (4,), (3, 2), (3, 2))"
      ]
     },
     "execution_count": 15,
     "metadata": {},
     "output_type": "execute_result"
    }
   ],
   "source": [
    "to_numpy(as_0darray).shape, to_numpy(as_1darray).shape, to_numpy(as_ndarray).shape, to_numpy(as_list).shape"
   ]
  },
  {
   "cell_type": "code",
   "execution_count": 16,
   "id": "dfa307a3-83ac-4e3a-845f-c8b4f6f1b47d",
   "metadata": {},
   "outputs": [
    {
     "data": {
      "text/plain": [
       "(1, 1, 2, 3)"
      ]
     },
     "execution_count": 16,
     "metadata": {},
     "output_type": "execute_result"
    }
   ],
   "source": [
    "# Test if the array is 1D or higher:\n",
    "len(to_numpy(as_0darray).shape), len(to_numpy(as_1darray).shape), len(to_numpy(as_2darray).shape), len(as_list)"
   ]
  },
  {
   "cell_type": "markdown",
   "id": "07c46b48-5074-4067-b414-d554ac1d25f6",
   "metadata": {},
   "source": [
    "<span style=\"color: tomato\">**WARNING**:</span> If you use len() on numpy.ndarray.shape, you get the dimensionality, however, if you use it directly on a python list, you get the size of the list, which is not the same as the list dimension. **FIRST** use to_numpy() to convert to a numpy.ndarray."
   ]
  },
  {
   "cell_type": "code",
   "execution_count": 17,
   "id": "322cc381-8183-4b57-9573-5525e08b13b2",
   "metadata": {},
   "outputs": [],
   "source": [
    "def get_max_dim(values):\n",
    "    #if (type(values) == list) | (type(values) == np.ndarray):\n",
    "    arr = to_numpy(values)\n",
    "    return len(arr)"
   ]
  },
  {
   "cell_type": "code",
   "execution_count": 18,
   "id": "d6bd7e17-9170-4e86-9ead-3a91251f5836",
   "metadata": {},
   "outputs": [
    {
     "data": {
      "text/plain": [
       "3"
      ]
     },
     "execution_count": 18,
     "metadata": {},
     "output_type": "execute_result"
    }
   ],
   "source": [
    "as_float = 10.0\n",
    "as_int = 5\n",
    "as_list = [[10, 1], [1, 10], [2, 5]]\n",
    "\n",
    "as_0darray = np.array(5)\n",
    "as_1darray = np.array([5, 2, 3, 4])\n",
    "as_ndarray = np.array([[10, 1], [1, 10], [2, 5]])\n",
    "\n",
    "get_max_dim(as_ndarray)"
   ]
  },
  {
   "cell_type": "markdown",
   "id": "db409a02-7dbc-4c72-a8b2-d826ba2b3c59",
   "metadata": {},
   "source": [
    "<span style=\"color: orange\">**TODO**:</span> There is an *issue* here with column or row vectors and which direction the data is structured..."
   ]
  },
  {
   "cell_type": "markdown",
   "id": "66e8f1cb-1ba0-432e-9eed-cf15c2d2e577",
   "metadata": {},
   "source": [
    "## Rescale a Value with a New Range\n",
    "Create function that rescales a value that originally lies within a given range to new range. By *default* the new range will be 0 -> 1. If <code>is_strict == True</code>, the function returns the new range min or max value, when the rescaled value occurs out of bounds."
   ]
  },
  {
   "cell_type": "code",
   "execution_count": 19,
   "id": "edf2873a-5f2b-455e-a298-c709a3c908f8",
   "metadata": {},
   "outputs": [],
   "source": [
    "def rescale_value(value, range_min, range_max,\n",
    "                  scale_min = 0.0, scale_max = 1.0, \n",
    "                  is_strictly_bounded: bool = True):\n",
    "    rescaled_value = (value - range_min) / (range_max - range_min) * (scale_max - scale_min) + scale_min \n",
    "    if is_strictly_bounded == True:\n",
    "        rescaled_value = min(scale_max, max(scale_min, rescaled_value))\n",
    "    return rescaled_value"
   ]
  },
  {
   "cell_type": "code",
   "execution_count": 20,
   "id": "75abe72f-5d02-42d7-97b3-95bee6d953a8",
   "metadata": {},
   "outputs": [],
   "source": [
    "# Input values\n",
    "value = 0.5\n",
    "range_min = 0\n",
    "range_max = 1\n",
    "\n",
    "scale_min = 1\n",
    "scale_max = 3\n",
    "\n",
    "is_strictly_bounded = True"
   ]
  },
  {
   "cell_type": "code",
   "execution_count": 21,
   "id": "e3f81415-6010-411b-85d3-8a79da679352",
   "metadata": {},
   "outputs": [
    {
     "data": {
      "text/plain": [
       "2.0"
      ]
     },
     "execution_count": 21,
     "metadata": {},
     "output_type": "execute_result"
    }
   ],
   "source": [
    "# Test function above by changing inputs above\n",
    "rescaled_value = rescale_value(value, range_min, range_max, scale_min, scale_max, is_strictly_bounded)\n",
    "rescaled_value"
   ]
  },
  {
   "cell_type": "code",
   "execution_count": 22,
   "id": "ac7cb5c6-8a05-4b8b-beae-7d473915adb0",
   "metadata": {},
   "outputs": [
    {
     "data": {
      "text/plain": [
       "0.5208728652751421"
      ]
     },
     "execution_count": 22,
     "metadata": {},
     "output_type": "execute_result"
    }
   ],
   "source": [
    "# Input values\n",
    "value = 5.422\n",
    "range_min = 4.324\n",
    "range_max = 6.432\n",
    "\n",
    "# Test with default values\n",
    "new_rescaled_value = rescale_value(value, range_min, range_max)\n",
    "new_rescaled_value"
   ]
  },
  {
   "cell_type": "markdown",
   "id": "d2f35eec-fe0a-4f92-9e04-299274f561de",
   "metadata": {},
   "source": [
    "When determining the area of concrete to a depth of \"c\", the total area is the product of this function (<code>is_strictly_bounded == True</code>) and the area of each individual region. We'll use this function with the *strict bounds* imposed when calculating the net concrete area (see discussion below)"
   ]
  },
  {
   "cell_type": "markdown",
   "id": "436ed5db-dd53-4d72-9466-477ca6ab6132",
   "metadata": {},
   "source": [
    "## Concrete Regions\n",
    "We need a way to input a single width and height (i.e., a single concrete region), or multiple regions. I propose that we require either a list or numpy array for single or multiple region values."
   ]
  },
  {
   "cell_type": "code",
   "execution_count": 23,
   "id": "047e43bb-616e-4912-8429-5ac3a71b7937",
   "metadata": {},
   "outputs": [],
   "source": [
    "# Create a region list and region list as numpy array (most desired)\n",
    "regions_as_numpyarray = np.array([[10, 1], [1, 10], [2, 5]])\n",
    "regions_as_list = [[10, 1], [1, 10], [2, 5]]"
   ]
  },
  {
   "cell_type": "code",
   "execution_count": 24,
   "id": "1419bbfe-ae00-4fee-9d67-0378c296ecf8",
   "metadata": {},
   "outputs": [
    {
     "data": {
      "text/plain": [
       "((3, 2), (3, 2))"
      ]
     },
     "execution_count": 24,
     "metadata": {},
     "output_type": "execute_result"
    }
   ],
   "source": [
    "regions_as_numpyarray.shape, get_list_dimensions(regions_as_list)"
   ]
  },
  {
   "cell_type": "code",
   "execution_count": 25,
   "id": "6e8c88f5-bec4-4cf9-9865-67e251a1bb77",
   "metadata": {},
   "outputs": [
    {
     "data": {
      "text/plain": [
       "(array([[10,  1],\n",
       "        [ 1, 10],\n",
       "        [ 2,  5]]),\n",
       " numpy.ndarray)"
      ]
     },
     "execution_count": 25,
     "metadata": {},
     "output_type": "execute_result"
    }
   ],
   "source": [
    "regions_as_list = to_numpy(regions_as_list)\n",
    "regions_as_list, type(regions_as_list) # Not a list anymore..."
   ]
  },
  {
   "cell_type": "code",
   "execution_count": 26,
   "id": "f76fdbb3-34e0-44bb-85ee-ff62040121e4",
   "metadata": {},
   "outputs": [],
   "source": [
    "# Now, recreate the variables and let's start looking at some important functions\n",
    "concrete_regions = np.array([[10, 1], [1, 10], [2, 5]])\n",
    "concrete_regions_list = [[10, 1], [1, 10], [2, 5]]"
   ]
  },
  {
   "cell_type": "code",
   "execution_count": 27,
   "id": "e4933d42-b1ec-46c0-ad3f-8a8c9932ff9d",
   "metadata": {},
   "outputs": [],
   "source": [
    "# Create a function to determine the number of regions\n",
    "\n",
    "def region_count(concrete_regions):\n",
    "    return to_numpy(concrete_regions).shape[0]"
   ]
  },
  {
   "cell_type": "code",
   "execution_count": 28,
   "id": "928baa83-5557-4850-b10e-182943ac2e53",
   "metadata": {},
   "outputs": [
    {
     "data": {
      "text/plain": [
       "(3, 3)"
      ]
     },
     "execution_count": 28,
     "metadata": {},
     "output_type": "execute_result"
    }
   ],
   "source": [
    "region_count(concrete_regions), region_count(concrete_regions_list)"
   ]
  },
  {
   "cell_type": "markdown",
   "id": "bdccc6ab-3a32-4cf7-9036-5bf373a8e0bb",
   "metadata": {},
   "source": [
    "## Concrete Region Heights\n",
    "Need a function to take the individual region heights and create a \"distance to region boundary\" array. Also if <code>get_max == True</code> then it returns the *max* or *total* height of the section. **NOTE** by default <code>c == math.inf</code>, which means the max height will be returned if <code>get_max == True</code>, otherwise with other values of c, the effective height would be returned.\n",
    "\n",
    "By default (<code>lower_bound = False</code>) means that the returned *heights* array gives the upper_bound height values."
   ]
  },
  {
   "cell_type": "code",
   "execution_count": 29,
   "id": "7f137169-2354-48d2-bd08-8c69798f8361",
   "metadata": {},
   "outputs": [],
   "source": [
    "def get_region_heights(concrete_regions):\n",
    "    concrete_regions = to_numpy(concrete_regions)\n",
    "    count = region_count(concrete_regions)\n",
    "    heights = np.zeros(count)\n",
    "    running_total = 0\n",
    "    for i in range(count):\n",
    "        running_total += concrete_regions[i][1]\n",
    "        heights[i] = running_total\n",
    "    return heights"
   ]
  },
  {
   "cell_type": "code",
   "execution_count": 30,
   "id": "2f02ef1d-c555-4ccf-9072-7a7fa92afc0e",
   "metadata": {},
   "outputs": [],
   "source": [
    "def get_max_height(concrete_regions):\n",
    "    return max(get_region_heights(concrete_regions))"
   ]
  },
  {
   "cell_type": "code",
   "execution_count": 31,
   "id": "27d20a79-7abc-439b-a957-0620d631a48b",
   "metadata": {},
   "outputs": [],
   "source": [
    "def get_lower_bound_region_heights(concrete_regions):\n",
    "    concrete_regions = to_numpy(concrete_regions)\n",
    "    count = region_count(concrete_regions)\n",
    "    heights = np.zeros(count)\n",
    "    running_total = 0\n",
    "    for i in range(1, count):\n",
    "        running_total += concrete_regions[i-1][1]\n",
    "        heights[i] = running_total\n",
    "    return heights"
   ]
  },
  {
   "cell_type": "code",
   "execution_count": 32,
   "id": "cc3790f3-faf2-4541-8c18-16e486bf82e8",
   "metadata": {},
   "outputs": [
    {
     "data": {
      "text/plain": [
       "array([ 1., 11., 16.])"
      ]
     },
     "execution_count": 32,
     "metadata": {},
     "output_type": "execute_result"
    }
   ],
   "source": [
    "heights = get_region_heights(concrete_regions)\n",
    "heights"
   ]
  },
  {
   "cell_type": "code",
   "execution_count": 33,
   "id": "059eb95e-80a4-45d8-8718-494ef968f5fa",
   "metadata": {},
   "outputs": [
    {
     "data": {
      "text/plain": [
       "16.0"
      ]
     },
     "execution_count": 33,
     "metadata": {},
     "output_type": "execute_result"
    }
   ],
   "source": [
    "total_height = get_max_height(concrete_regions)\n",
    "total_height"
   ]
  },
  {
   "cell_type": "code",
   "execution_count": 34,
   "id": "bc54fd7a-12b9-41d5-a61c-c6acb45ccb02",
   "metadata": {},
   "outputs": [
    {
     "data": {
      "text/plain": [
       "array([ 0.,  1., 11.])"
      ]
     },
     "execution_count": 34,
     "metadata": {},
     "output_type": "execute_result"
    }
   ],
   "source": [
    "lbound_heights = get_lower_bound_region_heights(concrete_regions)\n",
    "lbound_heights"
   ]
  },
  {
   "cell_type": "markdown",
   "id": "4906aac1-44c9-43f8-aff7-ccebc6658259",
   "metadata": {},
   "source": [
    "Need to modify the above function to accept different c values. Maybe we can use **rescale_value()** to assist in the process"
   ]
  },
  {
   "cell_type": "code",
   "execution_count": 35,
   "id": "44d15537-b9b6-46f8-b456-0cc3169ed25d",
   "metadata": {},
   "outputs": [],
   "source": [
    "def get_region(c, heights):\n",
    "    region = 0\n",
    "    for i in range(heights.shape[0]):\n",
    "        if c <= heights[i]:\n",
    "            region = i\n",
    "            break\n",
    "        elif c >= max(heights):\n",
    "            region = heights.shape[0] - 1\n",
    "    return region"
   ]
  },
  {
   "cell_type": "markdown",
   "id": "b143c3e8-2ff3-454c-8bab-cc82915900a7",
   "metadata": {},
   "source": [
    "**TEST** Create some test values for \"c\" and test out *get_regions()*"
   ]
  },
  {
   "cell_type": "code",
   "execution_count": 36,
   "id": "5683a352-0efa-4244-be13-6fd005507ee1",
   "metadata": {},
   "outputs": [
    {
     "name": "stdout",
     "output_type": "stream",
     "text": [
      " n  reg      val     ub     lb\n",
      "------------------------------\n",
      " 0    0     -inf    1.0    0.0\n",
      " 1    0       -1    1.0    0.0\n",
      " 2    0        0    1.0    0.0\n",
      " 3    0     0.25    1.0    0.0\n",
      " 4    0        1    1.0    0.0\n",
      " 5    1     1.23   11.0    1.0\n",
      " 6    1        4   11.0    1.0\n",
      " 7    1     10.5   11.0    1.0\n",
      " 8    1       11   11.0    1.0\n",
      " 9    2     11.5   16.0   11.0\n",
      "10    2       15   16.0   11.0\n",
      "11    2       16   16.0   11.0\n",
      "12    2    10000   16.0   11.0\n",
      "13    2      inf   16.0   11.0\n"
     ]
    }
   ],
   "source": [
    "cs = [-math.inf, -1, 0, 0.25, 1, 1.23, 4, 10.5, 11, 11.5, 15, 16, 10000, math.inf]\n",
    "\n",
    "print(\"n\".rjust(2, \" \"), \"reg\".rjust(4,\" \"),\"val\".rjust(8,\" \"), \"ub\".rjust(6, \" \"), \"lb\".rjust(6, \" \"))\n",
    "print(\"-\"*30)\n",
    "for i in range(len(cs)):\n",
    "    print(str(i).rjust(2,\" \"), \n",
    "          str(get_region(cs[i], heights)).rjust(4,\" \"), \n",
    "          str(cs[i]).rjust(8,\" \"), \n",
    "          str(heights[get_region(cs[i], heights)]).rjust(6,\" \"),\n",
    "          str(lbound_heights[get_region(cs[i], heights)]).rjust(6,\" \"))"
   ]
  },
  {
   "cell_type": "markdown",
   "id": "fbeb1508-714c-454d-8411-91479fd9b22f",
   "metadata": {},
   "source": [
    "<span style=\"color: dodgerblue\">**NOTE**:</span>\n",
    "1. Regions are counted from zero\n",
    "2. The *get_region()* function returns *region 0* for values that are out of bounds (c < 0) and returns *region n* for values out of bounds beyond the max_height.\n",
    "3. The upper bound height of a region is inclusive in that region, and exclusive (as lower-bound) in the next region"
   ]
  },
  {
   "cell_type": "code",
   "execution_count": 37,
   "id": "6c9a89bd-5b23-4f56-8ac8-678231f1270c",
   "metadata": {},
   "outputs": [],
   "source": [
    "# Create a function to get the distance relative to the lower-bound of a region. Make sure the result is minimum 0.\n",
    "# -----------------------------------------------------------------------------------------------------------------\n",
    "# 1. Determine the region\n",
    "# 2. Get the lower bound value for that region\n",
    "# 3. Subtract c from the lower bound\n",
    "# 4. Return the max of 0 or the subtraction\n",
    "# 5. Make sure positive infinity doesn't blow it out"
   ]
  },
  {
   "cell_type": "code",
   "execution_count": 38,
   "id": "689bf1f9-97b9-48fa-b1d0-c698c035e27f",
   "metadata": {},
   "outputs": [
    {
     "data": {
      "text/plain": [
       "16.0"
      ]
     },
     "execution_count": 38,
     "metadata": {},
     "output_type": "execute_result"
    }
   ],
   "source": [
    "c = math.inf\n",
    "region = get_region(c, get_region_heights(concrete_regions))\n",
    "lower_bound = get_lower_bound_region_heights(concrete_regions)[region]\n",
    "min(max(0, c - lower_bound), get_max_height(concrete_regions))"
   ]
  },
  {
   "cell_type": "code",
   "execution_count": 39,
   "id": "d5514b90-b69a-4a31-b9e1-3df1c3ee60f9",
   "metadata": {},
   "outputs": [],
   "source": [
    "def get_distance_into_region(c, concrete_regions):\n",
    "    region = get_region(c, get_region_heights(concrete_regions))\n",
    "    lower_bound = get_lower_bound_region_heights(concrete_regions)[region]\n",
    "    return min(max(0, c - lower_bound), get_max_height(concrete_regions))"
   ]
  },
  {
   "cell_type": "code",
   "execution_count": 40,
   "id": "487b0ea7-0c49-4128-8bfd-d45a7977942a",
   "metadata": {},
   "outputs": [
    {
     "data": {
      "text/plain": [
       "array([[10. ,  1. ],\n",
       "       [ 7. ,  2. ],\n",
       "       [ 1. , 11. ],\n",
       "       [ 8. ,  2.5]])"
      ]
     },
     "execution_count": 40,
     "metadata": {},
     "output_type": "execute_result"
    }
   ],
   "source": [
    "# Create some new values for testing\n",
    "new_c = math.inf\n",
    "new_concrete_regions = [[10,1],[7,2],[1,11],[8,2.5]]\n",
    "to_numpy(new_concrete_regions)"
   ]
  },
  {
   "cell_type": "code",
   "execution_count": 41,
   "id": "7f9f5250-80da-4a60-b845-328c40d95cad",
   "metadata": {},
   "outputs": [
    {
     "data": {
      "text/plain": [
       "array([ 1. ,  3. , 14. , 16.5])"
      ]
     },
     "execution_count": 41,
     "metadata": {},
     "output_type": "execute_result"
    }
   ],
   "source": [
    "# Take a look at the heights array:\n",
    "get_region_heights(new_concrete_regions)"
   ]
  },
  {
   "cell_type": "code",
   "execution_count": 42,
   "id": "8615b390-cd50-47d3-8a19-bc28146c3af8",
   "metadata": {},
   "outputs": [
    {
     "data": {
      "text/plain": [
       "16.5"
      ]
     },
     "execution_count": 42,
     "metadata": {},
     "output_type": "execute_result"
    }
   ],
   "source": [
    "dist = get_distance_into_region(new_c, new_concrete_regions)\n",
    "dist"
   ]
  },
  {
   "cell_type": "markdown",
   "id": "9780c027-b12e-447a-a83b-f324a65f60bd",
   "metadata": {},
   "source": [
    "<span style=\"color: dodgerblue\">**NOTE**:</span> we can probably combine two functions by putting the default c value to *math.inf* to get the max height of the section\n",
    "\n",
    "\n",
    "<span style=\"color: orange\">**TODO**:</span> Clean up or combine functions."
   ]
  },
  {
   "cell_type": "markdown",
   "id": "7233a7b8-f220-46e6-b0cc-b1a6c1a88db9",
   "metadata": {},
   "source": [
    "## Concrete Region Areas"
   ]
  },
  {
   "cell_type": "markdown",
   "id": "eb29a1b2-cf6a-48c0-a808-6340de194e5a",
   "metadata": {},
   "source": [
    "Create a function to return the areas of each region as a numpy array."
   ]
  },
  {
   "cell_type": "code",
   "execution_count": 43,
   "id": "f33b5512-3ac3-4c18-8e9d-457eb1e0af75",
   "metadata": {},
   "outputs": [],
   "source": [
    "def region_areas(concrete_regions, c = math.inf, get_total: bool = False):\n",
    "    concrete_regions = to_numpy(concrete_regions)\n",
    "    count = region_count(concrete_regions)\n",
    "    areas = np.zeros(count)\n",
    "    for i in range(0, count):\n",
    "        areas[i] = concrete_regions[i][0] * concrete_regions[i][1]\n",
    "    return areas if get_total == False else sum(areas)"
   ]
  },
  {
   "cell_type": "code",
   "execution_count": 44,
   "id": "09368979-5095-4a0b-8b33-53e8ed57c4a1",
   "metadata": {},
   "outputs": [],
   "source": [
    "# Create new array of regions for testing\n",
    "concrete_regions = [[8, 1], [1, 6], [7, 1]]"
   ]
  },
  {
   "cell_type": "code",
   "execution_count": 45,
   "id": "5aa712db-dfb0-4954-8a4c-48cd2781a793",
   "metadata": {},
   "outputs": [
    {
     "data": {
      "text/plain": [
       "array([8., 6., 7.])"
      ]
     },
     "execution_count": 45,
     "metadata": {},
     "output_type": "execute_result"
    }
   ],
   "source": [
    "# Return a numpy array of the areas of each region\n",
    "areas = region_areas(concrete_regions)\n",
    "areas"
   ]
  },
  {
   "cell_type": "code",
   "execution_count": 46,
   "id": "34848958-48c3-4d57-b5fd-ae4cd1638b50",
   "metadata": {},
   "outputs": [
    {
     "data": {
      "text/plain": [
       "array([8., 6., 7.])"
      ]
     },
     "execution_count": 46,
     "metadata": {},
     "output_type": "execute_result"
    }
   ],
   "source": [
    "# This time return the total area of all the regions using the same function\n",
    "\n",
    "total_area = region_areas(concrete_regions, True)\n",
    "total_area"
   ]
  },
  {
   "cell_type": "markdown",
   "id": "3b9b937f-88f7-4e60-9c90-71920c900c44",
   "metadata": {},
   "source": [
    "### Create function to return array with lower and upper bounds of each region"
   ]
  },
  {
   "cell_type": "code",
   "execution_count": 47,
   "id": "e3d1760e-d1e2-4ebd-b634-8f3e186581ed",
   "metadata": {},
   "outputs": [],
   "source": [
    "def get_region_height_bounds(concrete_regions):\n",
    "    concrete_regions = to_numpy(concrete_regions)\n",
    "    count = region_count(concrete_regions)\n",
    "    heights = np.zeros((count, 2))\n",
    "    running_total = 0\n",
    "    for i in range(count):\n",
    "        heights[i,0] = running_total\n",
    "        running_total += concrete_regions[i][1]\n",
    "        heights[i,1] = running_total\n",
    "    return heights"
   ]
  },
  {
   "cell_type": "code",
   "execution_count": 48,
   "id": "73078ac1-da9b-4826-a878-d87502f6fedb",
   "metadata": {},
   "outputs": [
    {
     "data": {
      "text/plain": [
       "array([[0., 1.],\n",
       "       [1., 7.],\n",
       "       [7., 8.]])"
      ]
     },
     "execution_count": 48,
     "metadata": {},
     "output_type": "execute_result"
    }
   ],
   "source": [
    "region_bounds = get_region_height_bounds(concrete_regions)\n",
    "region_bounds"
   ]
  },
  {
   "cell_type": "code",
   "execution_count": 49,
   "id": "10d330ff-7bae-49bc-9a8e-682ede7edef8",
   "metadata": {},
   "outputs": [],
   "source": [
    "c = 4\n",
    "areas = region_areas(concrete_regions)"
   ]
  },
  {
   "cell_type": "code",
   "execution_count": 50,
   "id": "db1cdd69-3961-48aa-a638-781537c459ac",
   "metadata": {},
   "outputs": [
    {
     "name": "stdout",
     "output_type": "stream",
     "text": [
      " 1.0   8.0\n",
      " 0.5   3.0\n",
      " 0.0   0.0\n"
     ]
    }
   ],
   "source": [
    "# Review how deep \"c\" goes into each region, then calculate the net area using rescale\n",
    "for i in range(region_bounds.shape[0]):\n",
    "    print(str(rescale_value(c, region_bounds[i][0], region_bounds[i][1])).rjust(4,\" \"), \n",
    "          str(rescale_value(c, region_bounds[i][0], region_bounds[i][1])*areas[i]).rjust(5, \" \")) "
   ]
  },
  {
   "cell_type": "code",
   "execution_count": 51,
   "id": "f697a6ed-e408-4e6c-87b9-c105591eb057",
   "metadata": {},
   "outputs": [],
   "source": [
    "# Revise the original function to calculate net area:\n",
    "\n",
    "def region_areas_net(concrete_regions, c = math.inf, get_total: bool = False):\n",
    "    concrete_regions = to_numpy(concrete_regions)\n",
    "    region_bounds = get_region_height_bounds(concrete_regions)\n",
    "    count = concrete_regions.shape[0]\n",
    "    areas = np.zeros(count)\n",
    "    for i in range(0, count):\n",
    "        areas[i] = concrete_regions[i][0] * concrete_regions[i][1] * rescale_value(c, region_bounds[i][0], region_bounds[i][1])\n",
    "    return areas if get_total == False else sum(areas)"
   ]
  },
  {
   "cell_type": "code",
   "execution_count": 52,
   "id": "e3ac373a-83a3-42b3-9c20-58aa52fe77c0",
   "metadata": {},
   "outputs": [
    {
     "data": {
      "text/plain": [
       "array([8., 3., 0.])"
      ]
     },
     "execution_count": 52,
     "metadata": {},
     "output_type": "execute_result"
    }
   ],
   "source": [
    "c = 4\n",
    "new_areas = region_areas_net(concrete_regions, c, get_total = False)\n",
    "new_areas"
   ]
  },
  {
   "cell_type": "code",
   "execution_count": 53,
   "id": "c371a1ce-03b3-4096-adb1-bdf586362add",
   "metadata": {},
   "outputs": [
    {
     "data": {
      "text/plain": [
       "11.0"
      ]
     },
     "execution_count": 53,
     "metadata": {},
     "output_type": "execute_result"
    }
   ],
   "source": [
    "total_new_area = region_areas_net(concrete_regions, c, get_total = True)\n",
    "total_new_area"
   ]
  },
  {
   "cell_type": "markdown",
   "id": "c52e430d-db97-44e4-8115-84ff23e7769d",
   "metadata": {},
   "source": [
    "## Get Centroid of Net Area\n",
    "We need a function that will provide the centroid of the net-section (i.e., when c < max_height)"
   ]
  },
  {
   "cell_type": "code",
   "execution_count": 54,
   "id": "7ca0c63e-d320-48e3-9cc0-f45ff14b71dd",
   "metadata": {},
   "outputs": [],
   "source": [
    "concrete_regions = [[10, 1],[1, 5],[10, 1]]"
   ]
  },
  {
   "cell_type": "code",
   "execution_count": 55,
   "id": "6e93a6da-c32d-4d73-8159-9b5f0c9b9376",
   "metadata": {},
   "outputs": [],
   "source": [
    "def get_region_thicknesses(concrete_regions):\n",
    "    concrete_regions = to_numpy(concrete_regions)\n",
    "    return concrete_regions[:, 1]"
   ]
  },
  {
   "cell_type": "code",
   "execution_count": 56,
   "id": "9039ac74-76fe-4c9e-91b5-fe8fa402c5db",
   "metadata": {},
   "outputs": [
    {
     "data": {
      "text/plain": [
       "(array([1, 5, 1]), 3, 3)"
      ]
     },
     "execution_count": 56,
     "metadata": {},
     "output_type": "execute_result"
    }
   ],
   "source": [
    "thicknesses = get_region_thicknesses(concrete_regions)\n",
    "thicknesses, thicknesses.shape[0], len(thicknesses)"
   ]
  },
  {
   "cell_type": "code",
   "execution_count": 57,
   "id": "4d0cb593-c493-41ec-aff3-7564fa8f2353",
   "metadata": {},
   "outputs": [
    {
     "data": {
      "text/plain": [
       "array([10.,  5., 10.])"
      ]
     },
     "execution_count": 57,
     "metadata": {},
     "output_type": "execute_result"
    }
   ],
   "source": [
    "c = math.inf\n",
    "areas = region_areas_net(concrete_regions, c, get_total = False)\n",
    "areas"
   ]
  },
  {
   "cell_type": "code",
   "execution_count": 58,
   "id": "76b18026-018d-42ed-a6fc-82dae4a5ccd9",
   "metadata": {},
   "outputs": [
    {
     "data": {
      "text/plain": [
       "array([0., 1., 6.])"
      ]
     },
     "execution_count": 58,
     "metadata": {},
     "output_type": "execute_result"
    }
   ],
   "source": [
    "lower_bounds = get_lower_bound_region_heights(concrete_regions)\n",
    "lower_bounds"
   ]
  },
  {
   "cell_type": "code",
   "execution_count": 59,
   "id": "fbac6784-30b5-4fdf-8972-162ff81c7b39",
   "metadata": {
    "scrolled": true
   },
   "outputs": [
    {
     "name": "stdout",
     "output_type": "stream",
     "text": [
      "0 0.5 10.0 5.0\n",
      "1 3.5 5.0 22.5\n",
      "2 6.5 10.0 87.5\n"
     ]
    },
    {
     "data": {
      "text/plain": [
       "3.5"
      ]
     },
     "execution_count": 59,
     "metadata": {},
     "output_type": "execute_result"
    }
   ],
   "source": [
    "moment = 0\n",
    "area = 0\n",
    "for i in range(thicknesses.shape[0]):\n",
    "    dist_to_cg = lower_bounds[i] + thicknesses[i] * 0.5\n",
    "    area += areas[i]\n",
    "    moment += dist_to_cg * areas[i]\n",
    "    print(i, dist_to_cg, areas[i], moment)\n",
    "if area == 0:\n",
    "    distance = 0\n",
    "else:\n",
    "    distance = moment / area\n",
    "distance"
   ]
  },
  {
   "cell_type": "code",
   "execution_count": 60,
   "id": "85034aff-95ad-49fb-a4fd-07c23684b78d",
   "metadata": {},
   "outputs": [],
   "source": [
    "# Create function; default c = math.inf for full section centroid."
   ]
  },
  {
   "cell_type": "code",
   "execution_count": 61,
   "id": "376120e7-b2b4-457c-8d72-919fa60d2847",
   "metadata": {},
   "outputs": [],
   "source": [
    "def get_distance_to_net_centroid(concrete_regions, c = math.inf):\n",
    "    concrete_regions = to_numpy(concrete_regions)\n",
    "    thicknesses = get_region_thicknesses(concrete_regions)\n",
    "    areas = region_areas_net(concrete_regions, c, get_total = False)\n",
    "    lower_bounds = get_lower_bound_region_heights(concrete_regions)\n",
    "    moment = 0\n",
    "    area = 0\n",
    "    for i in range(thicknesses.shape[0]):\n",
    "        dist_to_cg = lower_bounds[i] + thicknesses[i] * 0.5\n",
    "        area += areas[i]\n",
    "        moment += dist_to_cg * areas[i]\n",
    "    if area == 0:\n",
    "        return 0\n",
    "    else:\n",
    "        return moment / area"
   ]
  },
  {
   "cell_type": "code",
   "execution_count": 63,
   "id": "2cc7fda7-dbc6-4e5f-960c-bdfd450ccb11",
   "metadata": {},
   "outputs": [
    {
     "data": {
      "text/plain": [
       "3.5"
      ]
     },
     "execution_count": 63,
     "metadata": {},
     "output_type": "execute_result"
    }
   ],
   "source": [
    "dist_to_cg = get_distance_to_net_centroid(concrete_regions, c)\n",
    "dist_to_cg"
   ]
  },
  {
   "cell_type": "markdown",
   "id": "7c2188b8-12bb-4591-9e97-6615226c0893",
   "metadata": {},
   "source": [
    "## <span style=\"color: orange\">**TODO**:</span>"
   ]
  },
  {
   "cell_type": "markdown",
   "id": "328c2409-5ed7-47ae-be47-e1a5ac41206e",
   "metadata": {},
   "source": [
    "1. Verify centroid functionality on ConcreteSection\n",
    "2. Net moment of inertia - is it necessary\n",
    "4. Impliment with ConcreteSection"
   ]
  }
 ],
 "metadata": {
  "kernelspec": {
   "display_name": "Python 3 (ipykernel)",
   "language": "python",
   "name": "python3"
  },
  "language_info": {
   "codemirror_mode": {
    "name": "ipython",
    "version": 3
   },
   "file_extension": ".py",
   "mimetype": "text/x-python",
   "name": "python",
   "nbconvert_exporter": "python",
   "pygments_lexer": "ipython3",
   "version": "3.10.5"
  }
 },
 "nbformat": 4,
 "nbformat_minor": 5
}

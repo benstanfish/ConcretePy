{
 "cells": [
  {
   "cell_type": "markdown",
   "id": "2372788f-3b08-454c-ab2d-e35e08688609",
   "metadata": {},
   "source": [
    "# Module Test Template"
   ]
  },
  {
   "cell_type": "markdown",
   "id": "a395232d-f76a-449e-be1b-0446afeed13d",
   "metadata": {},
   "source": [
    "## Module & Test Description"
   ]
  },
  {
   "cell_type": "markdown",
   "id": "439a0cb0-2595-44bc-97fa-943fa9bc0e19",
   "metadata": {},
   "source": [
    "Design and testing functions relating to areas and centroids of complex concrete regions. Finally, we'll recreate the ConcreteSection class."
   ]
  },
  {
   "cell_type": "markdown",
   "id": "56b56077-38d6-40b6-864f-6acc86d6d99d",
   "metadata": {},
   "source": [
    "### Imports\n",
    "##### General Imports"
   ]
  },
  {
   "cell_type": "code",
   "execution_count": 1,
   "id": "5479e169-7452-45d0-aa9c-e470d4df98ea",
   "metadata": {},
   "outputs": [],
   "source": [
    "import os, sys, pathlib\n",
    "import numpy as np\n",
    "import pandas as pd\n",
    "import matplotlib.pyplot as plt\n",
    "import scipy as sc\n",
    "import shapely as sh"
   ]
  },
  {
   "cell_type": "code",
   "execution_count": 2,
   "id": "1787c5a5-2da9-48bb-a06a-db54aab548a4",
   "metadata": {},
   "outputs": [],
   "source": [
    "import math"
   ]
  },
  {
   "cell_type": "markdown",
   "id": "7757166a-bb74-4490-91d6-a6b4100ba823",
   "metadata": {},
   "source": [
    "##### Extend PYPATH to current folder:\n",
    "This allows importing libraries from the same folder; <code>pathlib.Path().resolve()</code> returns the path of the current directory."
   ]
  },
  {
   "cell_type": "code",
   "execution_count": 3,
   "id": "1454a3e7-7240-479e-a935-30b92001f476",
   "metadata": {},
   "outputs": [],
   "source": [
    "sys.path.extend([pathlib.Path().resolve()])"
   ]
  },
  {
   "cell_type": "markdown",
   "id": "9d8241f1-bc56-476c-adb8-18059b758262",
   "metadata": {},
   "source": [
    "Import specific testing modules:"
   ]
  },
  {
   "cell_type": "code",
   "execution_count": null,
   "id": "b75c88e5-46c9-4d66-909e-c7d53835c860",
   "metadata": {},
   "outputs": [],
   "source": []
  },
  {
   "cell_type": "markdown",
   "id": "66e8f1cb-1ba0-432e-9eed-cf15c2d2e577",
   "metadata": {},
   "source": [
    "### Input the regions into a *cross-section* array"
   ]
  },
  {
   "cell_type": "code",
   "execution_count": 4,
   "id": "e2a1781d-4f56-4696-9063-aaf251b50318",
   "metadata": {},
   "outputs": [
    {
     "data": {
      "text/plain": [
       "array([[140,  14],\n",
       "       [ 14, 360],\n",
       "       [ 24,  24]])"
      ]
     },
     "execution_count": 4,
     "metadata": {},
     "output_type": "execute_result"
    }
   ],
   "source": [
    "# The cross-section will be arrays of [width, height]\n",
    "region_1 = [140, 14]\n",
    "region_2 = [14, 360]\n",
    "region_3 = [24, 24]\n",
    "\n",
    "# Load up each region into an array\n",
    "cross_section = np.array([region_1, region_2, region_3])\n",
    "cross_section"
   ]
  },
  {
   "cell_type": "code",
   "execution_count": 5,
   "id": "df2d1d89-d052-4337-bda5-fe0502466130",
   "metadata": {},
   "outputs": [
    {
     "data": {
      "text/plain": [
       "(array([140,  14,  24]), array([ 14, 360,  24]))"
      ]
     },
     "execution_count": 5,
     "metadata": {},
     "output_type": "execute_result"
    }
   ],
   "source": [
    "# Slicing array columns into width and height arrays\n",
    "widths = cross_section[:,0]\n",
    "heights = cross_section[:,1]\n",
    "widths, heights"
   ]
  },
  {
   "cell_type": "code",
   "execution_count": 6,
   "id": "46f53289-c399-4604-ad82-b78c320e649d",
   "metadata": {},
   "outputs": [],
   "source": [
    "# Create function to return the width and height arrays\n",
    "def get_width_and_height_arrays(cross_section):\n",
    "    widths = cross_section[:,0]\n",
    "    heights = cross_section[:,1]\n",
    "    return widths, heights"
   ]
  },
  {
   "cell_type": "code",
   "execution_count": 7,
   "id": "88c66417-2dbe-4cde-9b2e-7e40c26c8f09",
   "metadata": {},
   "outputs": [
    {
     "data": {
      "text/plain": [
       "(array([140,  14,  24]), array([ 14, 360,  24]))"
      ]
     },
     "execution_count": 7,
     "metadata": {},
     "output_type": "execute_result"
    }
   ],
   "source": [
    "widths, heights = get_width_and_height_arrays(cross_section)\n",
    "widths, heights"
   ]
  },
  {
   "cell_type": "markdown",
   "id": "7b954d15-720c-421f-8ff2-fcf16dcdb3cc",
   "metadata": {},
   "source": [
    "We need a way to create an array where each index is the sum of previous terms with the current term:"
   ]
  },
  {
   "cell_type": "code",
   "execution_count": 8,
   "id": "bcb572c1-c2ed-4b27-99fd-ef174161cd0d",
   "metadata": {},
   "outputs": [
    {
     "data": {
      "text/plain": [
       "array([ 14., 374., 398.])"
      ]
     },
     "execution_count": 8,
     "metadata": {},
     "output_type": "execute_result"
    }
   ],
   "source": [
    "sum_array_thru_index = np.zeros(heights.shape[0])\n",
    "for i in range(sum_array_thru_index.shape[0]):\n",
    "    sum_array_thru_index[i] = np.sum(heights[0:i + 1])\n",
    "sum_array_thru_index"
   ]
  },
  {
   "cell_type": "markdown",
   "id": "506431f0-c2d3-4c62-be23-8c141c54b327",
   "metadata": {},
   "source": [
    "Similarly, we need a way to create an area for the sum of previous terms, without the current term value:"
   ]
  },
  {
   "cell_type": "code",
   "execution_count": 9,
   "id": "99e5cf4e-81e0-4b84-a7b4-339f9c57574a",
   "metadata": {},
   "outputs": [
    {
     "data": {
      "text/plain": [
       "array([  0.,  14., 374.])"
      ]
     },
     "execution_count": 9,
     "metadata": {},
     "output_type": "execute_result"
    }
   ],
   "source": [
    "sum_array_to_index = np.zeros(heights.shape[0])\n",
    "for i in range(1, sum_array_to_index.shape[0]):\n",
    "    sum_array_to_index[i] = np.sum(heights[0:i])\n",
    "sum_array_to_index"
   ]
  },
  {
   "cell_type": "markdown",
   "id": "be1ab7e4-03cb-41bd-a1e4-8c99092af1b1",
   "metadata": {},
   "source": [
    "$ T_n = \\displaystyle\\sum_{i=1}^{n}k = 1 + 2 + 3 + 4 + \\ldots + n $ are called **triangular numbers** --- because we are doing a triangular sum of the indicies, so to speak, perhaps we can honor the function with this name...    "
   ]
  },
  {
   "cell_type": "code",
   "execution_count": 10,
   "id": "8840c7f2-b73a-4ca1-b004-3e8f818a9ff1",
   "metadata": {},
   "outputs": [],
   "source": [
    "def get_triangular_sum(a_vector, include_current_index: bool = True):\n",
    "    sum_array = np.zeros(a_vector.shape[0])\n",
    "    if include_current_index:\n",
    "        for i in range(sum_array.shape[0]):\n",
    "            sum_array[i] = np.sum(a_vector[0:i + 1])\n",
    "    else:\n",
    "        for i in range(1, sum_array.shape[0]):\n",
    "            sum_array[i] = np.sum(a_vector[0:i])     \n",
    "    return sum_array"
   ]
  },
  {
   "cell_type": "code",
   "execution_count": 11,
   "id": "d17800bf-013c-4632-9ff3-dd5d54bcceea",
   "metadata": {},
   "outputs": [
    {
     "data": {
      "text/plain": [
       "array([  0.,  14., 374.])"
      ]
     },
     "execution_count": 11,
     "metadata": {},
     "output_type": "execute_result"
    }
   ],
   "source": [
    "lower_bound = get_triangular_sum(heights, include_current_index = False)\n",
    "lower_bound"
   ]
  },
  {
   "cell_type": "code",
   "execution_count": 12,
   "id": "ff06fb18-6958-427c-ba80-dc7ee87ebe0b",
   "metadata": {},
   "outputs": [
    {
     "data": {
      "text/plain": [
       "array([ 14., 374., 398.])"
      ]
     },
     "execution_count": 12,
     "metadata": {},
     "output_type": "execute_result"
    }
   ],
   "source": [
    "upper_bound = get_triangular_sum(heights, include_current_index = True)\n",
    "upper_bound"
   ]
  },
  {
   "cell_type": "markdown",
   "id": "39ef6756-93f0-47c3-9447-39fc3bea4ee3",
   "metadata": {},
   "source": [
    "#### Total Height\n",
    "Finally, we need a way to get the total height from the heights array"
   ]
  },
  {
   "cell_type": "code",
   "execution_count": 13,
   "id": "1cce65c3-13f7-4e26-9316-afc527fe27f6",
   "metadata": {},
   "outputs": [],
   "source": [
    "def get_total_height(heights):\n",
    "    return sum(heights)"
   ]
  },
  {
   "cell_type": "code",
   "execution_count": 14,
   "id": "8de07d73-2cf9-4b38-aa25-6f1f6d690247",
   "metadata": {},
   "outputs": [
    {
     "data": {
      "text/plain": [
       "398"
      ]
     },
     "execution_count": 14,
     "metadata": {},
     "output_type": "execute_result"
    }
   ],
   "source": [
    "total_height = get_total_height(heights)\n",
    "total_height"
   ]
  },
  {
   "cell_type": "markdown",
   "id": "57c7ad27-aee0-45d3-9ef6-4297902ed232",
   "metadata": {},
   "source": [
    "### Get Total Area and Center of Gravity"
   ]
  },
  {
   "cell_type": "code",
   "execution_count": 15,
   "id": "4775f7d6-a090-442c-b273-b757dfc04dc3",
   "metadata": {},
   "outputs": [
    {
     "data": {
      "text/plain": [
       "7576"
      ]
     },
     "execution_count": 15,
     "metadata": {},
     "output_type": "execute_result"
    }
   ],
   "source": [
    "# Let's get the total area\n",
    "total_area = 0\n",
    "for i in range(cross_section.shape[0]):\n",
    "    total_area += cross_section[i][0] * cross_section[i][1]\n",
    "total_area"
   ]
  },
  {
   "cell_type": "code",
   "execution_count": 16,
   "id": "56cc2819-9239-4755-8b4e-d7ec5ac0e137",
   "metadata": {},
   "outputs": [],
   "source": [
    "# Convert this to a function\n",
    "def get_total_area(cross_section: np.array):\n",
    "    total_area = 0\n",
    "    for i in range(cross_section.shape[0]):\n",
    "        total_area += cross_section[i][0] * cross_section[i][1]\n",
    "    return total_area"
   ]
  },
  {
   "cell_type": "code",
   "execution_count": 17,
   "id": "b0c55a95-d203-4168-b504-96d0f6d8e118",
   "metadata": {},
   "outputs": [
    {
     "data": {
      "text/plain": [
       "7576"
      ]
     },
     "execution_count": 17,
     "metadata": {},
     "output_type": "execute_result"
    }
   ],
   "source": [
    "# Test the new function\n",
    "test_total_area = get_total_area(cross_section)\n",
    "test_total_area"
   ]
  },
  {
   "cell_type": "markdown",
   "id": "154535cd-9893-46c5-952b-1ccc74eda628",
   "metadata": {},
   "source": [
    "### Distance to Centroid from Edge of Section"
   ]
  },
  {
   "cell_type": "code",
   "execution_count": 18,
   "id": "1b3acfec-7438-491b-9321-b9cab7ec9b94",
   "metadata": {},
   "outputs": [],
   "source": [
    "def get_centroid_distance(cross_section):\n",
    "    widths, heights = get_width_and_height_arrays(cross_section)\n",
    "    total_area = get_total_area(cross_section)\n",
    "    total_moment = 0\n",
    "    for i in range(cross_section.shape[0]):\n",
    "        total_moment += (widths[i] * heights[i] * (get_triangular_sum(heights, False)[i] + heights[i] / 2))\n",
    "    return total_moment / total_area"
   ]
  },
  {
   "cell_type": "code",
   "execution_count": 19,
   "id": "1ac3c61d-e809-42d8-a3e0-8ccf73a8501e",
   "metadata": {},
   "outputs": [
    {
     "data": {
      "text/plain": [
       "160.21858500527983"
      ]
     },
     "execution_count": 19,
     "metadata": {},
     "output_type": "execute_result"
    }
   ],
   "source": [
    "centroid = get_centroid_distance(cross_section)\n",
    "centroid"
   ]
  },
  {
   "cell_type": "markdown",
   "id": "fd15de02-8680-452a-a0f7-5d64933e47b2",
   "metadata": {},
   "source": [
    "We need a way to get the net area and net centroid if the neutral axis is less than the total height of the section. We can use the same formula above and modify the distance for \"a\":\n",
    "- If $ a >= h_i $ then we use $ h_i $\n",
    "- If $ a < h_i $ then we use h_i = 0\n",
    "- Else we use $ a - h_i $ as the height for region *i*"
   ]
  },
  {
   "cell_type": "code",
   "execution_count": 20,
   "id": "073b251a-a47b-4c02-bdfe-23c7d7604472",
   "metadata": {},
   "outputs": [
    {
     "data": {
      "text/plain": [
       "array([ 14., 360.,  24.])"
      ]
     },
     "execution_count": 20,
     "metadata": {},
     "output_type": "execute_result"
    }
   ],
   "source": [
    "cut_distance = 500\n",
    "lower_bound_heights = get_triangular_sum(heights, False)\n",
    "net_heights = np.zeros(heights.shape[0])\n",
    "for i in range(net_heights.shape[0]):\n",
    "    net_heights[i] = min(max(0, cut_distance - lower_bound_heights[i]), heights[i])\n",
    "net_heights"
   ]
  },
  {
   "cell_type": "code",
   "execution_count": 21,
   "id": "d9c623a9-10af-45f5-a4de-c4fc596c4c60",
   "metadata": {},
   "outputs": [],
   "source": [
    "# Turn this into a new function\n",
    "def get_net_heights(heights, cut_distance = math.inf):\n",
    "    lower_bound_heights = get_triangular_sum(heights, False)\n",
    "    net_heights = np.zeros(heights.shape[0])\n",
    "    for i in range(net_heights.shape[0]):\n",
    "        net_heights[i] = min(max(0, cut_distance - lower_bound_heights[i]), heights[i])\n",
    "    return net_heights"
   ]
  },
  {
   "cell_type": "code",
   "execution_count": 22,
   "id": "e5a05129-7096-4ea7-988c-9b8f16497adc",
   "metadata": {},
   "outputs": [
    {
     "data": {
      "text/plain": [
       "array([ 14.  , 235.98,   0.  ])"
      ]
     },
     "execution_count": 22,
     "metadata": {},
     "output_type": "execute_result"
    }
   ],
   "source": [
    "a = 249.98\n",
    "test_net_heights = get_net_heights(heights, a)\n",
    "test_net_heights"
   ]
  },
  {
   "cell_type": "markdown",
   "id": "e257ee10-7212-4bb7-ab43-6d3582677ae8",
   "metadata": {},
   "source": [
    "Revise the get_area() and get_centroid_distance() function to accept an optional cut_distance parameter that will give us the net area and centroids"
   ]
  },
  {
   "cell_type": "code",
   "execution_count": 23,
   "id": "63773fb9-aa68-44ef-9818-d0be8bde22f0",
   "metadata": {},
   "outputs": [],
   "source": [
    "def get_net_area(cross_section: np.array, cut_distance = math.inf):\n",
    "    widths, heights = get_width_and_height_arrays(cross_section)\n",
    "    net_heights = get_net_heights(heights, cut_distance)\n",
    "    count = net_heights.shape[0]\n",
    "    net_area = 0\n",
    "    if count != 0:\n",
    "        for i in range(net_heights.shape[0]):\n",
    "            net_area += widths[i] * net_heights[i]\n",
    "    return net_area"
   ]
  },
  {
   "cell_type": "code",
   "execution_count": 24,
   "id": "6e56f2bc-3885-4dcb-bfcc-e5e8e6b91e07",
   "metadata": {},
   "outputs": [
    {
     "data": {
      "text/plain": [
       "5263.719999999999"
      ]
     },
     "execution_count": 24,
     "metadata": {},
     "output_type": "execute_result"
    }
   ],
   "source": [
    "test_net_area = get_net_area(cross_section, cut_distance = a)\n",
    "test_net_area"
   ]
  },
  {
   "cell_type": "code",
   "execution_count": 25,
   "id": "8f57b684-2ffe-4c30-b97c-c51933869112",
   "metadata": {},
   "outputs": [],
   "source": [
    "def get_net_centroid(cross_section: np.array, cut_distance = math.inf):\n",
    "    widths, heights = get_width_and_height_arrays(cross_section)\n",
    "    net_heights = get_net_heights(heights, cut_distance)\n",
    "    net_area = get_net_area(cross_section, cut_distance)    \n",
    "    net_moment = 0\n",
    "    if net_area != 0:\n",
    "        for i in range(net_heights.shape[0]):\n",
    "            net_moment += (widths[i] * net_heights[i] * (get_triangular_sum(net_heights, False)[i] + net_heights[i] / 2))\n",
    "    return net_moment / net_area"
   ]
  },
  {
   "cell_type": "code",
   "execution_count": 26,
   "id": "1b29fcf7-1d34-45dd-931f-04020e3af64a",
   "metadata": {},
   "outputs": [
    {
     "data": {
      "text/plain": [
       "85.44869461141552"
      ]
     },
     "execution_count": 26,
     "metadata": {},
     "output_type": "execute_result"
    }
   ],
   "source": [
    "test_net_centroid = get_net_centroid(cross_section, a)\n",
    "test_net_centroid"
   ]
  },
  {
   "cell_type": "markdown",
   "id": "1ea25c62-6ad3-4f2f-9b25-faa8e6496ef5",
   "metadata": {},
   "source": [
    "<span style=\"color: dodgerblue;\">**NOTE**:</span> These functions all work correctly and have been verified."
   ]
  },
  {
   "cell_type": "markdown",
   "id": "6779d0f5-0ce3-4b7f-a112-ae4fd239f8ec",
   "metadata": {},
   "source": [
    "<span style=\"color: tomato;\">**TODO**:</span> Implement these functions as properties of the *ConcreteSection* family"
   ]
  },
  {
   "cell_type": "markdown",
   "id": "d3ac42d9-d7b0-4b43-aca7-541a69acc197",
   "metadata": {},
   "source": [
    "# Create ConcreteSection Class\n",
    "This class should contain the necessary information about the sub-shapes within the concrete section\n",
    "- Widths\n",
    "- Heights\n",
    "- Total and net areas as properties\n",
    "- Total and net centroids as properties\n",
    "- Gross moment of inertia"
   ]
  },
  {
   "cell_type": "code",
   "execution_count": 27,
   "id": "e268db38-4cb5-4136-ac3b-2225bec5a390",
   "metadata": {},
   "outputs": [],
   "source": [
    "class ConcreteSection():\n",
    "    def __init__(self, widths_and_heights):\n",
    "        self._cross_section = np.array(widths_and_heights)\n",
    "        self._region_count = self.get_region_count(widths_and_heights)\n",
    "        self.is_valid = self.check_if_valid(self.widths, self.heights)\n",
    "    \n",
    "    @property\n",
    "    def cross_section(self):\n",
    "        return self._cross_section\n",
    "\n",
    "    @cross_section.setter\n",
    "    def cross_section(self, new_widths_and_heights):\n",
    "        self._cross_section = np.array(new_widths_and_heights)\n",
    "\n",
    "    @property\n",
    "    def widths(self):\n",
    "        return self._cross_section[:,0]\n",
    "\n",
    "    @property\n",
    "    def heights(self):\n",
    "        return self._cross_section[:,1]\n",
    "\n",
    "    @property\n",
    "    def gross_area(self):\n",
    "        if self.is_valid:\n",
    "            area = 0\n",
    "            for i in range(self.heights.shape[0]):\n",
    "                area += self.widths[i] * self.heights[i]\n",
    "            return area\n",
    "        else:\n",
    "            return f\"ERROR: cannot calulate area because there are {self.widths.shape[0]} width dimensions, and {self.heights.shape[0]} height dimensions.\"\n",
    "\n",
    "    @property\n",
    "    def gross_centroid(self):\n",
    "        if self.is_valid:\n",
    "            total_area = self.gross_area\n",
    "            total_moment = 0\n",
    "            for i in range(self.heights.shape[0]):\n",
    "                total_moment += (self.widths[i] * self.heights[i] * (get_triangular_sum(self.heights, False)[i] + self.heights[i] / 2))\n",
    "            return total_moment / total_area\n",
    "        else:\n",
    "            return f\"ERROR: cannot calulate area because there are {self.widths.shape[0]} width dimensions, and {self.heights.shape[0]} height dimensions.\"\n",
    "    \n",
    "    @property\n",
    "    def total_height(self):\n",
    "        return sum(self.heights)\n",
    "\n",
    "    @property\n",
    "    def max_width(self):\n",
    "        return max(self.widths)\n",
    "\n",
    "    @property\n",
    "    def gross_inertia(self):\n",
    "        areas = np.zeros(self.heights.shape[0])\n",
    "        centers = np.zeros(self.heights.shape[0])\n",
    "        center_offsets = np.zeros(self.heights.shape[0])\n",
    "        self_inertias = np.zeros(self.heights.shape[0])\n",
    "        total_centroid = self.gross_centroid\n",
    "        running_height = 0\n",
    "        parallel_axis_terms = np.zeros(self.heights.shape[0])\n",
    "        for i in range(self.heights.shape[0]):\n",
    "            self_inertias[i] = self.widths[i] / 12 * self.heights[i] ** 3\n",
    "            areas[i] = self.widths[i] * self.heights[i]\n",
    "            centers[i] = self.heights[i] / 2 + running_height\n",
    "            center_offsets[i] = centers[i] - total_centroid\n",
    "            running_height += self.heights[i]\n",
    "            parallel_axis_terms[i] = areas[i] * center_offsets[i] ** 2\n",
    "        return sum(self_inertias) + sum(parallel_axis_terms)\n",
    "\n",
    "    @property\n",
    "    def radius_of_gyration(self):\n",
    "        return math.sqrt(self.gross_inertia / self.gross_area)\n",
    "    \n",
    "    def get_region_count(self, widths_and_heights):\n",
    "        widths_and_heights = np.array(widths_and_heights)\n",
    "        return widths_and_heights.shape[0]\n",
    "\n",
    "    def append_region(self, additional_regions):\n",
    "        new_cross_section = np.append(self._cross_section, additional_regions)\n",
    "        new_cross_section.resize(int(new_cross_section.size / 2), 2)\n",
    "        self._cross_section = new_cross_section\n",
    "        self._region_count = self.get_region_count(self._cross_section)\n",
    "\n",
    "    def insert_region(self, index, additional_regions):\n",
    "        if (index == -1) | (index > self._region_count):\n",
    "            self._cross_section = np.vstack((self._cross_section, np.array(additional_regions)))\n",
    "        else:\n",
    "            new_cross_section = np.insert(self._cross_section, index, additional_regions, axis=0)\n",
    "            self._cross_section = new_cross_section\n",
    "        self._region_count = self.get_region_count(self._cross_section)\n",
    "\n",
    "    def delete_region(self, index):\n",
    "        if index > self._region_count:\n",
    "            index = self._region_count\n",
    "        elif index == 0:\n",
    "            index = 1\n",
    "        if self._region_count != 1:\n",
    "            self._cross_section = np.delete(self._cross_section, index - 1, 0)\n",
    "            self._region_count = self.get_region_count(self._cross_section)\n",
    "        \n",
    "    # Cannot make this a property and make net_distance optional\n",
    "    def area(self, net_distance = math.inf):\n",
    "        if self.is_valid:\n",
    "            net_heights = get_net_heights(self.heights, net_distance)\n",
    "            count = net_heights.shape[0]\n",
    "            net_area = 0\n",
    "            if count != 0:\n",
    "                for i in range(net_heights.shape[0]):\n",
    "                    net_area += self.widths[i] * net_heights[i]\n",
    "            return net_area\n",
    "        else:\n",
    "            return f\"ERROR: cannot calulate area because there are {self.widths.shape[0]} width dimensions, and {self.heights.shape[0]} height dimensions.\"\n",
    "\n",
    "    # Cannot make this a property and make net_distance optional\n",
    "    def centroid(self, net_distance = math.inf):\n",
    "        if self.is_valid:   \n",
    "            net_heights = get_net_heights(self.heights, net_distance)\n",
    "            net_area = self.area(net_distance)\n",
    "            net_moment = 0\n",
    "            if net_area != 0:\n",
    "                for i in range(net_heights.shape[0]):\n",
    "                    net_moment += (self.widths[i] * net_heights[i] * (get_triangular_sum(net_heights, False)[i] + net_heights[i] / 2))\n",
    "            return net_moment / net_area\n",
    "        else:\n",
    "            return f\"ERROR: cannot calulate centroid because there are {self._widths.shape[0]} width dimensions, and {self._heights.shape[0]} height dimensions.\"\n",
    "\n",
    "    def get_width_and_height_arrays(self, cross_section):\n",
    "        cross_section = np.array(cross_section)\n",
    "        widths = cross_section[:,0]\n",
    "        heights = cross_section[:,1]\n",
    "        return widths, heights\n",
    "        \n",
    "    def check_if_valid(self, widths, heights):\n",
    "        return True if widths.shape[0] == heights.shape[0] else False\n",
    "        \n",
    "    def get_net_heights(heights, net_distance = math.inf):\n",
    "        lower_bound_heights = get_triangular_sum(heights, False)\n",
    "        net_heights = np.zeros(heights.shape[0])\n",
    "        for i in range(net_heights.shape[0]):\n",
    "            net_heights[i] = min(max(0, net_distance - lower_bound_heights[i]), heights[i])\n",
    "        return net_heights\n",
    "    \n",
    "    def get_triangular_sum(a_vector, include_current_index: bool = True):\n",
    "        sum_array = np.zeros(a_vector.shape[0])\n",
    "        if include_current_index:\n",
    "            for i in range(sum_array.shape[0]):\n",
    "                sum_array[i] = np.sum(a_vector[0:i + 1])\n",
    "        else:\n",
    "            for i in range(1, sum_array.shape[0]):\n",
    "                sum_array[i] = np.sum(a_vector[0:i])     \n",
    "        return sum_array"
   ]
  },
  {
   "cell_type": "code",
   "execution_count": 28,
   "id": "639ddbff-f68d-4dee-b497-63dded1a9711",
   "metadata": {},
   "outputs": [
    {
     "data": {
      "text/plain": [
       "array([[140,  14],\n",
       "       [ 14, 360],\n",
       "       [ 24,  24]])"
      ]
     },
     "execution_count": 28,
     "metadata": {},
     "output_type": "execute_result"
    }
   ],
   "source": [
    "# The cross-section will be arrays of [width, height]\n",
    "region_1 = [140, 14]\n",
    "region_2 = [14, 360]\n",
    "region_3 = [24, 24]\n",
    "\n",
    "# Load up each region into an array\n",
    "cross_section = np.array([region_1, region_2, region_3])\n",
    "cross_section"
   ]
  },
  {
   "cell_type": "code",
   "execution_count": 29,
   "id": "25aa909d-ec6c-422d-b26e-86cb2240d3a1",
   "metadata": {},
   "outputs": [
    {
     "data": {
      "text/plain": [
       "(array([140,  14,  24]), array([ 14, 360,  24]))"
      ]
     },
     "execution_count": 29,
     "metadata": {},
     "output_type": "execute_result"
    }
   ],
   "source": [
    "sect = ConcreteSection(cross_section)\n",
    "sect.widths, sect.heights"
   ]
  },
  {
   "cell_type": "code",
   "execution_count": 30,
   "id": "d371ca82-77d0-4cbc-88cc-3e8c1d5f975f",
   "metadata": {},
   "outputs": [
    {
     "data": {
      "text/plain": [
       "array([[140,  14],\n",
       "       [ 14, 360],\n",
       "       [ 24,  24]])"
      ]
     },
     "execution_count": 30,
     "metadata": {},
     "output_type": "execute_result"
    }
   ],
   "source": [
    "sect.cross_section"
   ]
  },
  {
   "cell_type": "code",
   "execution_count": 31,
   "id": "9d7c97f2-8ed6-4e89-b355-a121bc07a8e7",
   "metadata": {},
   "outputs": [
    {
     "data": {
      "text/plain": [
       "array([[140,  14],\n",
       "       [ 14, 360],\n",
       "       [ 24,  24],\n",
       "       [ 23,  18]])"
      ]
     },
     "execution_count": 31,
     "metadata": {},
     "output_type": "execute_result"
    }
   ],
   "source": [
    "new_region = [23, 18]\n",
    "regions = np.append(sect.cross_section, new_region)\n",
    "regions.resize(int(regions.size / 2), 2)\n",
    "regions"
   ]
  },
  {
   "cell_type": "code",
   "execution_count": 32,
   "id": "aef06496-6d42-4055-b47f-616ee93e0613",
   "metadata": {},
   "outputs": [
    {
     "data": {
      "text/plain": [
       "array([[140,  14],\n",
       "       [ 14, 360],\n",
       "       [ 24,  24],\n",
       "       [ 10,   2],\n",
       "       [ 18,   2]])"
      ]
     },
     "execution_count": 32,
     "metadata": {},
     "output_type": "execute_result"
    }
   ],
   "source": [
    "regions = np.append(sect.cross_section, [[10,2],[18,2]])\n",
    "regions.resize(int(regions.size / 2), 2)\n",
    "regions"
   ]
  },
  {
   "cell_type": "code",
   "execution_count": 33,
   "id": "bd3fa4fc-244d-4b54-aa4d-2b17dcdbbad0",
   "metadata": {},
   "outputs": [
    {
     "data": {
      "text/plain": [
       "array([[140,  14],\n",
       "       [ 14, 360],\n",
       "       [ 24,  24],\n",
       "       [ 23,  18]])"
      ]
     },
     "execution_count": 33,
     "metadata": {},
     "output_type": "execute_result"
    }
   ],
   "source": [
    "sect.append_region([23, 18])\n",
    "sect.cross_section"
   ]
  },
  {
   "cell_type": "code",
   "execution_count": 34,
   "id": "6cb8425c-20fa-43d2-ae23-1014f5c8622e",
   "metadata": {},
   "outputs": [],
   "source": [
    "#sect.insert_region(0, [100, 100])\n",
    "#sect.cross_section"
   ]
  },
  {
   "cell_type": "code",
   "execution_count": 35,
   "id": "e55f384f-d118-4890-b320-e87f6c69b028",
   "metadata": {},
   "outputs": [
    {
     "data": {
      "text/plain": [
       "array([[140,  14],\n",
       "       [100, 100],\n",
       "       [ 14, 360],\n",
       "       [ 24,  24],\n",
       "       [ 23,  18]])"
      ]
     },
     "execution_count": 35,
     "metadata": {},
     "output_type": "execute_result"
    }
   ],
   "source": [
    "sect.insert_region(1, [100, 100])\n",
    "sect.cross_section"
   ]
  },
  {
   "cell_type": "code",
   "execution_count": 36,
   "id": "0afb1f04-c5bd-4cd4-924d-b7ed696432d6",
   "metadata": {},
   "outputs": [
    {
     "data": {
      "text/plain": [
       "array([[100, 100],\n",
       "       [ 14, 360],\n",
       "       [ 24,  24],\n",
       "       [ 23,  18]])"
      ]
     },
     "execution_count": 36,
     "metadata": {},
     "output_type": "execute_result"
    }
   ],
   "source": [
    "sect.delete_region(0)\n",
    "sect.cross_section"
   ]
  },
  {
   "cell_type": "code",
   "execution_count": 37,
   "id": "e361782d-cd73-42e7-9628-a7ac6705b83e",
   "metadata": {},
   "outputs": [
    {
     "data": {
      "text/plain": [
       "(array([100,  14,  24,  23]), array([100, 360,  24,  18]))"
      ]
     },
     "execution_count": 37,
     "metadata": {},
     "output_type": "execute_result"
    }
   ],
   "source": [
    "sect.widths, sect.heights"
   ]
  },
  {
   "cell_type": "code",
   "execution_count": 38,
   "id": "f6d9eb65-c08e-44ae-92ad-6d6ff989c18b",
   "metadata": {},
   "outputs": [
    {
     "data": {
      "text/plain": [
       "True"
      ]
     },
     "execution_count": 38,
     "metadata": {},
     "output_type": "execute_result"
    }
   ],
   "source": [
    "sect.is_valid"
   ]
  },
  {
   "cell_type": "code",
   "execution_count": 39,
   "id": "0a784650-f08d-4c1b-ae63-6eabb5f66327",
   "metadata": {},
   "outputs": [
    {
     "data": {
      "text/plain": [
       "(16030, 148.9191515907673)"
      ]
     },
     "execution_count": 39,
     "metadata": {},
     "output_type": "execute_result"
    }
   ],
   "source": [
    "sect.gross_area, sect.gross_centroid"
   ]
  },
  {
   "cell_type": "code",
   "execution_count": 40,
   "id": "fcd5856f-2376-4d58-91a4-eec8b18d01c6",
   "metadata": {},
   "outputs": [
    {
     "data": {
      "text/plain": [
       "(10350.0, 52.11352657004831)"
      ]
     },
     "execution_count": 40,
     "metadata": {},
     "output_type": "execute_result"
    }
   ],
   "source": [
    "a = 125\n",
    "sect.area(a), sect.centroid(a)"
   ]
  },
  {
   "cell_type": "code",
   "execution_count": 41,
   "id": "c11609d8-b0f9-4bad-88e3-4e24011ea0c1",
   "metadata": {},
   "outputs": [
    {
     "data": {
      "text/plain": [
       "(16030.0, 148.9191515907673)"
      ]
     },
     "execution_count": 41,
     "metadata": {},
     "output_type": "execute_result"
    }
   ],
   "source": [
    "sect.area(), sect.centroid()"
   ]
  },
  {
   "cell_type": "code",
   "execution_count": 42,
   "id": "df59c9be-946b-4ef5-8895-1009fa195eab",
   "metadata": {},
   "outputs": [
    {
     "data": {
      "text/plain": [
       "(100, 502)"
      ]
     },
     "execution_count": 42,
     "metadata": {},
     "output_type": "execute_result"
    }
   ],
   "source": [
    "sect.max_width, sect.total_height"
   ]
  },
  {
   "cell_type": "code",
   "execution_count": 43,
   "id": "12983565-6b8a-4fdc-b8e2-f28aa0cd70ba",
   "metadata": {},
   "outputs": [
    {
     "data": {
      "text/plain": [
       "(180.0043859649123, 3.0779725552358097)"
      ]
     },
     "execution_count": 43,
     "metadata": {},
     "output_type": "execute_result"
    }
   ],
   "source": [
    "new_regions = [[10, 1], [1, 9]]\n",
    "new_section = ConcreteSection(new_regions)\n",
    "new_section.gross_inertia, new_section.radius_of_gyration"
   ]
  },
  {
   "cell_type": "code",
   "execution_count": 44,
   "id": "fc331665-aeb9-4556-aba4-4f629ee973c2",
   "metadata": {},
   "outputs": [
    {
     "data": {
      "text/plain": [
       "3.0779725552358097"
      ]
     },
     "execution_count": 44,
     "metadata": {},
     "output_type": "execute_result"
    }
   ],
   "source": [
    "math.sqrt(new_section.gross_inertia / 19)"
   ]
  },
  {
   "cell_type": "code",
   "execution_count": null,
   "id": "9a23f16d-8a2a-46f5-b6e8-dedcd798dfe1",
   "metadata": {},
   "outputs": [],
   "source": []
  }
 ],
 "metadata": {
  "kernelspec": {
   "display_name": "Python 3 (ipykernel)",
   "language": "python",
   "name": "python3"
  },
  "language_info": {
   "codemirror_mode": {
    "name": "ipython",
    "version": 3
   },
   "file_extension": ".py",
   "mimetype": "text/x-python",
   "name": "python",
   "nbconvert_exporter": "python",
   "pygments_lexer": "ipython3",
   "version": "3.10.5"
  }
 },
 "nbformat": 4,
 "nbformat_minor": 5
}

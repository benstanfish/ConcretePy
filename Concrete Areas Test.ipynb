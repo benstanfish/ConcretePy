{
 "cells": [
  {
   "cell_type": "markdown",
   "id": "2372788f-3b08-454c-ab2d-e35e08688609",
   "metadata": {},
   "source": [
    "# Module Test Template"
   ]
  },
  {
   "cell_type": "markdown",
   "id": "a395232d-f76a-449e-be1b-0446afeed13d",
   "metadata": {},
   "source": [
    "## 1. Module & Test Description"
   ]
  },
  {
   "cell_type": "markdown",
   "id": "439a0cb0-2595-44bc-97fa-943fa9bc0e19",
   "metadata": {},
   "source": [
    "This notebook is used for testing the concrete area aggregation functionality in *concrete.py*"
   ]
  },
  {
   "cell_type": "markdown",
   "id": "56b56077-38d6-40b6-864f-6acc86d6d99d",
   "metadata": {},
   "source": [
    "### Imports\n",
    "##### General Imports"
   ]
  },
  {
   "cell_type": "code",
   "execution_count": 1,
   "id": "5479e169-7452-45d0-aa9c-e470d4df98ea",
   "metadata": {},
   "outputs": [],
   "source": [
    "import os, sys, pathlib\n",
    "import numpy as np\n",
    "import pandas as pd\n",
    "import matplotlib.pyplot as plt\n",
    "import scipy as sc\n",
    "import shapely as sh\n",
    "\n",
    "import math"
   ]
  },
  {
   "cell_type": "markdown",
   "id": "7757166a-bb74-4490-91d6-a6b4100ba823",
   "metadata": {},
   "source": [
    "##### Extend PYPATH to current folder:\n",
    "This allows importing libraries from the same folder; <code>pathlib.Path().resolve()</code> returns the path of the current directory."
   ]
  },
  {
   "cell_type": "code",
   "execution_count": 2,
   "id": "1454a3e7-7240-479e-a935-30b92001f476",
   "metadata": {},
   "outputs": [],
   "source": [
    "sys.path.extend([pathlib.Path().resolve()])"
   ]
  },
  {
   "cell_type": "markdown",
   "id": "9d8241f1-bc56-476c-adb8-18059b758262",
   "metadata": {},
   "source": [
    "Import specific testing modules:"
   ]
  },
  {
   "cell_type": "code",
   "execution_count": 3,
   "id": "b75c88e5-46c9-4d66-909e-c7d53835c860",
   "metadata": {},
   "outputs": [],
   "source": [
    "# import concrete"
   ]
  },
  {
   "cell_type": "markdown",
   "id": "7dc5c3d5-6d41-42cc-a1f6-bdc5a65999ae",
   "metadata": {},
   "source": [
    "## Testing Inputs\n",
    "Below are the properties of several concrete regions, which we'l use for testing subsequent functions."
   ]
  },
  {
   "cell_type": "code",
   "execution_count": 4,
   "id": "f7564e62-74b6-4340-a432-c95a8c6d0d93",
   "metadata": {},
   "outputs": [],
   "source": [
    "# Test inputing concrete regions as a 0D (single value), numpy array and python list:\n",
    "as_float = 10.0\n",
    "as_int = 5\n",
    "as_list = [[10, 1], [1, 10], [2, 5]]\n",
    "\n",
    "as_ndarray = np.array([[10, 1], [1, 10], [2, 5]])\n",
    "as_0darray = np.array(5)\n",
    "as_1darray = np.array([5, 2, 3, 4])\n",
    "as_2darray = np.copy(as_ndarray)"
   ]
  },
  {
   "cell_type": "code",
   "execution_count": 5,
   "id": "51ae86aa-461f-49d7-90ff-46ac9fcdbfb3",
   "metadata": {},
   "outputs": [
    {
     "data": {
      "text/plain": [
       "(float, int, list, numpy.ndarray)"
      ]
     },
     "execution_count": 5,
     "metadata": {},
     "output_type": "execute_result"
    }
   ],
   "source": [
    "# Return the type\n",
    "type(as_float), type(as_int), type(as_list), type(as_ndarray)"
   ]
  },
  {
   "cell_type": "markdown",
   "id": "d1c90dc9-1db9-4cdc-9aa6-5ff2781d665e",
   "metadata": {},
   "source": [
    "### Test dimensionality of lists and arrays"
   ]
  },
  {
   "cell_type": "code",
   "execution_count": 6,
   "id": "6effb4cf-4fac-4c4c-a629-aec282e4dff5",
   "metadata": {},
   "outputs": [],
   "source": [
    "# For lists use a cheat:\n",
    "def list_dims(my_list):\n",
    "    if type(my_list) == list:\n",
    "        temp = np.array(my_list)\n",
    "        return temp.shape\n",
    "    else:\n",
    "        return 'Not a list type'"
   ]
  },
  {
   "cell_type": "code",
   "execution_count": 7,
   "id": "9b4e0d71-1f26-4bbc-a955-16a37775ae2d",
   "metadata": {},
   "outputs": [
    {
     "data": {
      "text/plain": [
       "(3, 2)"
      ]
     },
     "execution_count": 7,
     "metadata": {},
     "output_type": "execute_result"
    }
   ],
   "source": [
    "list_dims(as_list)"
   ]
  },
  {
   "cell_type": "code",
   "execution_count": 8,
   "id": "71f3d2b0-a7df-4c1d-b0d9-875ef0117d20",
   "metadata": {},
   "outputs": [],
   "source": [
    "def is_list(my_list):\n",
    "    if type(my_list) == list:\n",
    "        return True\n",
    "    else:\n",
    "        return False"
   ]
  },
  {
   "cell_type": "code",
   "execution_count": 9,
   "id": "496f52db-5df4-43df-8715-6e61cc17abed",
   "metadata": {},
   "outputs": [
    {
     "data": {
      "text/plain": [
       "True"
      ]
     },
     "execution_count": 9,
     "metadata": {},
     "output_type": "execute_result"
    }
   ],
   "source": [
    "is_list(as_list)"
   ]
  },
  {
   "cell_type": "code",
   "execution_count": 10,
   "id": "66932e45-b047-4a97-bc3f-f36fba9d21e5",
   "metadata": {},
   "outputs": [],
   "source": [
    "# Let's create a function that converts a python list to a numpy list"
   ]
  },
  {
   "cell_type": "code",
   "execution_count": 11,
   "id": "28169226-7f89-4031-8c96-bb31333cbe15",
   "metadata": {},
   "outputs": [
    {
     "data": {
      "text/plain": [
       "(numpy.ndarray, numpy.ndarray, numpy.ndarray, numpy.ndarray)"
      ]
     },
     "execution_count": 11,
     "metadata": {},
     "output_type": "execute_result"
    }
   ],
   "source": [
    "# Now let's make sure we have numpy arrays:\n",
    "type(as_0darray), type(as_1darray), type(as_2darray), type(as_ndarray)"
   ]
  },
  {
   "cell_type": "code",
   "execution_count": 12,
   "id": "5ad0daaa-f1d4-4afd-95ef-eb4dc938b3cb",
   "metadata": {},
   "outputs": [
    {
     "data": {
      "text/plain": [
       "((), (4,), (3, 2), (3, 2))"
      ]
     },
     "execution_count": 12,
     "metadata": {},
     "output_type": "execute_result"
    }
   ],
   "source": [
    "# Now let's look at the shape of several numpy arrays\n",
    "as_0darray.shape, as_1darray.shape, as_2darray.shape, as_ndarray.shape"
   ]
  },
  {
   "cell_type": "code",
   "execution_count": 15,
   "id": "5ad8507e-6006-4207-8d79-ff2de513c013",
   "metadata": {},
   "outputs": [],
   "source": [
    "# Create a function turn a 0D array into at least a 1D array\n",
    "def to_numpy(my_0Darray):\n",
    "    if type(my_0Darray) == np.ndarray and my_0Darray.shape == ():\n",
    "        return np.array([my_0Darray])\n",
    "    else:\n",
    "        return np.array(my_0Darray)"
   ]
  },
  {
   "cell_type": "markdown",
   "id": "1db39a26-9425-4f05-a560-ecf24191ce56",
   "metadata": {},
   "source": [
    "**WARNING:** Note that the conditional tests for the shorthand module name *np.ndarray* while type() returns *numpy.ndarray* "
   ]
  },
  {
   "cell_type": "code",
   "execution_count": 16,
   "id": "2e72ef35-82c9-4bb8-a542-8ad243369d85",
   "metadata": {},
   "outputs": [
    {
     "data": {
      "text/plain": [
       "(array([5]),\n",
       " array([5, 2, 3, 4]),\n",
       " array([[10,  1],\n",
       "        [ 1, 10],\n",
       "        [ 2,  5]]),\n",
       " array([[10,  1],\n",
       "        [ 1, 10],\n",
       "        [ 2,  5]]))"
      ]
     },
     "execution_count": 16,
     "metadata": {},
     "output_type": "execute_result"
    }
   ],
   "source": [
    "to_numpy(as_0darray), to_numpy(as_1darray), to_numpy(as_ndarray), to_numpy(as_list)"
   ]
  },
  {
   "cell_type": "code",
   "execution_count": 18,
   "id": "efcd0ea4-1bb3-4b21-aeaf-ee10ac377076",
   "metadata": {},
   "outputs": [
    {
     "data": {
      "text/plain": [
       "((1,), (4,), (3, 2), (3, 2))"
      ]
     },
     "execution_count": 18,
     "metadata": {},
     "output_type": "execute_result"
    }
   ],
   "source": [
    "to_numpy(as_0darray).shape, to_numpy(as_1darray).shape, to_numpy(as_ndarray).shape, to_numpy(as_list).shape"
   ]
  },
  {
   "cell_type": "markdown",
   "id": "66e8f1cb-1ba0-432e-9eed-cf15c2d2e577",
   "metadata": {},
   "source": [
    "## Rescale a Value with a New Range\n",
    "Create function that rescales a value that lies within a given range, to new range. By default the new range will be 0 -> 1. If <code>is_strict == True</code>, the function returns the new range min or max value, when the rescaled value occurs out of bounds."
   ]
  },
  {
   "cell_type": "code",
   "execution_count": null,
   "id": "edf2873a-5f2b-455e-a298-c709a3c908f8",
   "metadata": {},
   "outputs": [],
   "source": [
    "def rescale_to_range(value, range_min, range_max,\n",
    "                  scale_min = 0.0, scale_max = 1.0, \n",
    "                  is_strict: bool = True):\n",
    "    rescaled_value = (value - range_min) / (range_max - range_min) * (scale_max - scale_min) + scale_min \n",
    "    if is_strict == True:\n",
    "        rescaled_value = min(scale_max, max(scale_min, rescaled_value))\n",
    "    return rescaled_value"
   ]
  },
  {
   "cell_type": "code",
   "execution_count": null,
   "id": "9b7d7551-2234-499d-92ec-050b1d8ede1c",
   "metadata": {},
   "outputs": [],
   "source": [
    "value = 0.75\n",
    "range_min = 0\n",
    "range_max = 2\n",
    "scale_min = 0\n",
    "scale_max = 1\n",
    "is_strict = True\n",
    "new_value = ((value - range_min) / \n",
    "             (range_max - range_min) * \n",
    "             (scale_max - scale_min) + scale_min)\n",
    "if is_strict == True:\n",
    "    new_value = min(scale_max, max(scale_min, new_value))\n",
    "new_value"
   ]
  },
  {
   "cell_type": "code",
   "execution_count": null,
   "id": "e3f81415-6010-411b-85d3-8a79da679352",
   "metadata": {},
   "outputs": [],
   "source": []
  },
  {
   "cell_type": "markdown",
   "id": "d2f35eec-fe0a-4f92-9e04-299274f561de",
   "metadata": {},
   "source": [
    "When determining the area of concrete to a depth of \"c\", the total area is the product of this function (<code>is_strict == True</code>) and the area of each individual region."
   ]
  },
  {
   "cell_type": "markdown",
   "id": "436ed5db-dd53-4d72-9466-477ca6ab6132",
   "metadata": {},
   "source": [
    "## 3. Concrete Area Test"
   ]
  },
  {
   "cell_type": "code",
   "execution_count": null,
   "id": "047e43bb-616e-4912-8429-5ac3a71b7937",
   "metadata": {},
   "outputs": [],
   "source": []
  },
  {
   "cell_type": "code",
   "execution_count": null,
   "id": "1419bbfe-ae00-4fee-9d67-0378c296ecf8",
   "metadata": {},
   "outputs": [],
   "source": [
    "concrete_regions.shape"
   ]
  },
  {
   "cell_type": "code",
   "execution_count": null,
   "id": "e4933d42-b1ec-46c0-ad3f-8a8c9932ff9d",
   "metadata": {},
   "outputs": [],
   "source": [
    "def region_count(concrete_regions):\n",
    "    return concrete_regions.shape[0]"
   ]
  },
  {
   "cell_type": "code",
   "execution_count": null,
   "id": "928baa83-5557-4850-b10e-182943ac2e53",
   "metadata": {},
   "outputs": [],
   "source": [
    "region_count(concrete_regions)"
   ]
  },
  {
   "cell_type": "markdown",
   "id": "4ee1a845-8936-4f36-81a1-ed898cf7de99",
   "metadata": {},
   "source": [
    "**TODO** The above function does not work with normal lists or arrays. Need to work out a way to convert lists or 0D arrays to numpy arrays."
   ]
  },
  {
   "cell_type": "code",
   "execution_count": null,
   "id": "f33b5512-3ac3-4c18-8e9d-457eb1e0af75",
   "metadata": {},
   "outputs": [],
   "source": [
    "def region_areas(concrete_regions, get_total: bool = False):\n",
    "    count = region_count(concrete_regions)\n",
    "    areas = np.zeros(count)\n",
    "    for i in range(0, count):\n",
    "        areas[i] = concrete_regions[i][0] * concrete_regions[i][1]\n",
    "    if get_total == True:\n",
    "        return sum(areas)    \n",
    "    else:\n",
    "        return areas"
   ]
  },
  {
   "cell_type": "code",
   "execution_count": null,
   "id": "5aa712db-dfb0-4954-8a4c-48cd2781a793",
   "metadata": {},
   "outputs": [],
   "source": [
    "# Return a numpy array of the areas of each region\n",
    "\n",
    "areas = region_areas(concrete_regions)\n",
    "areas"
   ]
  },
  {
   "cell_type": "code",
   "execution_count": null,
   "id": "34848958-48c3-4d57-b5fd-ae4cd1638b50",
   "metadata": {},
   "outputs": [],
   "source": [
    "# This time return the total area of all the regions using the same function\n",
    "\n",
    "areas = region_areas(concrete_regions, True)\n",
    "areas"
   ]
  },
  {
   "cell_type": "markdown",
   "id": "8a1e3367-6b23-47fa-8077-75b3cf897b8a",
   "metadata": {},
   "source": [
    "## 4. Concrete Region Height Test\n",
    "Need a function that will return an area of the stacked heights of all the concrete regions."
   ]
  },
  {
   "cell_type": "code",
   "execution_count": null,
   "id": "9aa6d6b2-7518-4d13-b31a-1214c7a5f616",
   "metadata": {},
   "outputs": [],
   "source": [
    "def region_heights(concrete_regions, total_height: bool = False):\n",
    "    count = concrete_regions.shape[0]\n",
    "    heights = np.zeros(count + 1)\n",
    "    for i in range(1, count + 1):\n",
    "        heights[i] = heights[i - 1] + concrete_regions[i-1][1]\n",
    "    if total_height == True:\n",
    "        return max(heights)\n",
    "    else:\n",
    "        return heights"
   ]
  },
  {
   "cell_type": "code",
   "execution_count": null,
   "id": "4bc735ad-4f9c-40c9-ae4f-08ba3e260e15",
   "metadata": {},
   "outputs": [],
   "source": [
    "# By default return an area of the region distances\n",
    "arr = region_heights(concrete_regions)\n",
    "arr"
   ]
  },
  {
   "cell_type": "code",
   "execution_count": null,
   "id": "5c4ba345-25b6-4a05-8d78-60074acc5d49",
   "metadata": {},
   "outputs": [],
   "source": [
    "# Return the maximum height of the section using same function\n",
    "max_height = region_heights(concrete_regions, total_height = True)\n",
    "max_height"
   ]
  },
  {
   "cell_type": "markdown",
   "id": "19819ec8-5191-4ffa-8085-9b714647affa",
   "metadata": {},
   "source": [
    "Create a function that calculates the effective area given a user-input \"c\" value"
   ]
  },
  {
   "cell_type": "code",
   "execution_count": null,
   "id": "ca61470c-390a-4dd0-a146-b84f0ebe6326",
   "metadata": {},
   "outputs": [],
   "source": [
    "c = 10"
   ]
  },
  {
   "cell_type": "code",
   "execution_count": null,
   "id": "0826f53a-4bd3-43c1-ab28-e222820a1419",
   "metadata": {},
   "outputs": [],
   "source": [
    "def region_heights(concrete_regions, c = math.inf, total_height: bool = False):\n",
    "    count = concrete_regions.shape[0]\n",
    "    heights = np.zeros(count + 1)\n",
    "    for i in range(1, count + 1):\n",
    "        heights[i] = heights[i - 1] + concrete_regions[i-1][1]\n",
    "    if total_height == True:\n",
    "        return max(heights)\n",
    "    else:\n",
    "        return heights"
   ]
  },
  {
   "cell_type": "code",
   "execution_count": null,
   "id": "0e694163-1b2d-4f86-bc55-1c6af9ac07bb",
   "metadata": {},
   "outputs": [],
   "source": []
  },
  {
   "cell_type": "code",
   "execution_count": null,
   "id": "b51bf1bf-422c-44d1-a32d-d0cfe7fc5e1a",
   "metadata": {},
   "outputs": [],
   "source": []
  }
 ],
 "metadata": {
  "kernelspec": {
   "display_name": "Python 3 (ipykernel)",
   "language": "python",
   "name": "python3"
  },
  "language_info": {
   "codemirror_mode": {
    "name": "ipython",
    "version": 3
   },
   "file_extension": ".py",
   "mimetype": "text/x-python",
   "name": "python",
   "nbconvert_exporter": "python",
   "pygments_lexer": "ipython3",
   "version": "3.10.5"
  }
 },
 "nbformat": 4,
 "nbformat_minor": 5
}

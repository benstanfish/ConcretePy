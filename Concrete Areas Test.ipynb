{
 "cells": [
  {
   "cell_type": "markdown",
   "id": "2372788f-3b08-454c-ab2d-e35e08688609",
   "metadata": {},
   "source": [
    "# Module Test Template"
   ]
  },
  {
   "cell_type": "markdown",
   "id": "a395232d-f76a-449e-be1b-0446afeed13d",
   "metadata": {},
   "source": [
    "## 1. Module & Test Description"
   ]
  },
  {
   "cell_type": "markdown",
   "id": "439a0cb0-2595-44bc-97fa-943fa9bc0e19",
   "metadata": {},
   "source": [
    "This notebook is used for testing the concrete area aggregation functionality in *concrete.py*"
   ]
  },
  {
   "cell_type": "markdown",
   "id": "56b56077-38d6-40b6-864f-6acc86d6d99d",
   "metadata": {},
   "source": [
    "### Imports\n",
    "##### General Imports"
   ]
  },
  {
   "cell_type": "code",
   "execution_count": 1,
   "id": "5479e169-7452-45d0-aa9c-e470d4df98ea",
   "metadata": {},
   "outputs": [],
   "source": [
    "import os, sys, pathlib\n",
    "import numpy as np\n",
    "import pandas as pd\n",
    "import matplotlib.pyplot as plt\n",
    "import scipy as sc\n",
    "import shapely as sh\n",
    "\n",
    "import math"
   ]
  },
  {
   "cell_type": "markdown",
   "id": "7757166a-bb74-4490-91d6-a6b4100ba823",
   "metadata": {},
   "source": [
    "##### Extend PYPATH to current folder:\n",
    "This allows importing libraries from the same folder; <code>pathlib.Path().resolve()</code> returns the path of the current directory."
   ]
  },
  {
   "cell_type": "code",
   "execution_count": 2,
   "id": "1454a3e7-7240-479e-a935-30b92001f476",
   "metadata": {},
   "outputs": [],
   "source": [
    "sys.path.extend([pathlib.Path().resolve()])"
   ]
  },
  {
   "cell_type": "markdown",
   "id": "9d8241f1-bc56-476c-adb8-18059b758262",
   "metadata": {},
   "source": [
    "Import specific testing modules:"
   ]
  },
  {
   "cell_type": "code",
   "execution_count": 3,
   "id": "b75c88e5-46c9-4d66-909e-c7d53835c860",
   "metadata": {},
   "outputs": [
    {
     "name": "stdout",
     "output_type": "stream",
     "text": [
      "concrete.py <version 0.0.4> successfully imported\n",
      "materials.py <version 0.0.6> successfully imported\n"
     ]
    }
   ],
   "source": [
    "import concrete"
   ]
  },
  {
   "cell_type": "markdown",
   "id": "66e8f1cb-1ba0-432e-9eed-cf15c2d2e577",
   "metadata": {},
   "source": [
    "## 2. Rescale a Value with a New Range\n",
    "Create function that rescales a value that lies within a given range, to new range. By default the new range will be 0 -> 1. If <code>is_strict == True</code>, the function returns the new range min or max value, when the rescaled value occurs out of bounds."
   ]
  },
  {
   "cell_type": "code",
   "execution_count": 4,
   "id": "9b7d7551-2234-499d-92ec-050b1d8ede1c",
   "metadata": {},
   "outputs": [
    {
     "data": {
      "text/plain": [
       "0.375"
      ]
     },
     "execution_count": 4,
     "metadata": {},
     "output_type": "execute_result"
    }
   ],
   "source": [
    "value = 0.75\n",
    "range_min = 0\n",
    "range_max = 2\n",
    "scale_min = 0\n",
    "scale_max = 1\n",
    "is_strict = True\n",
    "new_value = ((value - range_min) / \n",
    "             (range_max - range_min) * \n",
    "             (scale_max - scale_min) + scale_min)\n",
    "if is_strict == True:\n",
    "    new_value = min(scale_max, max(scale_min, new_value))\n",
    "new_value"
   ]
  },
  {
   "cell_type": "code",
   "execution_count": 5,
   "id": "e3f81415-6010-411b-85d3-8a79da679352",
   "metadata": {},
   "outputs": [
    {
     "data": {
      "text/plain": [
       "0.375"
      ]
     },
     "execution_count": 5,
     "metadata": {},
     "output_type": "execute_result"
    }
   ],
   "source": [
    "rescaled = concrete.rescale_to_range(value, range_min, range_max)\n",
    "rescaled"
   ]
  },
  {
   "cell_type": "markdown",
   "id": "d2f35eec-fe0a-4f92-9e04-299274f561de",
   "metadata": {},
   "source": [
    "When determining the area of concrete to a depth of \"c\", the total area is the product of this function (<code>is_strict == True</code>) and the area of each individual region."
   ]
  },
  {
   "cell_type": "markdown",
   "id": "436ed5db-dd53-4d72-9466-477ca6ab6132",
   "metadata": {},
   "source": [
    "## 3. Concrete Area Test"
   ]
  },
  {
   "cell_type": "code",
   "execution_count": 6,
   "id": "047e43bb-616e-4912-8429-5ac3a71b7937",
   "metadata": {},
   "outputs": [],
   "source": [
    "concrete_regions = np.array([[10, 1], [1, 10], [2, 5]])\n",
    "concrete_region_as_list = [[10, 1], [1, 10], [2, 5]]"
   ]
  },
  {
   "cell_type": "code",
   "execution_count": 7,
   "id": "1419bbfe-ae00-4fee-9d67-0378c296ecf8",
   "metadata": {},
   "outputs": [
    {
     "data": {
      "text/plain": [
       "(3, 2)"
      ]
     },
     "execution_count": 7,
     "metadata": {},
     "output_type": "execute_result"
    }
   ],
   "source": [
    "concrete_regions.shape"
   ]
  },
  {
   "cell_type": "code",
   "execution_count": 8,
   "id": "e4933d42-b1ec-46c0-ad3f-8a8c9932ff9d",
   "metadata": {},
   "outputs": [],
   "source": [
    "def region_count(concrete_regions):\n",
    "    return concrete_regions.shape[0]"
   ]
  },
  {
   "cell_type": "code",
   "execution_count": 9,
   "id": "928baa83-5557-4850-b10e-182943ac2e53",
   "metadata": {},
   "outputs": [
    {
     "data": {
      "text/plain": [
       "3"
      ]
     },
     "execution_count": 9,
     "metadata": {},
     "output_type": "execute_result"
    }
   ],
   "source": [
    "region_count(concrete_regions)"
   ]
  },
  {
   "cell_type": "markdown",
   "id": "4ee1a845-8936-4f36-81a1-ed898cf7de99",
   "metadata": {},
   "source": [
    "**TODO** The above function does not work with normal lists or arrays. Need to work out a way to convert lists or 0D arrays to numpy arrays."
   ]
  },
  {
   "cell_type": "code",
   "execution_count": 10,
   "id": "f33b5512-3ac3-4c18-8e9d-457eb1e0af75",
   "metadata": {},
   "outputs": [],
   "source": [
    "def region_areas(concrete_regions, get_total: bool = False):\n",
    "    count = region_count(concrete_regions)\n",
    "    areas = np.zeros(count)\n",
    "    for i in range(0, count):\n",
    "        areas[i] = concrete_regions[i][0] * concrete_regions[i][1]\n",
    "    if get_total == True:\n",
    "        return sum(areas)    \n",
    "    else:\n",
    "        return areas"
   ]
  },
  {
   "cell_type": "code",
   "execution_count": 11,
   "id": "5aa712db-dfb0-4954-8a4c-48cd2781a793",
   "metadata": {},
   "outputs": [
    {
     "data": {
      "text/plain": [
       "array([10., 10., 10.])"
      ]
     },
     "execution_count": 11,
     "metadata": {},
     "output_type": "execute_result"
    }
   ],
   "source": [
    "# Return a numpy array of the areas of each region\n",
    "\n",
    "areas = region_areas(concrete_regions)\n",
    "areas"
   ]
  },
  {
   "cell_type": "code",
   "execution_count": 12,
   "id": "34848958-48c3-4d57-b5fd-ae4cd1638b50",
   "metadata": {},
   "outputs": [
    {
     "data": {
      "text/plain": [
       "30.0"
      ]
     },
     "execution_count": 12,
     "metadata": {},
     "output_type": "execute_result"
    }
   ],
   "source": [
    "# This time return the total area of all the regions using the same function\n",
    "\n",
    "areas = region_areas(concrete_regions, True)\n",
    "areas"
   ]
  },
  {
   "cell_type": "markdown",
   "id": "8a1e3367-6b23-47fa-8077-75b3cf897b8a",
   "metadata": {},
   "source": [
    "## 4. Concrete Region Height Test\n",
    "Need a function that will return an area of the stacked heights of all the concrete regions."
   ]
  },
  {
   "cell_type": "code",
   "execution_count": 13,
   "id": "9aa6d6b2-7518-4d13-b31a-1214c7a5f616",
   "metadata": {},
   "outputs": [],
   "source": [
    "def region_heights(concrete_regions, total_height: bool = False):\n",
    "    count = concrete_regions.shape[0]\n",
    "    heights = np.zeros(count + 1)\n",
    "    for i in range(1, count + 1):\n",
    "        heights[i] = heights[i - 1] + concrete_regions[i-1][1]\n",
    "    if total_height == True:\n",
    "        return max(heights)\n",
    "    else:\n",
    "        return heights"
   ]
  },
  {
   "cell_type": "code",
   "execution_count": 14,
   "id": "4bc735ad-4f9c-40c9-ae4f-08ba3e260e15",
   "metadata": {},
   "outputs": [
    {
     "data": {
      "text/plain": [
       "array([ 0.,  1., 11., 16.])"
      ]
     },
     "execution_count": 14,
     "metadata": {},
     "output_type": "execute_result"
    }
   ],
   "source": [
    "# By default return an area of the region distances\n",
    "arr = region_heights(concrete_regions)\n",
    "arr"
   ]
  },
  {
   "cell_type": "code",
   "execution_count": 15,
   "id": "5c4ba345-25b6-4a05-8d78-60074acc5d49",
   "metadata": {},
   "outputs": [
    {
     "data": {
      "text/plain": [
       "16.0"
      ]
     },
     "execution_count": 15,
     "metadata": {},
     "output_type": "execute_result"
    }
   ],
   "source": [
    "# Return the maximum height of the section using same function\n",
    "max_height = region_heights(concrete_regions, total_height = True)\n",
    "max_height"
   ]
  },
  {
   "cell_type": "markdown",
   "id": "19819ec8-5191-4ffa-8085-9b714647affa",
   "metadata": {},
   "source": [
    "Create a function that calculates the effective area given a user-input \"c\" value"
   ]
  },
  {
   "cell_type": "code",
   "execution_count": 16,
   "id": "ca61470c-390a-4dd0-a146-b84f0ebe6326",
   "metadata": {},
   "outputs": [],
   "source": [
    "c = 10"
   ]
  },
  {
   "cell_type": "code",
   "execution_count": 17,
   "id": "0826f53a-4bd3-43c1-ab28-e222820a1419",
   "metadata": {},
   "outputs": [],
   "source": [
    "def region_heights(concrete_regions, c = math.inf, total_height: bool = False):\n",
    "    count = concrete_regions.shape[0]\n",
    "    heights = np.zeros(count + 1)\n",
    "    for i in range(1, count + 1):\n",
    "        heights[i] = heights[i - 1] + concrete_regions[i-1][1]\n",
    "    if total_height == True:\n",
    "        return max(heights)\n",
    "    else:\n",
    "        return heights"
   ]
  },
  {
   "cell_type": "code",
   "execution_count": 21,
   "id": "0e694163-1b2d-4f86-bc55-1c6af9ac07bb",
   "metadata": {},
   "outputs": [
    {
     "data": {
      "text/plain": [
       "inf"
      ]
     },
     "execution_count": 21,
     "metadata": {},
     "output_type": "execute_result"
    }
   ],
   "source": []
  },
  {
   "cell_type": "code",
   "execution_count": null,
   "id": "b51bf1bf-422c-44d1-a32d-d0cfe7fc5e1a",
   "metadata": {},
   "outputs": [],
   "source": []
  }
 ],
 "metadata": {
  "kernelspec": {
   "display_name": "Python 3 (ipykernel)",
   "language": "python",
   "name": "python3"
  },
  "language_info": {
   "codemirror_mode": {
    "name": "ipython",
    "version": 3
   },
   "file_extension": ".py",
   "mimetype": "text/x-python",
   "name": "python",
   "nbconvert_exporter": "python",
   "pygments_lexer": "ipython3",
   "version": "3.10.5"
  }
 },
 "nbformat": 4,
 "nbformat_minor": 5
}

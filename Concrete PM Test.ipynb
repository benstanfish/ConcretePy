{
 "cells": [
  {
   "cell_type": "markdown",
   "id": "2372788f-3b08-454c-ab2d-e35e08688609",
   "metadata": {},
   "source": [
    "# Module Test Template"
   ]
  },
  {
   "cell_type": "markdown",
   "id": "a395232d-f76a-449e-be1b-0446afeed13d",
   "metadata": {},
   "source": [
    "## Module & Test Description\n",
    "This Notebook is used for developing and testing functions relating to the PM generator in *concrete.py*"
   ]
  },
  {
   "cell_type": "markdown",
   "id": "56b56077-38d6-40b6-864f-6acc86d6d99d",
   "metadata": {},
   "source": [
    "### Imports\n",
    "##### General Imports"
   ]
  },
  {
   "cell_type": "code",
   "execution_count": 1,
   "id": "5479e169-7452-45d0-aa9c-e470d4df98ea",
   "metadata": {},
   "outputs": [],
   "source": [
    "import os, sys, pathlib\n",
    "import numpy as np\n",
    "import pandas as pd\n",
    "import matplotlib.pyplot as plt\n",
    "import scipy as sc\n",
    "import shapely as sh"
   ]
  },
  {
   "cell_type": "code",
   "execution_count": 2,
   "id": "ad180316-fd3e-4c5d-9242-0ae69b517f97",
   "metadata": {},
   "outputs": [],
   "source": [
    "import math"
   ]
  },
  {
   "cell_type": "markdown",
   "id": "7757166a-bb74-4490-91d6-a6b4100ba823",
   "metadata": {},
   "source": [
    "##### Extend PYPATH to current folder:\n",
    "This allows importing libraries from the same folder; <code>pathlib.Path().resolve()</code> returns the path of the current directory."
   ]
  },
  {
   "cell_type": "code",
   "execution_count": 3,
   "id": "1454a3e7-7240-479e-a935-30b92001f476",
   "metadata": {},
   "outputs": [],
   "source": [
    "sys.path.extend([pathlib.Path().resolve()])"
   ]
  },
  {
   "cell_type": "markdown",
   "id": "9d8241f1-bc56-476c-adb8-18059b758262",
   "metadata": {},
   "source": [
    "Import specific testing modules:"
   ]
  },
  {
   "cell_type": "code",
   "execution_count": 4,
   "id": "b75c88e5-46c9-4d66-909e-c7d53835c860",
   "metadata": {},
   "outputs": [
    {
     "name": "stdout",
     "output_type": "stream",
     "text": [
      "materials.py <version 0.0.6> successfully imported\n"
     ]
    }
   ],
   "source": [
    "import rcmaterials as mat"
   ]
  },
  {
   "cell_type": "code",
   "execution_count": 5,
   "id": "abb44a6d-b966-433d-b37e-ec0eb8edffe6",
   "metadata": {},
   "outputs": [],
   "source": [
    "from rccolumn import *"
   ]
  },
  {
   "cell_type": "markdown",
   "id": "805b2853-41fd-4516-86d0-41cf380a3750",
   "metadata": {},
   "source": [
    "##### Column Input Parameters"
   ]
  },
  {
   "cell_type": "code",
   "execution_count": 6,
   "id": "e2a1781d-4f56-4696-9063-aaf251b50318",
   "metadata": {},
   "outputs": [],
   "source": [
    "bw = 16\n",
    "h = 16\n",
    "concrete5 = mat.ConcreteMaterial(5000)\n",
    "rebar60 = mat.RebarMaterial(60000)\n",
    "layer_distances = np.array([2.5, 12])\n",
    "layer_areas = np.array([rebar60.bar_areas[9], rebar60.bar_areas[9]]) * 4"
   ]
  },
  {
   "cell_type": "markdown",
   "id": "7409da1b-eeea-4052-a30a-5fcf20dee39a",
   "metadata": {},
   "source": [
    "#### Compression Point"
   ]
  },
  {
   "cell_type": "code",
   "execution_count": 7,
   "id": "7eb6b5d4-abe1-4ab0-aee5-f7e087d3880d",
   "metadata": {},
   "outputs": [
    {
     "data": {
      "text/plain": [
       "1534000.0"
      ]
     },
     "execution_count": 7,
     "metadata": {},
     "output_type": "execute_result"
    }
   ],
   "source": [
    "p_max = max_axial(bw * h, layer_areas, concrete5, rebar60)\n",
    "p_max"
   ]
  },
  {
   "cell_type": "code",
   "execution_count": 8,
   "id": "7ebc483e-cd77-446c-b1c1-8d81d32379e5",
   "metadata": {},
   "outputs": [
    {
     "name": "stdout",
     "output_type": "stream",
     "text": [
      "0.002999999925\n",
      "0.0029999996399999998\n"
     ]
    }
   ],
   "source": [
    "for i in range(layer_distances.shape[0]):\n",
    "    print(layer_strain(layer_distances[i], comp_c, concrete5, rebar60))"
   ]
  },
  {
   "cell_type": "code",
   "execution_count": 9,
   "id": "7ee3fee5-40d4-42e3-bde3-d334810ba118",
   "metadata": {},
   "outputs": [
    {
     "name": "stdout",
     "output_type": "stream",
     "text": [
      "60000.0\n",
      "60000.0\n"
     ]
    }
   ],
   "source": [
    "for i in range(layer_distances.shape[0]):\n",
    "    print(layer_stress(layer_distances[i], comp_c, concrete5, rebar60))"
   ]
  },
  {
   "cell_type": "code",
   "execution_count": 10,
   "id": "fbeeb23d-14ff-405b-83b1-a7306389aaf9",
   "metadata": {},
   "outputs": [
    {
     "name": "stdout",
     "output_type": "stream",
     "text": [
      "223000.0\n",
      "223000.0\n"
     ]
    }
   ],
   "source": [
    "for i in range(layer_distances.shape[0]):\n",
    "    print(layer_force(layer_areas[i], layer_distances[i], comp_c, concrete5, rebar60))"
   ]
  },
  {
   "cell_type": "code",
   "execution_count": 11,
   "id": "49b003dd-7de2-463a-8d05-6466074e2022",
   "metadata": {},
   "outputs": [
    {
     "data": {
      "text/plain": [
       "446000.0"
      ]
     },
     "execution_count": 11,
     "metadata": {},
     "output_type": "execute_result"
    }
   ],
   "source": [
    "sum_layer_forces(layer_areas, layer_distances, comp_c, concrete5, rebar60)"
   ]
  },
  {
   "cell_type": "code",
   "execution_count": 12,
   "id": "4023bb58-1342-4a89-ac3c-48c99af7e0dd",
   "metadata": {},
   "outputs": [
    {
     "data": {
      "text/plain": [
       "1534000.0"
      ]
     },
     "execution_count": 12,
     "metadata": {},
     "output_type": "execute_result"
    }
   ],
   "source": [
    "sum_total_forces(comp_c, bw, h, layer_distances, layer_areas, concrete5, rebar60)"
   ]
  },
  {
   "cell_type": "code",
   "execution_count": 13,
   "id": "1655ec56-2812-46cb-9b01-3b69b8fb889c",
   "metadata": {},
   "outputs": [
    {
     "data": {
      "text/plain": [
       "True"
      ]
     },
     "execution_count": 13,
     "metadata": {},
     "output_type": "execute_result"
    }
   ],
   "source": [
    "sum_total_forces(comp_c, bw, h, layer_distances, layer_areas, concrete5, rebar60) == p_max"
   ]
  },
  {
   "cell_type": "markdown",
   "id": "c7bacc94-0f1b-40b3-a3f9-d05fc69bd78c",
   "metadata": {},
   "source": [
    "### Create P-M Diagram"
   ]
  },
  {
   "cell_type": "code",
   "execution_count": 14,
   "id": "9cd26b69-a9c5-4577-8280-7c25e4347ae1",
   "metadata": {},
   "outputs": [
    {
     "data": {
      "text/plain": [
       "array([1.00000000e+08, 3.86666667e+01, 1.83157895e+01, 1.20000000e+01,\n",
       "       8.92307692e+00, 7.10204082e+00, 5.04347826e+00, 3.91011236e+00,\n",
       "       3.19266055e+00, 1.51965066e+00, 8.11188811e-01, 3.38192420e-01])"
      ]
     },
     "execution_count": 14,
     "metadata": {},
     "output_type": "execute_result"
    }
   ],
   "source": [
    "d = max(layer_distances)\n",
    "z_max = max_z(concrete5, rebar60)\n",
    "z_values = np.array([z_max, 1, 0.5, 0, -0.5, -1, -2, -3, -4, -10, -20, -50])\n",
    "c_values = np.zeros(z_values.shape[0])\n",
    "for i in range(z_values.shape[0]):\n",
    "    c_values[i] = c_from_z(z_values[i], d, concrete5, rebar60)\n",
    "c_values"
   ]
  },
  {
   "cell_type": "code",
   "execution_count": 15,
   "id": "3c1c974d-2851-483c-af1a-7fa957c99148",
   "metadata": {},
   "outputs": [],
   "source": [
    "P = np.zeros(z_values.shape[0])\n",
    "M = np.zeros(z_values.shape[0])\n",
    "for i in range(z_values.shape[0]):\n",
    "    P[i] = sum_total_forces(c_values[i], bw, h, layer_distances, layer_areas, concrete5, rebar60)\n",
    "    M[i] = sum_total_moments(c_values[i], bw, h, layer_distances, layer_areas, concrete5, rebar60)"
   ]
  },
  {
   "cell_type": "code",
   "execution_count": 16,
   "id": "d74a143e-2e1b-4edc-82b0-3430ecb812aa",
   "metadata": {},
   "outputs": [
    {
     "data": {
      "text/plain": [
       "[<matplotlib.lines.Line2D at 0x24def2a55a0>]"
      ]
     },
     "execution_count": 16,
     "metadata": {},
     "output_type": "execute_result"
    },
    {
     "data": {
      "image/png": "[encoded data removed]",
      "text/plain": [
       "<Figure size 640x480 with 1 Axes>"
      ]
     },
     "metadata": {},
     "output_type": "display_data"
    }
   ],
   "source": [
    "plt.scatter(M/12000, P/1000, color='dodgerblue', linewidth=5)\n",
    "plt.plot(M/12000, P/1000, color='dodgerblue', linewidth=1)"
   ]
  },
  {
   "cell_type": "markdown",
   "id": "fb9440b4-ed7a-448b-a28a-d5c91ce36caf",
   "metadata": {},
   "source": [
    "### Create Backside P-M Diagram"
   ]
  },
  {
   "cell_type": "code",
   "execution_count": 17,
   "id": "39296681-4b83-4dba-894c-9a8d64635cdb",
   "metadata": {},
   "outputs": [],
   "source": [
    "layer_distances_rev = np.flip(h - layer_distances)\n",
    "layer_areas_rev = np.flip(layer_areas)"
   ]
  },
  {
   "cell_type": "code",
   "execution_count": 18,
   "id": "17445735-ad5c-4830-bc2c-ad504a800922",
   "metadata": {},
   "outputs": [],
   "source": [
    "d_rev = max(layer_distances_rev)\n",
    "z_max = max_z(concrete5, rebar60)\n",
    "z_values_rev = np.flip(np.array([z_max, 1, 0.5, 0, -0.5, -1, -2, -3, -4, -10, -20, -50]))\n",
    "c_values_rev = np.zeros(z_values_rev.shape[0])\n",
    "for i in range(z_values_rev.shape[0]):\n",
    "    c_values_rev[i] = c_from_z(z_values_rev[i], d_rev, concrete5, rebar60)"
   ]
  },
  {
   "cell_type": "code",
   "execution_count": 19,
   "id": "ba98e86b-f0c8-423e-bd31-c447885f1140",
   "metadata": {},
   "outputs": [],
   "source": [
    "P_rev = np.zeros(z_values_rev.shape[0])\n",
    "M_rev = np.zeros(z_values_rev.shape[0])\n",
    "for i in range(z_values_rev.shape[0]):\n",
    "    P_rev[i] = sum_total_forces(c_values_rev[i], bw, h, layer_distances, layer_areas, concrete5, rebar60)\n",
    "    M_rev[i] = sum_total_moments(c_values_rev[i], bw, h, layer_distances, layer_areas, concrete5, rebar60)"
   ]
  },
  {
   "cell_type": "code",
   "execution_count": 20,
   "id": "ee245a80-db7e-4b90-934b-1a7e53120a2e",
   "metadata": {},
   "outputs": [
    {
     "data": {
      "text/plain": [
       "[<matplotlib.lines.Line2D at 0x24df14db6d0>]"
      ]
     },
     "execution_count": 20,
     "metadata": {},
     "output_type": "execute_result"
    },
    {
     "data": {
      "image/png": "[encoded data removed]",
      "text/plain": [
       "<Figure size 640x480 with 1 Axes>"
      ]
     },
     "metadata": {},
     "output_type": "display_data"
    }
   ],
   "source": [
    "plt.scatter(-M_rev/12000, P_rev/1000, color='dodgerblue', linewidth=5)\n",
    "plt.plot(-M_rev/12000, P_rev/1000, color='dodgerblue', linewidth=1)"
   ]
  },
  {
   "cell_type": "code",
   "execution_count": 21,
   "id": "f050020e-e26f-4725-a279-ae7e700ce53f",
   "metadata": {},
   "outputs": [
    {
     "data": {
      "text/plain": [
       "[<matplotlib.lines.Line2D at 0x24df152ab60>]"
      ]
     },
     "execution_count": 21,
     "metadata": {},
     "output_type": "execute_result"
    },
    {
     "data": {
      "image/png": "[encoded data removed]",
      "text/plain": [
       "<Figure size 640x480 with 1 Axes>"
      ]
     },
     "metadata": {},
     "output_type": "display_data"
    }
   ],
   "source": [
    "plt.scatter(M/12000, P/1000, color='dodgerblue', linewidth=5)\n",
    "plt.plot(M/12000, P/1000, color='dodgerblue', linewidth=1)\n",
    "plt.scatter(M_rev/12000, P_rev/1000, color='tomato', linewidth=5)\n",
    "plt.plot(M_rev/12000, P_rev/1000, color='tomato', linewidth=1)"
   ]
  },
  {
   "cell_type": "code",
   "execution_count": null,
   "id": "c8f9de09-75e9-42af-a023-8e46e9658917",
   "metadata": {},
   "outputs": [],
   "source": []
  },
  {
   "cell_type": "code",
   "execution_count": 22,
   "id": "e2077a41-2f82-458c-a659-d5ca6533e0f8",
   "metadata": {},
   "outputs": [
    {
     "data": {
      "text/plain": [
       "-3.905143417258064"
      ]
     },
     "execution_count": 22,
     "metadata": {},
     "output_type": "execute_result"
    }
   ],
   "source": [
    "z_m = z_at_pure_m(bw, h, layer_distances, layer_areas, concrete5, rebar60)\n",
    "z_m"
   ]
  },
  {
   "cell_type": "code",
   "execution_count": 23,
   "id": "641c9248-5a42-42f8-bbbb-3b409e1af577",
   "metadata": {},
   "outputs": [
    {
     "data": {
      "text/plain": [
       "3.2492126996869737"
      ]
     },
     "execution_count": 23,
     "metadata": {},
     "output_type": "execute_result"
    }
   ],
   "source": [
    "c_m = c_from_z(z_m, max(layer_distances), concrete5, rebar60)\n",
    "c_m"
   ]
  },
  {
   "cell_type": "code",
   "execution_count": 24,
   "id": "04845b62-3c50-4e0a-8038-e6717241c652",
   "metadata": {},
   "outputs": [
    {
     "data": {
      "text/plain": [
       "(6.819027476012707e-11, 207.68035578552673)"
      ]
     },
     "execution_count": 24,
     "metadata": {},
     "output_type": "execute_result"
    }
   ],
   "source": [
    "PM_m = pm_points(c_m, bw, h, layer_distances, layer_areas, concrete5, rebar60)\n",
    "PM_m[0]/1000, PM_m[1]/12000"
   ]
  },
  {
   "cell_type": "code",
   "execution_count": 25,
   "id": "5bbb485b-e958-4bb8-8ab8-7b5b0f9291c3",
   "metadata": {},
   "outputs": [
    {
     "data": {
      "text/plain": [
       "(7.1020408163265305, 5.142857142857143)"
      ]
     },
     "execution_count": 25,
     "metadata": {},
     "output_type": "execute_result"
    }
   ],
   "source": [
    "d = max(layer_distances)\n",
    "c_6 = c_from_z(-1, d, concrete5, rebar60)\n",
    "c_8a = c_from_strain(-0.004, d, concrete5)\n",
    "c_6, c_8a"
   ]
  },
  {
   "cell_type": "code",
   "execution_count": 26,
   "id": "24b57ea6-c647-4a44-903a-029423923346",
   "metadata": {},
   "outputs": [
    {
     "data": {
      "text/plain": [
       "4.499999999999999"
      ]
     },
     "execution_count": 26,
     "metadata": {},
     "output_type": "execute_result"
    }
   ],
   "source": [
    "c_8 = c_from_strain(-0.005, d, concrete5)\n",
    "c_8"
   ]
  },
  {
   "cell_type": "code",
   "execution_count": 27,
   "id": "1cb42143-7779-452b-af32-7d383f2cc33d",
   "metadata": {},
   "outputs": [
    {
     "data": {
      "text/plain": [
       "array([13.5,  6. ])"
      ]
     },
     "execution_count": 27,
     "metadata": {},
     "output_type": "execute_result"
    }
   ],
   "source": [
    "new_layers = np.array([2.5, 10])\n",
    "h - new_layers"
   ]
  },
  {
   "cell_type": "code",
   "execution_count": 28,
   "id": "33108d57-31e7-40e6-9e16-e72f5fb2e4a2",
   "metadata": {},
   "outputs": [
    {
     "data": {
      "text/plain": [
       "array([ 6. , 13.5])"
      ]
     },
     "execution_count": 28,
     "metadata": {},
     "output_type": "execute_result"
    }
   ],
   "source": [
    "np.flip(h - new_layers)"
   ]
  },
  {
   "cell_type": "code",
   "execution_count": null,
   "id": "ece7c713-1a35-460b-8eda-d7105b828718",
   "metadata": {},
   "outputs": [],
   "source": []
  }
 ],
 "metadata": {
  "kernelspec": {
   "display_name": "Python 3 (ipykernel)",
   "language": "python",
   "name": "python3"
  },
  "language_info": {
   "codemirror_mode": {
    "name": "ipython",
    "version": 3
   },
   "file_extension": ".py",
   "mimetype": "text/x-python",
   "name": "python",
   "nbconvert_exporter": "python",
   "pygments_lexer": "ipython3",
   "version": "3.10.5"
  }
 },
 "nbformat": 4,
 "nbformat_minor": 5
}

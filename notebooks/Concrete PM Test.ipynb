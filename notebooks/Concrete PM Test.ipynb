{
 "cells": [
  {
   "cell_type": "markdown",
   "id": "2372788f-3b08-454c-ab2d-e35e08688609",
   "metadata": {},
   "source": [
    "# Module Test Template"
   ]
  },
  {
   "cell_type": "markdown",
   "id": "a395232d-f76a-449e-be1b-0446afeed13d",
   "metadata": {},
   "source": [
    "## Module & Test Description\n",
    "This Notebook is used for developing and testing functions relating to the PM generator in *concrete.py*"
   ]
  },
  {
   "cell_type": "markdown",
   "id": "56b56077-38d6-40b6-864f-6acc86d6d99d",
   "metadata": {},
   "source": [
    "### Imports\n",
    "##### General Imports"
   ]
  },
  {
   "cell_type": "code",
   "execution_count": 1,
   "id": "5479e169-7452-45d0-aa9c-e470d4df98ea",
   "metadata": {},
   "outputs": [],
   "source": [
    "import os, sys, pathlib\n",
    "import numpy as np\n",
    "import pandas as pd\n",
    "import matplotlib.pyplot as plt\n",
    "import scipy as sc\n",
    "import shapely as sh"
   ]
  },
  {
   "cell_type": "code",
   "execution_count": 2,
   "id": "ad180316-fd3e-4c5d-9242-0ae69b517f97",
   "metadata": {},
   "outputs": [],
   "source": [
    "import math"
   ]
  },
  {
   "cell_type": "markdown",
   "id": "7757166a-bb74-4490-91d6-a6b4100ba823",
   "metadata": {},
   "source": [
    "##### Extend PYPATH to current folder:\n",
    "This allows importing libraries from the same folder; <code>pathlib.Path().resolve()</code> returns the path of the current directory."
   ]
  },
  {
   "cell_type": "code",
   "execution_count": 3,
   "id": "1454a3e7-7240-479e-a935-30b92001f476",
   "metadata": {},
   "outputs": [],
   "source": [
    "sys.path.extend([pathlib.Path().resolve()])"
   ]
  },
  {
   "cell_type": "markdown",
   "id": "9d8241f1-bc56-476c-adb8-18059b758262",
   "metadata": {},
   "source": [
    "Import specific testing modules:"
   ]
  },
  {
   "cell_type": "code",
   "execution_count": 4,
   "id": "b75c88e5-46c9-4d66-909e-c7d53835c860",
   "metadata": {},
   "outputs": [
    {
     "name": "stdout",
     "output_type": "stream",
     "text": [
      "materials.py <version 0.0.5> successfully imported\n"
     ]
    }
   ],
   "source": [
    "import materials as mat"
   ]
  },
  {
   "cell_type": "code",
   "execution_count": 5,
   "id": "abb44a6d-b966-433d-b37e-ec0eb8edffe6",
   "metadata": {},
   "outputs": [
    {
     "name": "stdout",
     "output_type": "stream",
     "text": [
      "concrete.py <version 0.0.3> successfully imported\n"
     ]
    }
   ],
   "source": [
    "from concrete import *"
   ]
  },
  {
   "cell_type": "markdown",
   "id": "805b2853-41fd-4516-86d0-41cf380a3750",
   "metadata": {},
   "source": [
    "##### Initial Column Example Parameters"
   ]
  },
  {
   "cell_type": "code",
   "execution_count": 6,
   "id": "e2a1781d-4f56-4696-9063-aaf251b50318",
   "metadata": {},
   "outputs": [],
   "source": [
    "bw = 16\n",
    "h = 16\n",
    "conc5 = mat.ConcreteMaterial(5000)\n",
    "rebar60 = mat.RebarMaterial(60000)\n",
    "layer_distances = np.array([2.5, 13.5])\n",
    "layer_areas = np.array([rebar60.bar_areas[9],rebar60.bar_areas[9]]) * 4"
   ]
  },
  {
   "cell_type": "markdown",
   "id": "00067c54-b2e0-4278-bcd3-dda7654f6ee5",
   "metadata": {},
   "source": [
    "##### Secondary Parameters"
   ]
  },
  {
   "cell_type": "code",
   "execution_count": 7,
   "id": "bde06752-3d09-4a55-8890-0772142d03e8",
   "metadata": {},
   "outputs": [
    {
     "data": {
      "text/plain": [
       "(256, 8.0)"
      ]
     },
     "execution_count": 7,
     "metadata": {},
     "output_type": "execute_result"
    }
   ],
   "source": [
    "gross_area = bw * h\n",
    "steel_area = np.sum(layer_areas)\n",
    "d = max(layer_distances)\n",
    "gross_area, steel_area"
   ]
  },
  {
   "cell_type": "markdown",
   "id": "6d40a645-7a67-4f8b-aa6e-750d04867706",
   "metadata": {},
   "source": [
    "##### Calculate Extreme Capacities"
   ]
  },
  {
   "cell_type": "code",
   "execution_count": 8,
   "id": "f1e0bcb7-4d11-43d6-93b1-d8a9fdd8d88f",
   "metadata": {},
   "outputs": [
    {
     "data": {
      "text/plain": [
       "(1534.0, -480.0)"
      ]
     },
     "execution_count": 8,
     "metadata": {},
     "output_type": "execute_result"
    }
   ],
   "source": [
    "max_comp = maxAxial(gross_area=gross_area, layer_areas=layer_areas, concrete=conc5, rebar=rebar60, isTensionCase=False)\n",
    "max_tens = maxAxial(gross_area=gross_area, layer_areas=layer_areas, concrete=conc5, rebar=rebar60, isTensionCase=True)\n",
    "\n",
    "# Print capacity in kips\n",
    "# Note: these capacities are purely theoretical and do not include strength reduction factors, etc.\n",
    "max_comp/1000, max_tens/1000"
   ]
  },
  {
   "cell_type": "code",
   "execution_count": 9,
   "id": "b44fa9f2-1207-4fdf-bdfd-25a831aca4df",
   "metadata": {},
   "outputs": [
    {
     "data": {
      "text/plain": [
       "(1.449999999980425, -57.99999999999999)"
      ]
     },
     "execution_count": 9,
     "metadata": {},
     "output_type": "execute_result"
    }
   ],
   "source": [
    "# Determine the Z factors for these capacities\n",
    "yeild_strain = rebar60.ey\n",
    "\n",
    "# At maximum compression, c = infinity\n",
    "# At maximum tension, c = 0\n",
    "c_comp = 1e12\n",
    "c_tens = 0\n",
    "\n",
    "e_comp = layerStrain(d, c_comp, conc5, rebar60)\n",
    "e_tens = layerStrain(d, c_tens, conc5, rebar60)\n",
    "\n",
    "#Print the Z values associated with Pmax and Pmin\n",
    "e_comp/rebar60.ey, e_tens/rebar60.ey"
   ]
  },
  {
   "cell_type": "markdown",
   "id": "33d18628-5d94-44aa-a2b6-b5961008c912",
   "metadata": {},
   "source": [
    "##### Helper Functions that Simplify the Previous Calcs"
   ]
  },
  {
   "cell_type": "code",
   "execution_count": 10,
   "id": "9db3bad9-2b4d-4c45-8d58-48ae05de7226",
   "metadata": {},
   "outputs": [
    {
     "data": {
      "text/plain": [
       "(100000.0, 0)"
      ]
     },
     "execution_count": 10,
     "metadata": {},
     "output_type": "execute_result"
    }
   ],
   "source": [
    "c_comp = cAtMaxComp()\n",
    "c_tens = cAtMaxTension()\n",
    "c_comp, c_tens"
   ]
  },
  {
   "cell_type": "code",
   "execution_count": 11,
   "id": "dee4cb82-b55c-4ca6-8331-f412eb966aa2",
   "metadata": {},
   "outputs": [
    {
     "data": {
      "text/plain": [
       "(1.45, -58.0)"
      ]
     },
     "execution_count": 11,
     "metadata": {},
     "output_type": "execute_result"
    }
   ],
   "source": [
    "z_comp = zAtMaxComp(conc5, rebar60)\n",
    "z_tens = zAtMaxTension(rebar60)\n",
    "z_comp, z_tens"
   ]
  },
  {
   "cell_type": "code",
   "execution_count": 12,
   "id": "02784daa-d6b9-4c28-b306-61b9117cb868",
   "metadata": {},
   "outputs": [
    {
     "data": {
      "text/plain": [
       "(True, True)"
      ]
     },
     "execution_count": 12,
     "metadata": {},
     "output_type": "execute_result"
    }
   ],
   "source": [
    "round(e_comp/rebar60.ey, 2) == z_comp, round(e_tens/rebar60.ey, 2) == z_tens"
   ]
  },
  {
   "cell_type": "markdown",
   "id": "33af9261-e230-4c83-b341-7b9ec5a47b0f",
   "metadata": {},
   "source": [
    "### C Values over a Range of Z Values"
   ]
  },
  {
   "cell_type": "code",
   "execution_count": 13,
   "id": "094c473a-d0c5-4717-a0d5-42f9117cf67c",
   "metadata": {},
   "outputs": [
    {
     "data": {
      "text/plain": [
       "array([-58.        , -51.39444444, -44.78888889, -38.18333333,\n",
       "       -31.57777778, -24.97222222, -18.36666667, -11.76111111,\n",
       "        -5.15555556,   1.45      ])"
      ]
     },
     "execution_count": 13,
     "metadata": {},
     "output_type": "execute_result"
    }
   ],
   "source": [
    "z_array = np.linspace(z_tens, z_comp, 10)\n",
    "z_array"
   ]
  },
  {
   "cell_type": "code",
   "execution_count": 14,
   "id": "69fabd6b-05fa-4e5d-83e9-489c2e44eae2",
   "metadata": {},
   "outputs": [
    {
     "data": {
      "text/plain": [
       "array([0.00000000e+00, 3.70426829e-01, 4.23344948e-01, 4.93902439e-01,\n",
       "       5.92682927e-01, 7.40853659e-01, 9.87804878e-01, 1.48170732e+00,\n",
       "       2.96341463e+00, 1.00000000e+06])"
      ]
     },
     "execution_count": 14,
     "metadata": {},
     "output_type": "execute_result"
    }
   ],
   "source": [
    "c_array = np.zeros(z_array.shape[0])\n",
    "for i in range(c_array.shape[0]):\n",
    "    c_array[i] = cFromZ(z_array[i], d, conc5, rebar60)\n",
    "c_array"
   ]
  },
  {
   "cell_type": "code",
   "execution_count": 15,
   "id": "b49d1ed9-eb0e-4901-a9c0-fba57c84a865",
   "metadata": {},
   "outputs": [],
   "source": [
    "calcd_z_array = np.zeros(z_array.shape[0])\n",
    "for i in range(calcd_z_array.shape[0]):\n",
    "    calcd_z_array[i] = zFromC(c_array[i], d, conc5, rebar60)"
   ]
  },
  {
   "cell_type": "code",
   "execution_count": 16,
   "id": "ecd1b9b9-3471-4569-8c0f-8d886d7684a2",
   "metadata": {},
   "outputs": [
    {
     "data": {
      "text/plain": [
       "array([ 0.00000000e+00, -7.10542736e-15,  0.00000000e+00,  0.00000000e+00,\n",
       "       -3.55271368e-15,  0.00000000e+00,  0.00000000e+00,  0.00000000e+00,\n",
       "       -1.77635684e-15,  1.95750000e-05])"
      ]
     },
     "execution_count": 16,
     "metadata": {},
     "output_type": "execute_result"
    }
   ],
   "source": [
    "# The difference between the Z values is neglible\n",
    "diff = np.subtract(z_array, calcd_z_array)\n",
    "diff"
   ]
  },
  {
   "cell_type": "code",
   "execution_count": 17,
   "id": "9cd00f6c-5567-4e72-b1fd-20e9a0f720c2",
   "metadata": {},
   "outputs": [
    {
     "data": {
      "text/plain": [
       "(-7.105427357601002e-15, 1.9575000000049414e-05)"
      ]
     },
     "execution_count": 17,
     "metadata": {},
     "output_type": "execute_result"
    }
   ],
   "source": [
    "min(diff), max(diff)"
   ]
  },
  {
   "cell_type": "markdown",
   "id": "63f881f0-b7ec-4fb1-96a6-884d93391d3e",
   "metadata": {},
   "source": [
    "### c and Z Values over Range of Strains"
   ]
  },
  {
   "cell_type": "code",
   "execution_count": 99,
   "id": "7d0e5789-b455-4f1b-b2a4-1bdfa165a9c9",
   "metadata": {},
   "outputs": [
    {
     "data": {
      "text/plain": [
       "array([-0.12      , -0.10666667, -0.09333333, -0.08      , -0.06666667,\n",
       "       -0.05333333, -0.04      , -0.02666667, -0.01333333,  0.        ,\n",
       "        0.        ,  0.00033333,  0.00066667,  0.001     ,  0.00133333,\n",
       "        0.00166667,  0.002     ,  0.00233333,  0.00266667,  0.003     ])"
      ]
     },
     "execution_count": 99,
     "metadata": {},
     "output_type": "execute_result"
    }
   ],
   "source": [
    "# First set up a range of strain values (from -eu to ecu)\n",
    "neg_strains = np.linspace(rebar60.eu, 0, 10)\n",
    "pos_strains = np.linspace(0, conc5.ecu, 10)\n",
    "strains = np.hstack((neg_strains, pos_strains))\n",
    "strains"
   ]
  },
  {
   "cell_type": "code",
   "execution_count": 129,
   "id": "d3f5b51a-a117-44b1-94aa-cda78bc03a6e",
   "metadata": {},
   "outputs": [],
   "source": [
    "c_vals = np.zeros(strains.shape[0])\n",
    "for i in range(c_vals.shape[0]):\n",
    "    c_vals[i] = cFromStrain(strains[i], d, conc5)"
   ]
  },
  {
   "cell_type": "code",
   "execution_count": 130,
   "id": "ab0d479e-7bff-47fb-9661-edaba7bc8748",
   "metadata": {},
   "outputs": [
    {
     "data": {
      "text/plain": [
       "array([-58.        , -51.55555556, -45.11111111, -38.66666667,\n",
       "       -32.22222222, -25.77777778, -19.33333333, -12.88888889,\n",
       "        -6.44444444,   0.        ,   0.        ,   0.16111111,\n",
       "         0.32222222,   0.48333333,   0.64444444,   0.80555556,\n",
       "         0.96666667,   1.12777778,   1.28888889,   1.44980425])"
      ]
     },
     "execution_count": 130,
     "metadata": {},
     "output_type": "execute_result"
    }
   ],
   "source": [
    "z_vals = np.zeros(strains.shape[0])\n",
    "for i in range(z_vals.shape[0]):\n",
    "    z_vals[i] = zFromC(c_vals[i], d, conc5, rebar60)\n",
    "z_vals"
   ]
  },
  {
   "cell_type": "code",
   "execution_count": 131,
   "id": "90ef0160-b069-438a-a39c-d2e6813a0689",
   "metadata": {},
   "outputs": [
    {
     "data": {
      "text/plain": [
       "Text(0.5, 0, 'c distance (in)')"
      ]
     },
     "execution_count": 131,
     "metadata": {},
     "output_type": "execute_result"
    },
    {
     "data": {
      "image/png": "[encoded data removed]",
      "text/plain": [
       "<Figure size 640x480 with 1 Axes>"
      ]
     },
     "metadata": {},
     "output_type": "display_data"
    }
   ],
   "source": [
    "# Plot the z values as they relate to c distances (over the depth of the member, h)\n",
    "fig, ax = plt.subplots()\n",
    "plt.plot(c_vals, z_vals, color='dodgerblue', linewidth=3)\n",
    "plt.xlim(0,h)\n",
    "ax.set_ylabel('Z value (fy)')\n",
    "ax.set_xlabel('c distance (in)')"
   ]
  },
  {
   "cell_type": "code",
   "execution_count": 132,
   "id": "ab6f713e-6c8d-4004-b71c-648321aff2b7",
   "metadata": {},
   "outputs": [
    {
     "name": "stdout",
     "output_type": "stream",
     "text": [
      "0 -0.01977777777777778 -0.12\n",
      "1 -0.01730864197530864 -0.10666666666666665\n",
      "2 -0.014839506172839505 -0.09333333333333334\n",
      "3 -0.012370370370370372 -0.08\n",
      "4 -0.009901234567901235 -0.06666666666666667\n",
      "5 -0.007432098765432098 -0.05333333333333332\n",
      "6 -0.004962962962962963 -0.04000000000000001\n",
      "7 -0.0024938271604938284 -0.026666666666666672\n",
      "8 -2.46913580246922e-05 -0.013333333333333338\n",
      "9 0.0024444444444444444 0.0\n",
      "10 0.0024444444444444444 0.0\n",
      "11 0.0025061728395061726 0.0003333333333333333\n",
      "12 0.002567901234567901 0.0006666666666666668\n",
      "13 0.0026296296296296298 0.0009999999999999996\n",
      "14 0.002691358024691358 0.001333333333333333\n",
      "15 0.002753086419753086 0.0016666666666666666\n",
      "16 0.0028148148148148147 0.0019999999999999996\n",
      "17 0.002876543209876543 0.0023333333333333327\n",
      "18 0.0029382716049382715 0.0026666666666666666\n",
      "19 0.002999925 0.002999595\n"
     ]
    }
   ],
   "source": [
    "# Calculate and print the strain at each layer for each strain case\n",
    "for i in range(strains.shape[0]):\n",
    "    print(i,\n",
    "          layerStrain(layer_distances[0], c_vals[i], conc5, rebar60), \n",
    "          layerStrain(layer_distances[1], c_vals[i], conc5, rebar60))"
   ]
  },
  {
   "cell_type": "code",
   "execution_count": 133,
   "id": "6269dcb9-03fb-404a-9672-fb60c166dd30",
   "metadata": {},
   "outputs": [
    {
     "name": "stdout",
     "output_type": "stream",
     "text": [
      "0 -60000 -60000\n",
      "1 -60000 -60000\n",
      "2 -60000 -60000\n",
      "3 -60000 -60000\n",
      "4 -60000 -60000\n",
      "5 -60000 -60000\n",
      "6 -60000 -60000\n",
      "7 -60000 -60000\n",
      "8 -716.0493827160738 -60000\n",
      "9 60000 0.0\n",
      "10 60000 0.0\n",
      "11 60000 9666.666666666666\n",
      "12 60000 19333.333333333336\n",
      "13 60000 28999.99999999999\n",
      "14 60000 38666.66666666666\n",
      "15 60000 48333.33333333333\n",
      "16 60000 57999.999999999985\n",
      "17 60000 60000\n",
      "18 60000 60000\n",
      "19 60000 60000\n"
     ]
    }
   ],
   "source": [
    "# Calculate and print the stresses at each layer for each strain\n",
    "for i in range(strains.shape[0]):\n",
    "    print(i, \n",
    "          layerStress(layer_distances[0], c_vals[i], conc5, rebar60), \n",
    "          layerStress(layer_distances[1], c_vals[i], conc5, rebar60))"
   ]
  },
  {
   "cell_type": "code",
   "execution_count": 134,
   "id": "f619ebce-9871-4b63-897c-bcc749f0de36",
   "metadata": {},
   "outputs": [
    {
     "name": "stdout",
     "output_type": "stream",
     "text": [
      "0 -240000.0 -240000.0\n",
      "1 -240000.0 -240000.0\n",
      "2 -240000.0 -240000.0\n",
      "3 -240000.0 -240000.0\n",
      "4 -240000.0 -240000.0\n",
      "5 -240000.0 -240000.0\n",
      "6 -240000.0 -240000.0\n",
      "7 -240000.0 -240000.0\n",
      "8 -2864.197530864295 -240000.0\n",
      "9 223000.0 0.0\n",
      "10 223000.0 0.0\n",
      "11 223000.0 21666.666666666664\n",
      "12 223000.0 60333.33333333334\n",
      "13 223000.0 98999.99999999996\n",
      "14 223000.0 137666.66666666663\n",
      "15 223000.0 176333.3333333333\n",
      "16 223000.0 214999.99999999994\n",
      "17 223000.0 223000.0\n",
      "18 223000.0 223000.0\n",
      "19 223000.0 223000.0\n"
     ]
    }
   ],
   "source": [
    "# Calculate and print the forces at each layer for each strain\n",
    "for i in range(strains.shape[0]):\n",
    "    print(i, \n",
    "          layerForce(layer_areas[0], layer_distances[0], c_vals[i], conc5, rebar60), \n",
    "          layerForce(layer_areas[1], layer_distances[1], c_vals[i], conc5, rebar60))"
   ]
  },
  {
   "cell_type": "code",
   "execution_count": 135,
   "id": "dac0b1da-af0f-488b-9eec-6d50612b98de",
   "metadata": {},
   "outputs": [],
   "source": [
    "P = np.zeros(strains.shape[0] + 1)\n",
    "M = np.zeros(strains.shape[0] + 1)\n",
    "for i in range(strains.shape[0]):\n",
    "    P[i], M[i] = PMPoints(c_vals[i], bw, h, layer_distances, layer_areas, conc5, rebar60)"
   ]
  },
  {
   "cell_type": "code",
   "execution_count": 136,
   "id": "ac58e52f-4076-46ca-843f-71e6fe4c7543",
   "metadata": {},
   "outputs": [
    {
     "data": {
      "text/plain": [
       "1534.0"
      ]
     },
     "execution_count": 136,
     "metadata": {},
     "output_type": "execute_result"
    }
   ],
   "source": [
    "max_comp/1000"
   ]
  },
  {
   "cell_type": "code",
   "execution_count": 137,
   "id": "7b33bd9b-c91c-4f16-b5f8-a64ac8048ebd",
   "metadata": {},
   "outputs": [
    {
     "data": {
      "text/plain": [
       "(array([-462.08780488, -459.9100304 , -457.12941176, -453.45542169,\n",
       "        -448.37511962, -440.88994083, -428.7627907 , -405.73483146,\n",
       "        -107.97440161,  957.4       ,  957.4       , 1070.86666667,\n",
       "        1130.775     , 1130.775     , 1130.775     , 1130.775     ,\n",
       "        1130.775     , 1130.775     , 1130.775     , 1130.775     ,\n",
       "        1534.        ]),\n",
       " array([ 11.74486615,  13.14600493,  14.92655404,  17.26463638,\n",
       "         20.47042696,  25.13611988,  32.54952948,  46.13062997,\n",
       "        187.46471885, 261.32833333, 261.32833333, 224.81402778,\n",
       "        201.13145833, 201.13145833, 201.13145833, 201.13145833,\n",
       "        201.13145833, 201.13145833, 201.13145833, 201.13145833,\n",
       "          0.        ]))"
      ]
     },
     "execution_count": 137,
     "metadata": {},
     "output_type": "execute_result"
    }
   ],
   "source": [
    "P[-1] = max_comp\n",
    "P/1000, M/12000"
   ]
  },
  {
   "cell_type": "code",
   "execution_count": 138,
   "id": "07b7cbe9-e893-441b-ba06-ed4ac33e05b1",
   "metadata": {},
   "outputs": [
    {
     "data": {
      "text/plain": [
       "[<matplotlib.lines.Line2D at 0x2cf8629ddb0>]"
      ]
     },
     "execution_count": 138,
     "metadata": {},
     "output_type": "execute_result"
    },
    {
     "data": {
      "image/png": "[encoded data removed]",
      "text/plain": [
       "<Figure size 640x480 with 1 Axes>"
      ]
     },
     "metadata": {},
     "output_type": "display_data"
    }
   ],
   "source": [
    "# Cheap way to plot y = 0\n",
    "zero_line = np.array([(0,0), (max(M)/12000,0)])\n",
    "plt.plot(zero_line[:,0], zero_line[:,1], color='lightgrey', linewidth=1)\n",
    "\n",
    "# Now let's plot the PM Diagram\n",
    "plt.plot(M/12000, P/1000, color='tomato', linewidth=5)"
   ]
  },
  {
   "cell_type": "code",
   "execution_count": null,
   "id": "3924a80a-f8ef-4401-bec1-e6887f5aba61",
   "metadata": {},
   "outputs": [],
   "source": []
  },
  {
   "cell_type": "markdown",
   "id": "66e8f1cb-1ba0-432e-9eed-cf15c2d2e577",
   "metadata": {},
   "source": [
    "## Bi-Section Method of Finding Roots\n",
    "Need to use the bi-section method for finding roots, to determine the Z (ey ratio at distance d) that corresponds to an axial demand P."
   ]
  },
  {
   "cell_type": "code",
   "execution_count": null,
   "id": "9973fae5-3c06-415a-a94b-2627f49c513f",
   "metadata": {},
   "outputs": [],
   "source": []
  }
 ],
 "metadata": {
  "kernelspec": {
   "display_name": "Python 3 (ipykernel)",
   "language": "python",
   "name": "python3"
  },
  "language_info": {
   "codemirror_mode": {
    "name": "ipython",
    "version": 3
   },
   "file_extension": ".py",
   "mimetype": "text/x-python",
   "name": "python",
   "nbconvert_exporter": "python",
   "pygments_lexer": "ipython3",
   "version": "3.10.5"
  }
 },
 "nbformat": 4,
 "nbformat_minor": 5
}

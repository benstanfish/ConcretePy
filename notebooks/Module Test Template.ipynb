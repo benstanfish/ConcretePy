{
 "cells": [
  {
   "cell_type": "markdown",
   "id": "2372788f-3b08-454c-ab2d-e35e08688609",
   "metadata": {},
   "source": [
    "# Module Test Template"
   ]
  },
  {
   "cell_type": "markdown",
   "id": "a395232d-f76a-449e-be1b-0446afeed13d",
   "metadata": {},
   "source": [
    "## 1. Module & Test Description"
   ]
  },
  {
   "cell_type": "markdown",
   "id": "439a0cb0-2595-44bc-97fa-943fa9bc0e19",
   "metadata": {},
   "source": []
  },
  {
   "cell_type": "markdown",
   "id": "56b56077-38d6-40b6-864f-6acc86d6d99d",
   "metadata": {},
   "source": [
    "### Imports\n",
    "##### General Imports"
   ]
  },
  {
   "cell_type": "code",
   "execution_count": 28,
   "id": "5479e169-7452-45d0-aa9c-e470d4df98ea",
   "metadata": {},
   "outputs": [],
   "source": [
    "import os, sys, pathlib\n",
    "import numpy as np\n",
    "import pandas as pd\n",
    "import matplotlib.pyplot as plt\n",
    "import scipy as sc\n",
    "import shapely as sh"
   ]
  },
  {
   "cell_type": "markdown",
   "id": "7757166a-bb74-4490-91d6-a6b4100ba823",
   "metadata": {},
   "source": [
    "##### Extend PYPATH to current folder:\n",
    "This allows importing libraries from the same folder; <code>pathlib.Path().resolve()</code> returns the path of the current directory."
   ]
  },
  {
   "cell_type": "code",
   "execution_count": 29,
   "id": "1454a3e7-7240-479e-a935-30b92001f476",
   "metadata": {},
   "outputs": [],
   "source": [
    "sys.path.extend([pathlib.Path().resolve()])"
   ]
  },
  {
   "cell_type": "markdown",
   "id": "9d8241f1-bc56-476c-adb8-18059b758262",
   "metadata": {},
   "source": [
    "Import specific testing modules:"
   ]
  },
  {
   "cell_type": "code",
   "execution_count": null,
   "id": "b75c88e5-46c9-4d66-909e-c7d53835c860",
   "metadata": {},
   "outputs": [],
   "source": []
  },
  {
   "cell_type": "markdown",
   "id": "66e8f1cb-1ba0-432e-9eed-cf15c2d2e577",
   "metadata": {},
   "source": [
    "## 2. Section"
   ]
  },
  {
   "cell_type": "code",
   "execution_count": null,
   "id": "e2a1781d-4f56-4696-9063-aaf251b50318",
   "metadata": {},
   "outputs": [],
   "source": []
  }
 ],
 "metadata": {
  "kernelspec": {
   "display_name": "Python 3 (ipykernel)",
   "language": "python",
   "name": "python3"
  },
  "language_info": {
   "codemirror_mode": {
    "name": "ipython",
    "version": 3
   },
   "file_extension": ".py",
   "mimetype": "text/x-python",
   "name": "python",
   "nbconvert_exporter": "python",
   "pygments_lexer": "ipython3",
   "version": "3.10.5"
  }
 },
 "nbformat": 4,
 "nbformat_minor": 5
}

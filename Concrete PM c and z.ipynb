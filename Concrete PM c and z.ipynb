{
 "cells": [
  {
   "cell_type": "markdown",
   "id": "2372788f-3b08-454c-ab2d-e35e08688609",
   "metadata": {},
   "source": [
    "# Module Test Template"
   ]
  },
  {
   "cell_type": "markdown",
   "id": "a395232d-f76a-449e-be1b-0446afeed13d",
   "metadata": {},
   "source": [
    "## Module & Test Description"
   ]
  },
  {
   "cell_type": "markdown",
   "id": "439a0cb0-2595-44bc-97fa-943fa9bc0e19",
   "metadata": {},
   "source": [
    "This Notebook is used to evaulate c and z (ratio of steel_strain to yield_strain) relationships. Positive z values values signify the steel is in compression; negative values correspond to tension.\n",
    "\n",
    "c ranges from 0 (pure tension) to infinite (pure compression)."
   ]
  },
  {
   "cell_type": "markdown",
   "id": "56b56077-38d6-40b6-864f-6acc86d6d99d",
   "metadata": {},
   "source": [
    "### Imports\n",
    "##### General Imports"
   ]
  },
  {
   "cell_type": "code",
   "execution_count": 1,
   "id": "5479e169-7452-45d0-aa9c-e470d4df98ea",
   "metadata": {},
   "outputs": [],
   "source": [
    "import os, sys, pathlib\n",
    "import numpy as np\n",
    "import pandas as pd\n",
    "import matplotlib.pyplot as plt\n",
    "import scipy as sc\n",
    "import shapely as sh"
   ]
  },
  {
   "cell_type": "markdown",
   "id": "7757166a-bb74-4490-91d6-a6b4100ba823",
   "metadata": {},
   "source": [
    "##### Extend PYPATH to current folder:\n",
    "This allows importing libraries from the same folder; <code>pathlib.Path().resolve()</code> returns the path of the current directory."
   ]
  },
  {
   "cell_type": "code",
   "execution_count": 2,
   "id": "1454a3e7-7240-479e-a935-30b92001f476",
   "metadata": {},
   "outputs": [],
   "source": [
    "sys.path.extend([pathlib.Path().resolve()])"
   ]
  },
  {
   "cell_type": "markdown",
   "id": "9d8241f1-bc56-476c-adb8-18059b758262",
   "metadata": {},
   "source": [
    "Import specific testing modules:"
   ]
  },
  {
   "cell_type": "code",
   "execution_count": 3,
   "id": "b75c88e5-46c9-4d66-909e-c7d53835c860",
   "metadata": {},
   "outputs": [
    {
     "name": "stdout",
     "output_type": "stream",
     "text": [
      "rcmaterials <version 0.0.6> successfully imported\n",
      "rccolumn <version 0.0.4> successfully imported\n",
      "rcutilities <version 0.0.1> successfully imported\n"
     ]
    }
   ],
   "source": [
    "import rccolumn\n",
    "import rcmaterials\n",
    "import rcutilities"
   ]
  },
  {
   "cell_type": "markdown",
   "id": "66e8f1cb-1ba0-432e-9eed-cf15c2d2e577",
   "metadata": {},
   "source": [
    "## Input Values for Test Column Section"
   ]
  },
  {
   "cell_type": "code",
   "execution_count": 4,
   "id": "e2a1781d-4f56-4696-9063-aaf251b50318",
   "metadata": {},
   "outputs": [],
   "source": [
    "c_comp = rccolumn.CCOMP\n",
    "c_tens = rccolumn.CTENS\n",
    "\n",
    "conc = rcmaterials.ConcreteMaterial(5000)\n",
    "bw = 16\n",
    "h = 16\n",
    "\n",
    "rebar = rcmaterials.RebarMaterial(60000)\n",
    "layer_distances = np.array([2.5, 13.5])\n",
    "layer_bar_sizes = np.array([9, 9])\n",
    "layer_bar_counts = np.array([4, 4])"
   ]
  },
  {
   "cell_type": "code",
   "execution_count": 5,
   "id": "2f6791df-9164-4ce3-bc07-cf47b26efe50",
   "metadata": {},
   "outputs": [],
   "source": [
    "# Create function for returning array with total layer area by layer:\n",
    "def get_layer_areas(layer_bar_sizes, layer_bar_counts, rebar: rcmaterials.RebarMaterial):\n",
    "    layers = layer_bar_counts.shape[0]\n",
    "    layer_areas = np.zeros(layers)\n",
    "    for i in range(layers):\n",
    "        layer_areas[i] = rebar.bar_areas[layer_bar_sizes[i]] * layer_bar_counts[i]\n",
    "    return layer_areas"
   ]
  },
  {
   "cell_type": "code",
   "execution_count": 6,
   "id": "6caeebb5-d013-43f4-a6d9-12b436637b1a",
   "metadata": {},
   "outputs": [
    {
     "data": {
      "text/plain": [
       "array([4., 4.])"
      ]
     },
     "execution_count": 6,
     "metadata": {},
     "output_type": "execute_result"
    }
   ],
   "source": [
    "layer_areas = get_layer_areas(layer_bar_sizes, layer_bar_counts, rebar)\n",
    "layer_areas"
   ]
  },
  {
   "cell_type": "markdown",
   "id": "3645aa32-43b7-43b7-93b6-4a9a13faff53",
   "metadata": {},
   "source": [
    "<span style=\"color: orange;\">**TODO**:</span>\n",
    "- [ ]  In the US you'll generally use the same grade of bar everywhere, but in Japan, there are three common grades. As a code enchancement, need to expand the ability to have different layer fy and ey properties."
   ]
  },
  {
   "cell_type": "code",
   "execution_count": 7,
   "id": "bf1b9f83-1596-4029-bc03-2cde96d9e45d",
   "metadata": {},
   "outputs": [],
   "source": [
    "# Calculate other attributes of column, determined from factors above:"
   ]
  },
  {
   "cell_type": "code",
   "execution_count": 8,
   "id": "f4ac2c58-6627-428f-8f3a-5d64f3a743d5",
   "metadata": {},
   "outputs": [
    {
     "data": {
      "text/plain": [
       "(256, 8.0, 0.03125)"
      ]
     },
     "execution_count": 8,
     "metadata": {},
     "output_type": "execute_result"
    }
   ],
   "source": [
    "d = max(layer_distances)\n",
    "\n",
    "Ag = bw * h\n",
    "Astl = sum(layer_areas)\n",
    "rho = Astl / Ag\n",
    "\n",
    "Ag, Astl, rho"
   ]
  },
  {
   "cell_type": "markdown",
   "id": "d4d157e9-f152-4223-b1e4-6c37874f467d",
   "metadata": {},
   "source": [
    "<span style=\"color: orange;\">**TODO**:</span> \n",
    "- [X] Create function to calculate the column *rho*.\n",
    "- [X] Create function to return d and d'."
   ]
  },
  {
   "cell_type": "markdown",
   "id": "93da76a3-90dc-4c60-9091-34b8df6071d2",
   "metadata": {},
   "source": [
    "## Test Code at Pure Axial and Pure Moment Points\n",
    "Compare the following simple functions to the *pm_points()* output (all four are from *rccolumn.py*)"
   ]
  },
  {
   "cell_type": "code",
   "execution_count": 9,
   "id": "aa0ab38d-8e70-498e-9ac4-5b76ea34a607",
   "metadata": {},
   "outputs": [
    {
     "data": {
      "text/plain": [
       "1534.0"
      ]
     },
     "execution_count": 9,
     "metadata": {},
     "output_type": "execute_result"
    }
   ],
   "source": [
    "# Pure Compression\n",
    "Po = rccolumn.Po(bw * h, layer_areas, conc, rebar)\n",
    "Po / 1000"
   ]
  },
  {
   "cell_type": "code",
   "execution_count": 10,
   "id": "83e6ea64-9a61-4afa-a89c-471ab0c3c38e",
   "metadata": {},
   "outputs": [
    {
     "data": {
      "text/plain": [
       "(1534.0, 0.0)"
      ]
     },
     "execution_count": 10,
     "metadata": {},
     "output_type": "execute_result"
    }
   ],
   "source": [
    "# Compare with get_pm\n",
    "P, M = rccolumn.pm_points(c_comp, bw, h, layer_distances, layer_areas, conc, rebar)\n",
    "P / 1000, M / 12000"
   ]
  },
  {
   "cell_type": "code",
   "execution_count": 11,
   "id": "23336bb2-22a9-4a2c-b525-7281adb4b917",
   "metadata": {},
   "outputs": [
    {
     "data": {
      "text/plain": [
       "-480.0"
      ]
     },
     "execution_count": 11,
     "metadata": {},
     "output_type": "execute_result"
    }
   ],
   "source": [
    "# Pure Tension\n",
    "Pnt = rccolumn.Pnt(bw * h, layer_areas, conc, rebar)\n",
    "Pnt / 1000"
   ]
  },
  {
   "cell_type": "code",
   "execution_count": 12,
   "id": "65ee53b3-aba1-4e37-9ba4-54e0cddad799",
   "metadata": {},
   "outputs": [
    {
     "data": {
      "text/plain": [
       "(-480.0, 0.0)"
      ]
     },
     "execution_count": 12,
     "metadata": {},
     "output_type": "execute_result"
    }
   ],
   "source": [
    "# Compare with get_pm\n",
    "P, M = rccolumn.pm_points(c_tens, bw, h, layer_distances, layer_areas, conc, rebar)\n",
    "P / 1000, M / 12000"
   ]
  },
  {
   "cell_type": "code",
   "execution_count": 13,
   "id": "b95810df-ab76-45ff-a524-8d9ebf95f081",
   "metadata": {},
   "outputs": [
    {
     "data": {
      "text/plain": [
       "(-0.0, 237.68)"
      ]
     },
     "execution_count": 13,
     "metadata": {},
     "output_type": "execute_result"
    }
   ],
   "source": [
    "# Pure Moment Case\n",
    "# First need to calculate the Z ratio, then calculate c from Z:\n",
    "z_m = rccolumn.z_at_pure_m(bw, h, layer_distances, layer_areas, conc, rebar)\n",
    "c_m = rccolumn.c_from_z(z_m, d, conc, rebar)\n",
    "\n",
    "# Next we can calculate the P and M\n",
    "P, M = rccolumn.pm_points(c_m, bw, h, layer_distances, layer_areas, conc, rebar)\n",
    "\n",
    "round(P / 1000, 3), round(M / 12000, 3)"
   ]
  },
  {
   "cell_type": "markdown",
   "id": "2561386d-7405-4ceb-a7a5-acbfa47cf687",
   "metadata": {},
   "source": [
    "<span style=\"color: dodgerblue;\">**CONCLUSION**:</span> The above functions are working as planned."
   ]
  },
  {
   "cell_type": "markdown",
   "id": "3f938adb-69bd-476d-86ef-1748177396c8",
   "metadata": {},
   "source": [
    "## Investigate range of c values between *c<sub>max</sub>* and *Z* = 0\n",
    "On a PM diagram, strain has a non-linear relationship with the rotation angle of a line segment from the origin to the corresponding point on the PM curve. Near c -> inf for pure compression; the strain is limited to concrete.ecu. We'll probably need a geometric distribution of c values in this range to get a reasonable distribution of PM points."
   ]
  },
  {
   "cell_type": "code",
   "execution_count": 14,
   "id": "45832710-a498-4165-9f59-077a9196e7ee",
   "metadata": {},
   "outputs": [
    {
     "data": {
      "text/plain": [
       "(inf, 13.5)"
      ]
     },
     "execution_count": 14,
     "metadata": {},
     "output_type": "execute_result"
    }
   ],
   "source": [
    "# One option is to traverse valuse from c_max down to c at z = 0:\n",
    "c_max = rccolumn.CCOMP\n",
    "c_at_Z_0 = rccolumn.c_from_z(z=0, layer_distance=d, concrete=conc, rebar=rebar)\n",
    "c_max, c_at_Z_0"
   ]
  },
  {
   "cell_type": "code",
   "execution_count": 15,
   "id": "4a166de5-fa44-49f1-97b1-ee624ffcdb46",
   "metadata": {},
   "outputs": [
    {
     "data": {
      "text/plain": [
       "(1.45, 0)"
      ]
     },
     "execution_count": 15,
     "metadata": {},
     "output_type": "execute_result"
    }
   ],
   "source": [
    "# Another option is to stay in the z-domain\n",
    "z_max = rccolumn.max_z(conc, rebar)\n",
    "z_max, 0"
   ]
  },
  {
   "cell_type": "code",
   "execution_count": 16,
   "id": "6432ffe2-1cf4-4397-9c0c-c2839b52e425",
   "metadata": {},
   "outputs": [
    {
     "data": {
      "text/plain": [
       "(array([1.45      , 1.28888889, 1.12777778, 0.96666667, 0.80555556,\n",
       "        0.64444444, 0.48333333, 0.32222222, 0.16111111, 0.        ]),\n",
       " array([         inf, 121.5       ,  60.75      ,  40.5       ,\n",
       "         30.375     ,  24.3       ,  20.25      ,  17.35714286,\n",
       "         15.1875    ,  13.5       ]))"
      ]
     },
     "execution_count": 16,
     "metadata": {},
     "output_type": "execute_result"
    }
   ],
   "source": [
    "# Determine how many points over this range to calculate\n",
    "points = 10\n",
    "\n",
    "# Use linspace to develope a linear distribution over the z-domain\n",
    "zs = np.linspace(z_max, 0, points)\n",
    "cs_at_zs = np.zeros(points)\n",
    "for i in range(points):\n",
    "    cs_at_zs[i] = rccolumn.c_from_z(zs[i], d, conc, rebar)\n",
    "\n",
    "# Print the values\n",
    "zs, cs_at_zs"
   ]
  },
  {
   "cell_type": "code",
   "execution_count": 17,
   "id": "85950e6b-dd7e-49e5-8b68-33c4d4495eb8",
   "metadata": {},
   "outputs": [],
   "source": [
    "P = np.zeros(points)\n",
    "M = np.zeros(points)\n",
    "for i in range(points):\n",
    "    P[i], M[i] = rccolumn.pm_points(cs_at_zs[i], bw, h, layer_distances, layer_areas, conc, rebar)"
   ]
  },
  {
   "cell_type": "code",
   "execution_count": 18,
   "id": "526928a7-f9fe-46d2-921b-a2b368ec3bb7",
   "metadata": {},
   "outputs": [
    {
     "data": {
      "text/plain": [
       "<matplotlib.collections.PathCollection at 0x226a7194220>"
      ]
     },
     "execution_count": 18,
     "metadata": {},
     "output_type": "execute_result"
    },
    {
     "data": {
      "image/png": "[encoded data removed]",
      "text/plain": [
       "<Figure size 640x480 with 1 Axes>"
      ]
     },
     "metadata": {},
     "output_type": "display_data"
    }
   ],
   "source": [
    "# Plot the values\n",
    "plt.plot(M / 12000, P / 1000, color=\"dodgerblue\")\n",
    "plt.scatter(M / 12000, P / 1000, color=\"dodgerblue\")"
   ]
  },
  {
   "cell_type": "code",
   "execution_count": 19,
   "id": "1d43b4ed-e624-4f05-aa8a-edb13de28833",
   "metadata": {},
   "outputs": [
    {
     "data": {
      "text/plain": [
       "(array([1.45000000e+00, 6.45810186e-01, 2.87635032e-01, 1.28108713e-01,\n",
       "        5.70578702e-02, 2.54127957e-02, 1.13185120e-02, 5.04111056e-03,\n",
       "        2.24524176e-03, 1.00000000e-03]),\n",
       " array([        inf, 24.34126828, 16.84066584, 14.80832818, 14.05298869,\n",
       "        13.74082256, 13.6062083 , 13.54709822, 13.52093639, 13.50931677]))"
      ]
     },
     "execution_count": 19,
     "metadata": {},
     "output_type": "execute_result"
    }
   ],
   "source": [
    "# Next let's try a geometric distribution\n",
    "zs = np.geomspace(z_max, 0.001, points)\n",
    "for i in range(points):\n",
    "    cs_at_zs[i] = rccolumn.c_from_z(zs[i], d, conc, rebar)\n",
    "\n",
    "# Print the values\n",
    "zs, cs_at_zs"
   ]
  },
  {
   "cell_type": "markdown",
   "id": "e3a08c5a-e334-4884-9a0d-41b4e63150e7",
   "metadata": {},
   "source": [
    "<span style=\"color: tomato;\">**WARNING**:</span> Geomspace **CANNOT** zero can not be a terminal for *geomspace*, so if you use it, you must back off of Z = 0 some amount."
   ]
  },
  {
   "cell_type": "code",
   "execution_count": 20,
   "id": "e4d388a9-4f51-45d3-8bd4-9279810d2e42",
   "metadata": {},
   "outputs": [],
   "source": [
    "Pg = np.zeros(points)\n",
    "Mg = np.zeros(points)\n",
    "\n",
    "for i in range(points):\n",
    "    Pg[i], Mg[i] = rccolumn.pm_points(cs_at_zs[i], bw, h, layer_distances, layer_areas, conc, rebar)"
   ]
  },
  {
   "cell_type": "code",
   "execution_count": 21,
   "id": "d21fde54-e8d2-42ae-a5a2-833296e9a8b7",
   "metadata": {},
   "outputs": [
    {
     "data": {
      "text/plain": [
       "<matplotlib.collections.PathCollection at 0x226a71a7910>"
      ]
     },
     "execution_count": 21,
     "metadata": {},
     "output_type": "execute_result"
    },
    {
     "data": {
      "image/png": "[encoded data removed]",
      "text/plain": [
       "<Figure size 640x480 with 1 Axes>"
      ]
     },
     "metadata": {},
     "output_type": "display_data"
    }
   ],
   "source": [
    "# Plot the values\n",
    "plt.plot(M / 12000, P / 1000, color=\"tomato\")\n",
    "plt.scatter(M / 12000, P / 1000, color=\"tomato\")\n",
    "\n",
    "plt.plot(Mg / 12000, Pg / 1000, color=\"dodgerblue\")\n",
    "plt.scatter(Mg / 12000, Pg / 1000, color=\"dodgerblue\")"
   ]
  },
  {
   "cell_type": "markdown",
   "id": "72d2fadf-1bd8-405e-b20d-ba0a13aa4767",
   "metadata": {},
   "source": [
    "<span style=\"color: dodgerblue;\">**NOTE**:</span> The *linspace* distribution seems to do better closer to z = 0, while *geomspace* does better closer to c = inf."
   ]
  },
  {
   "cell_type": "markdown",
   "id": "d469af21-61f5-426b-865d-2a8b69ddef59",
   "metadata": {},
   "source": [
    "### Calculate intermediate points by equal spacing between Po and P(z=0)\n",
    "An alternative to c- or z-domain points, we could calculate Po and P(z = 0) and then divide that value into equal regions, findign the z or c for the intermiate P values."
   ]
  },
  {
   "cell_type": "code",
   "execution_count": 22,
   "id": "97c9f627-1d3f-4ae2-87ad-d2843180290d",
   "metadata": {},
   "outputs": [
    {
     "data": {
      "text/plain": [
       "array([1534000., 1437900., 1341800., 1245700., 1149600., 1053500.,\n",
       "        957400.])"
      ]
     },
     "execution_count": 22,
     "metadata": {},
     "output_type": "execute_result"
    }
   ],
   "source": [
    "points = 7 # This will include Po and P(z=0)\n",
    "\n",
    "# We already calculated Po above, so let's get P(z=0)\n",
    "P_at_Z_0 = rccolumn.pm_points(c_at_Z_0, bw, h, layer_distances, layer_areas, conc, rebar)[0]\n",
    "\n",
    "# Let's create a linspace of P values:\n",
    "Ps = np.linspace(Po, P_at_Z_0, points)\n",
    "Ps"
   ]
  },
  {
   "cell_type": "code",
   "execution_count": 23,
   "id": "a690a648-b976-4de1-8eb3-971b7d91cdcf",
   "metadata": {},
   "outputs": [],
   "source": [
    "# Get the z arrays:\n",
    "zs = np.zeros(points)\n",
    "cs = np.zeros(points)\n",
    "for i in range(points):\n",
    "    zs[i] = rccolumn.z_at_p(Ps[i], bw, h, layer_distances, layer_areas, conc, rebar)\n",
    "    cs[i] = rccolumn.c_from_z(zs[i], d, conc, rebar)"
   ]
  },
  {
   "cell_type": "code",
   "execution_count": 24,
   "id": "e42e8ef5-78fa-43d8-8fd5-edeaf438177b",
   "metadata": {},
   "outputs": [],
   "source": [
    "# The following code was used for ensuring the extrema were included however, it doesn't appear this is really necessary\n",
    "\n",
    "# expanded_zs = zs.copy()\n",
    "# expanded_zs = np.insert(expanded_zs, 0, z_max)\n",
    "# expanded_zs = np.append(expanded_zs, 0)\n",
    "# expanded_zs"
   ]
  },
  {
   "cell_type": "code",
   "execution_count": 25,
   "id": "8156d280-398f-4383-b1c6-f4ba46f246b0",
   "metadata": {},
   "outputs": [],
   "source": [
    "# Next we need to get the c array:\n",
    "# cs = np.zeros(expanded_zs.shape[0])\n",
    "# for i in range(expanded_zs.shape[0]):\n",
    "#    cs[i] = rccolumn.c_from_z(expanded_zs[i], d, conc, rebar)\n",
    "# cs"
   ]
  },
  {
   "cell_type": "code",
   "execution_count": 26,
   "id": "230b2243-1258-4175-bcf3-d5c1b22fd6c3",
   "metadata": {},
   "outputs": [
    {
     "data": {
      "text/plain": [
       "array([1.21777344, 0.59958333, 0.42091265, 0.33886591, 0.24611098,\n",
       "       0.14117817, 0.02253215])"
      ]
     },
     "execution_count": 26,
     "metadata": {},
     "output_type": "execute_result"
    }
   ],
   "source": [
    "zs"
   ]
  },
  {
   "cell_type": "code",
   "execution_count": 27,
   "id": "1b71ace3-82ac-4db0-ac6d-e329403b2fff",
   "metadata": {},
   "outputs": [
    {
     "data": {
      "text/plain": [
       "array([84.29268293, 23.01812837, 19.0217089 , 17.61713568, 16.25980448,\n",
       "       14.95619923, 13.71309345])"
      ]
     },
     "execution_count": 27,
     "metadata": {},
     "output_type": "execute_result"
    }
   ],
   "source": [
    "cs"
   ]
  },
  {
   "cell_type": "code",
   "execution_count": 28,
   "id": "98b86198-d30e-4c31-a4cd-da3d84520966",
   "metadata": {},
   "outputs": [
    {
     "data": {
      "text/plain": [
       "array([5.26829268, 1.43863302, 1.18885681, 1.10107098, 1.01623778,\n",
       "       0.93476245, 0.85706834])"
      ]
     },
     "execution_count": 28,
     "metadata": {},
     "output_type": "execute_result"
    }
   ],
   "source": [
    "# We can see the c values as a multiple of the total section depth --- for comparison\n",
    "cs / h"
   ]
  },
  {
   "cell_type": "code",
   "execution_count": 29,
   "id": "e9a46f58-0fce-4b34-b208-7c70474ffcd5",
   "metadata": {},
   "outputs": [],
   "source": [
    "# let's test with pm_points:\n",
    "Pp = np.zeros(points)\n",
    "Mp = np.zeros(points)\n",
    "\n",
    "for i in range(points):\n",
    "    Pp[i], Mp[i] = rccolumn.pm_points(cs[i], bw, h, layer_distances, layer_areas, conc, rebar)"
   ]
  },
  {
   "cell_type": "code",
   "execution_count": 30,
   "id": "866336a2-fe4f-47a6-81e1-f4feae74bc30",
   "metadata": {},
   "outputs": [
    {
     "data": {
      "text/plain": [
       "(array([1534. , 1437.9, 1341.8, 1245.7, 1149.6, 1053.5,  957.4]),\n",
       " array([  0.        ,  44.04583333,  97.44350885, 148.84711212,\n",
       "        193.20538251, 231.2611759 , 263.85425582]))"
      ]
     },
     "execution_count": 30,
     "metadata": {},
     "output_type": "execute_result"
    }
   ],
   "source": [
    "Pp / 1000, Mp / 12000"
   ]
  },
  {
   "cell_type": "code",
   "execution_count": 31,
   "id": "3640a6d8-6765-4323-b71f-0322750f5b1d",
   "metadata": {},
   "outputs": [
    {
     "data": {
      "text/plain": [
       "[<matplotlib.lines.Line2D at 0x226a72dc7c0>]"
      ]
     },
     "execution_count": 31,
     "metadata": {},
     "output_type": "execute_result"
    },
    {
     "data": {
      "image/png": "[encoded data removed]",
      "text/plain": [
       "<Figure size 640x480 with 1 Axes>"
      ]
     },
     "metadata": {},
     "output_type": "display_data"
    }
   ],
   "source": [
    "# Plot the values\n",
    "plt.scatter(Mp / 12000, Pp / 1000, color=\"tomato\")\n",
    "plt.plot(Mp / 12000, Pp / 1000, color=\"dodgerblue\")"
   ]
  },
  {
   "cell_type": "markdown",
   "id": "a815d20f-6fa4-417c-a80c-70a4d5053a47",
   "metadata": {},
   "source": [
    "<span style=\"color: dodgerblue;\">**CONCLUSION**:</span> Rather than using the z- or c- domains to get a distribution of points over the range from pure compression to P(z=0), just calculate the interval boundaries [Po, P(z=0)] --> z --> c --> pm_points()"
   ]
  },
  {
   "cell_type": "markdown",
   "id": "325566f5-1856-4636-8b95-173d6e5e3b3a",
   "metadata": {},
   "source": [
    "<span style=\"color: orange;\">**TODO**:</span>\n",
    "- [x] Create a function to evenly space points along the positive Z region."
   ]
  },
  {
   "cell_type": "code",
   "execution_count": 32,
   "id": "7202eb89-8d85-4bc0-9437-88c3dc99e961",
   "metadata": {},
   "outputs": [],
   "source": [
    "def test_equally_spaced_positive_zs(bw, h, \n",
    "                       layer_distances, layer_areas, \n",
    "                       concrete: rcmaterials.ConcreteMaterial, \n",
    "                       rebar: rcmaterials.RebarMaterial, \n",
    "                       points: int = 5):\n",
    "    Po = rccolumn.Po(bw * h, layer_areas, concrete, rebar)\n",
    "\n",
    "    c_at_z_0 = rccolumn.c_from_z(0, max(layer_distances), concrete, rebar)\n",
    "    P_at_z_0 = rccolumn.pm_points(c_at_z_0, bw, h, layer_distances, layer_areas, conc, rebar)[0]\n",
    "    Ps = np.linspace(Po, P_at_z_0, points)\n",
    "                           \n",
    "    zs = np.zeros(points)\n",
    "    cs = np.zeros(points)\n",
    "    for i in range(points):\n",
    "        zs[i] = rccolumn.z_at_p(Ps[i], bw, h, layer_distances, layer_areas, concrete, rebar)\n",
    "    return zs"
   ]
  },
  {
   "cell_type": "code",
   "execution_count": 33,
   "id": "60c70dee-6248-4ec9-8464-da9368d399a0",
   "metadata": {},
   "outputs": [
    {
     "data": {
      "text/plain": [
       "array([1.21777344, 0.59958333, 0.42091265, 0.33886591, 0.24611098,\n",
       "       0.14117817, 0.02253215])"
      ]
     },
     "execution_count": 33,
     "metadata": {},
     "output_type": "execute_result"
    }
   ],
   "source": [
    "# Time to test:\n",
    "zs_2 = rccolumn.equally_spaced_positive_zs(bw, h, layer_distances, layer_areas, conc, rebar, points)\n",
    "zs_2"
   ]
  },
  {
   "cell_type": "code",
   "execution_count": 34,
   "id": "0ab4a691-d19f-4819-9abf-94104e26f448",
   "metadata": {},
   "outputs": [
    {
     "data": {
      "text/plain": [
       "array([ True,  True,  True,  True,  True,  True,  True])"
      ]
     },
     "execution_count": 34,
     "metadata": {},
     "output_type": "execute_result"
    }
   ],
   "source": [
    "# Check if it's true\n",
    "zs == zs_2"
   ]
  },
  {
   "cell_type": "markdown",
   "id": "9eb0ad83-4d3a-45a5-9951-0216bd4c5d14",
   "metadata": {},
   "source": [
    "## Calculate Capped Maximum Axial Capacity\n",
    "In the last section we determined a strategy for getting equidistance points between Zmax and Z = 0, however, we need to determine where the capped axial max occurs. Per ACI 318 Table 22.4.2.1 --- by default assume Pnmax = 0.8Po, except where <code>has_spirals == True</code> or <code>is_ch_10_composite == True</code>, where Pnmax = 0.85P0."
   ]
  },
  {
   "cell_type": "code",
   "execution_count": 35,
   "id": "63f9c301-0b26-4b98-83e2-f9380534bf87",
   "metadata": {},
   "outputs": [
    {
     "data": {
      "text/plain": [
       "1534.0"
      ]
     },
     "execution_count": 35,
     "metadata": {},
     "output_type": "execute_result"
    }
   ],
   "source": [
    "# Pure Compression\n",
    "Po = rccolumn.Po(bw * h, layer_areas, conc, rebar)\n",
    "Po / 1000"
   ]
  },
  {
   "cell_type": "code",
   "execution_count": 36,
   "id": "d1bba85e-5d36-485b-9920-02383776c107",
   "metadata": {},
   "outputs": [
    {
     "data": {
      "text/plain": [
       "1227.2"
      ]
     },
     "execution_count": 36,
     "metadata": {},
     "output_type": "execute_result"
    }
   ],
   "source": [
    "# Capped Maximum Compression\n",
    "Pn =  rccolumn.Pn(bw * h, layer_areas, conc, rebar)\n",
    "Pn / 1000"
   ]
  },
  {
   "cell_type": "code",
   "execution_count": 38,
   "id": "9f4c0e60-dd45-41e7-a934-b842c6b722bf",
   "metadata": {},
   "outputs": [
    {
     "data": {
      "text/plain": [
       "0.3218861910586853"
      ]
     },
     "execution_count": 38,
     "metadata": {},
     "output_type": "execute_result"
    }
   ],
   "source": [
    "z_at_capped_compression = rccolumn.z_at_p(Pn, bw, h, layer_distances, layer_areas, conc, rebar)\n",
    "z_at_capped_compression"
   ]
  },
  {
   "cell_type": "markdown",
   "id": "3db7b693-b4cd-4c16-a8b6-de02932b1928",
   "metadata": {},
   "source": [
    "<span style=\"color: dodgerblue;\">**NOTE**:</span> In the case of this column, 0.8Po appears to occur within the positive z region. Therefore, perhaps the function in the previous section should be revised to:\n",
    "1. Check if capped max is in the positive z region (most likely)\n",
    "2. Create two regions: zmax -> capped max, then capped max to z = 0\n",
    "**NOTE:** the "
   ]
  },
  {
   "cell_type": "code",
   "execution_count": null,
   "id": "c21f0ae3-2d80-4c69-a02d-c763bedbbe01",
   "metadata": {},
   "outputs": [],
   "source": []
  }
 ],
 "metadata": {
  "kernelspec": {
   "display_name": "Python 3 (ipykernel)",
   "language": "python",
   "name": "python3"
  },
  "language_info": {
   "codemirror_mode": {
    "name": "ipython",
    "version": 3
   },
   "file_extension": ".py",
   "mimetype": "text/x-python",
   "name": "python",
   "nbconvert_exporter": "python",
   "pygments_lexer": "ipython3",
   "version": "3.10.5"
  }
 },
 "nbformat": 4,
 "nbformat_minor": 5
}

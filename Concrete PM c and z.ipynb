{
 "cells": [
  {
   "cell_type": "markdown",
   "id": "2372788f-3b08-454c-ab2d-e35e08688609",
   "metadata": {},
   "source": [
    "# Module Test Template"
   ]
  },
  {
   "cell_type": "markdown",
   "id": "a395232d-f76a-449e-be1b-0446afeed13d",
   "metadata": {},
   "source": [
    "## Module & Test Description"
   ]
  },
  {
   "cell_type": "markdown",
   "id": "439a0cb0-2595-44bc-97fa-943fa9bc0e19",
   "metadata": {},
   "source": [
    "This Notebook is used to evaulate c and z (ratio of steel_strain to yield_strain) relationships. Positive z values values signify the steel is in compression; negative values correspond to tension.\n",
    "\n",
    "c ranges from 0 (pure tension) to infinite (pure compression)."
   ]
  },
  {
   "cell_type": "markdown",
   "id": "56b56077-38d6-40b6-864f-6acc86d6d99d",
   "metadata": {},
   "source": [
    "### Imports\n",
    "##### General Imports"
   ]
  },
  {
   "cell_type": "code",
   "execution_count": 1,
   "id": "5479e169-7452-45d0-aa9c-e470d4df98ea",
   "metadata": {},
   "outputs": [],
   "source": [
    "import os, sys, pathlib\n",
    "import numpy as np\n",
    "import pandas as pd\n",
    "import matplotlib.pyplot as plt\n",
    "import scipy as sc\n",
    "import shapely as sh"
   ]
  },
  {
   "cell_type": "markdown",
   "id": "7757166a-bb74-4490-91d6-a6b4100ba823",
   "metadata": {},
   "source": [
    "##### Extend PYPATH to current folder:\n",
    "This allows importing libraries from the same folder; <code>pathlib.Path().resolve()</code> returns the path of the current directory."
   ]
  },
  {
   "cell_type": "code",
   "execution_count": 2,
   "id": "1454a3e7-7240-479e-a935-30b92001f476",
   "metadata": {},
   "outputs": [],
   "source": [
    "sys.path.extend([pathlib.Path().resolve()])"
   ]
  },
  {
   "cell_type": "markdown",
   "id": "9d8241f1-bc56-476c-adb8-18059b758262",
   "metadata": {},
   "source": [
    "Import specific testing modules:"
   ]
  },
  {
   "cell_type": "code",
   "execution_count": 3,
   "id": "b75c88e5-46c9-4d66-909e-c7d53835c860",
   "metadata": {},
   "outputs": [
    {
     "name": "stdout",
     "output_type": "stream",
     "text": [
      "rcmaterials <version 0.0.6> successfully imported\n",
      "rccolumn <version 0.0.4> successfully imported\n",
      "rcutilities <version 0.0.1> successfully imported\n"
     ]
    }
   ],
   "source": [
    "import rccolumn\n",
    "import rcmaterials\n",
    "import rcutilities"
   ]
  },
  {
   "cell_type": "markdown",
   "id": "66e8f1cb-1ba0-432e-9eed-cf15c2d2e577",
   "metadata": {},
   "source": [
    "## Input Values for Test Column Section"
   ]
  },
  {
   "cell_type": "code",
   "execution_count": 4,
   "id": "e2a1781d-4f56-4696-9063-aaf251b50318",
   "metadata": {},
   "outputs": [],
   "source": [
    "c_comp = rccolumn.CCOMP\n",
    "c_tens = rccolumn.CTENS\n",
    "\n",
    "conc = rcmaterials.ConcreteMaterial(5000)\n",
    "bw = 16\n",
    "h = 16\n",
    "\n",
    "rebar = rcmaterials.RebarMaterial(60000)\n",
    "layer_distances = np.array([2.5, 13.5])\n",
    "layer_bar_sizes = np.array([9, 9])\n",
    "layer_bar_counts = np.array([4, 4])"
   ]
  },
  {
   "cell_type": "code",
   "execution_count": 5,
   "id": "2f6791df-9164-4ce3-bc07-cf47b26efe50",
   "metadata": {},
   "outputs": [],
   "source": [
    "# Create function for returning array with total layer area by layer:\n",
    "def get_layer_areas(layer_bar_sizes, layer_bar_counts, rebar: rcmaterials.RebarMaterial):\n",
    "    layers = layer_bar_counts.shape[0]\n",
    "    layer_areas = np.zeros(layers)\n",
    "    for i in range(layers):\n",
    "        layer_areas[i] = rebar.bar_areas[layer_bar_sizes[i]] * layer_bar_counts[i]\n",
    "    return layer_areas"
   ]
  },
  {
   "cell_type": "code",
   "execution_count": 6,
   "id": "6caeebb5-d013-43f4-a6d9-12b436637b1a",
   "metadata": {},
   "outputs": [
    {
     "data": {
      "text/plain": [
       "array([4., 4.])"
      ]
     },
     "execution_count": 6,
     "metadata": {},
     "output_type": "execute_result"
    }
   ],
   "source": [
    "layer_areas = get_layer_areas(layer_bar_sizes, layer_bar_counts, rebar)\n",
    "layer_areas"
   ]
  },
  {
   "cell_type": "markdown",
   "id": "3645aa32-43b7-43b7-93b6-4a9a13faff53",
   "metadata": {},
   "source": [
    "<span style=\"color: orange;\">**TODO**:</span> In the US you'll generally use the same grade of bar everywhere, but in Japan, there are three common grades. As a code enchancement, need to expand the ability to have different layer fy and ey properties."
   ]
  },
  {
   "cell_type": "code",
   "execution_count": 7,
   "id": "bf1b9f83-1596-4029-bc03-2cde96d9e45d",
   "metadata": {},
   "outputs": [],
   "source": [
    "# Calculate other attributes of column, determined from factors above:"
   ]
  },
  {
   "cell_type": "code",
   "execution_count": 8,
   "id": "f4ac2c58-6627-428f-8f3a-5d64f3a743d5",
   "metadata": {},
   "outputs": [
    {
     "data": {
      "text/plain": [
       "(256, 8.0, 0.03125)"
      ]
     },
     "execution_count": 8,
     "metadata": {},
     "output_type": "execute_result"
    }
   ],
   "source": [
    "d = max(layer_distances)\n",
    "\n",
    "Ag = bw * h\n",
    "Astl = sum(layer_areas)\n",
    "rho = Astl / Ag\n",
    "\n",
    "Ag, Astl, rho"
   ]
  },
  {
   "cell_type": "markdown",
   "id": "d4d157e9-f152-4223-b1e4-6c37874f467d",
   "metadata": {},
   "source": [
    "<span style=\"color: orange;\">**TODO**:</span> Create function to calculate the column *rho*.\n",
    "\n",
    "<span style=\"color: orange;\">**TODO**:</span> Create function to return d and d'"
   ]
  },
  {
   "cell_type": "markdown",
   "id": "93da76a3-90dc-4c60-9091-34b8df6071d2",
   "metadata": {},
   "source": [
    "## Test Code at Pure Axial and Pure Moment Points\n",
    "Compare the following simple functions to the *pm_points()* output (all four are from *rccolumn.py*)"
   ]
  },
  {
   "cell_type": "code",
   "execution_count": 9,
   "id": "aa0ab38d-8e70-498e-9ac4-5b76ea34a607",
   "metadata": {},
   "outputs": [
    {
     "data": {
      "text/plain": [
       "1534.0"
      ]
     },
     "execution_count": 9,
     "metadata": {},
     "output_type": "execute_result"
    }
   ],
   "source": [
    "# Pure Compression\n",
    "Po = rccolumn.Po(bw * h, layer_areas, conc, rebar)\n",
    "Po / 1000"
   ]
  },
  {
   "cell_type": "code",
   "execution_count": 10,
   "id": "83e6ea64-9a61-4afa-a89c-471ab0c3c38e",
   "metadata": {},
   "outputs": [
    {
     "data": {
      "text/plain": [
       "(1534.0, 0.0)"
      ]
     },
     "execution_count": 10,
     "metadata": {},
     "output_type": "execute_result"
    }
   ],
   "source": [
    "# Compare with get_pm\n",
    "P, M = rccolumn.pm_points(c_comp, bw, h, layer_distances, layer_areas, conc, rebar)\n",
    "P / 1000, M / 12000"
   ]
  },
  {
   "cell_type": "code",
   "execution_count": 11,
   "id": "9edca960-1893-47a0-a60c-0c0d353ff3e7",
   "metadata": {},
   "outputs": [
    {
     "data": {
      "text/plain": [
       "1227.2"
      ]
     },
     "execution_count": 11,
     "metadata": {},
     "output_type": "execute_result"
    }
   ],
   "source": [
    "# Capped Maximum Compression --- there is no comparison for this.\n",
    "Pn =  rccolumn.Pn(bw * h, layer_areas, conc, rebar)\n",
    "Pn / 1000"
   ]
  },
  {
   "cell_type": "code",
   "execution_count": 12,
   "id": "23336bb2-22a9-4a2c-b525-7281adb4b917",
   "metadata": {},
   "outputs": [
    {
     "data": {
      "text/plain": [
       "-480.0"
      ]
     },
     "execution_count": 12,
     "metadata": {},
     "output_type": "execute_result"
    }
   ],
   "source": [
    "# Pure Tension\n",
    "Pnt = rccolumn.Pnt(bw * h, layer_areas, conc, rebar)\n",
    "Pnt / 1000"
   ]
  },
  {
   "cell_type": "code",
   "execution_count": 13,
   "id": "65ee53b3-aba1-4e37-9ba4-54e0cddad799",
   "metadata": {},
   "outputs": [
    {
     "data": {
      "text/plain": [
       "(-480.0, 0.0)"
      ]
     },
     "execution_count": 13,
     "metadata": {},
     "output_type": "execute_result"
    }
   ],
   "source": [
    "# Compare with get_pm\n",
    "P, M = rccolumn.pm_points(c_tens, bw, h, layer_distances, layer_areas, conc, rebar)\n",
    "P / 1000, M / 12000"
   ]
  },
  {
   "cell_type": "code",
   "execution_count": 14,
   "id": "b95810df-ab76-45ff-a524-8d9ebf95f081",
   "metadata": {},
   "outputs": [
    {
     "data": {
      "text/plain": [
       "(-0.0, 237.68)"
      ]
     },
     "execution_count": 14,
     "metadata": {},
     "output_type": "execute_result"
    }
   ],
   "source": [
    "# Pure Moment Case\n",
    "# First need to calculate the Z ratio, then calculate c from Z:\n",
    "z_m = rccolumn.z_at_pure_m(bw, h, layer_distances, layer_areas, conc, rebar)\n",
    "c_m = rccolumn.c_from_z(z_m, d, conc, rebar)\n",
    "\n",
    "# Next we can calculate the P and M\n",
    "P, M = rccolumn.pm_points(c_m, bw, h, layer_distances, layer_areas, conc, rebar)\n",
    "\n",
    "round(P / 1000, 3), round(M / 12000, 3)"
   ]
  },
  {
   "cell_type": "markdown",
   "id": "2561386d-7405-4ceb-a7a5-acbfa47cf687",
   "metadata": {},
   "source": [
    "<span style=\"color: dodgerblue;\">**CONCLUSION**:</span> The above functions are working as planned."
   ]
  },
  {
   "cell_type": "markdown",
   "id": "3f938adb-69bd-476d-86ef-1748177396c8",
   "metadata": {},
   "source": [
    "## Investigate range of c values between *c<sub>max</sub>* and *Z* = 0\n",
    "On a PM diagram, strain has a non-linear relationship with the rotation angle of a line segment from the origin to the corresponding point on the PM curve. Near c -> inf for pure compression; the strain is limited to concrete.ecu. We'll probably need a geometric distribution of c values in this range to get a reasonable distribution of PM points."
   ]
  },
  {
   "cell_type": "code",
   "execution_count": 24,
   "id": "45832710-a498-4165-9f59-077a9196e7ee",
   "metadata": {},
   "outputs": [
    {
     "data": {
      "text/plain": [
       "(inf, 13.5)"
      ]
     },
     "execution_count": 24,
     "metadata": {},
     "output_type": "execute_result"
    }
   ],
   "source": [
    "# One option is to traverse valuse from c_max down to c at z = 0:\n",
    "c_max = rccolumn.CCOMP\n",
    "c_at_Z_0 = rccolumn.c_from_z(z=0, layer_distance=d, concrete=conc, rebar=rebar)\n",
    "c_max, c_at_Z_0"
   ]
  },
  {
   "cell_type": "code",
   "execution_count": 26,
   "id": "4a166de5-fa44-49f1-97b1-ee624ffcdb46",
   "metadata": {},
   "outputs": [
    {
     "data": {
      "text/plain": [
       "(1.45, 0)"
      ]
     },
     "execution_count": 26,
     "metadata": {},
     "output_type": "execute_result"
    }
   ],
   "source": [
    "# Another option is to stay in the z-domain\n",
    "z_max = rccolumn.max_z(conc, rebar)\n",
    "z_max, 0"
   ]
  },
  {
   "cell_type": "code",
   "execution_count": null,
   "id": "6432ffe2-1cf4-4397-9c0c-c2839b52e425",
   "metadata": {},
   "outputs": [],
   "source": []
  }
 ],
 "metadata": {
  "kernelspec": {
   "display_name": "Python 3 (ipykernel)",
   "language": "python",
   "name": "python3"
  },
  "language_info": {
   "codemirror_mode": {
    "name": "ipython",
    "version": 3
   },
   "file_extension": ".py",
   "mimetype": "text/x-python",
   "name": "python",
   "nbconvert_exporter": "python",
   "pygments_lexer": "ipython3",
   "version": "3.10.5"
  }
 },
 "nbformat": 4,
 "nbformat_minor": 5
}

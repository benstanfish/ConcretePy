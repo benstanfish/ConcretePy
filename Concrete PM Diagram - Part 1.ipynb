{
 "cells": [
  {
   "cell_type": "markdown",
   "id": "2372788f-3b08-454c-ab2d-e35e08688609",
   "metadata": {},
   "source": [
    "# Module Test Template"
   ]
  },
  {
   "cell_type": "markdown",
   "id": "a395232d-f76a-449e-be1b-0446afeed13d",
   "metadata": {},
   "source": [
    "## Module & Test Description"
   ]
  },
  {
   "cell_type": "markdown",
   "id": "439a0cb0-2595-44bc-97fa-943fa9bc0e19",
   "metadata": {},
   "source": [
    "This Notebook is used to evaulate c and z (ratio of steel_strain to yield_strain) relationships. Positive z values values signify the steel is in compression; negative values correspond to tension.\n",
    "\n",
    "c ranges from 0 (pure tension) to infinite (pure compression)."
   ]
  },
  {
   "cell_type": "markdown",
   "id": "56b56077-38d6-40b6-864f-6acc86d6d99d",
   "metadata": {},
   "source": [
    "### Imports\n",
    "##### General Imports"
   ]
  },
  {
   "cell_type": "code",
   "execution_count": 1,
   "id": "5479e169-7452-45d0-aa9c-e470d4df98ea",
   "metadata": {},
   "outputs": [],
   "source": [
    "import os, sys, pathlib\n",
    "import numpy as np\n",
    "import pandas as pd\n",
    "import matplotlib.pyplot as plt\n",
    "import scipy as sc\n",
    "import shapely as sh"
   ]
  },
  {
   "cell_type": "markdown",
   "id": "7757166a-bb74-4490-91d6-a6b4100ba823",
   "metadata": {},
   "source": [
    "##### Extend PYPATH to current folder:\n",
    "This allows importing libraries from the same folder; <code>pathlib.Path().resolve()</code> returns the path of the current directory."
   ]
  },
  {
   "cell_type": "code",
   "execution_count": 2,
   "id": "1454a3e7-7240-479e-a935-30b92001f476",
   "metadata": {},
   "outputs": [],
   "source": [
    "sys.path.extend([pathlib.Path().resolve()])"
   ]
  },
  {
   "cell_type": "markdown",
   "id": "9d8241f1-bc56-476c-adb8-18059b758262",
   "metadata": {},
   "source": [
    "Import specific testing modules:"
   ]
  },
  {
   "cell_type": "code",
   "execution_count": 3,
   "id": "b75c88e5-46c9-4d66-909e-c7d53835c860",
   "metadata": {},
   "outputs": [
    {
     "name": "stdout",
     "output_type": "stream",
     "text": [
      "rcmaterials <version 0.0.6> successfully imported\n",
      "rccolumn <version 0.0.4> successfully imported\n",
      "rcutilities <version 0.0.1> successfully imported\n"
     ]
    }
   ],
   "source": [
    "import rccolumn\n",
    "import rcmaterials\n",
    "import rcutilities"
   ]
  },
  {
   "cell_type": "markdown",
   "id": "66e8f1cb-1ba0-432e-9eed-cf15c2d2e577",
   "metadata": {},
   "source": [
    "## Input Values for Test Column Section"
   ]
  },
  {
   "cell_type": "code",
   "execution_count": 4,
   "id": "e2a1781d-4f56-4696-9063-aaf251b50318",
   "metadata": {},
   "outputs": [],
   "source": [
    "c_comp = rccolumn.CCOMP\n",
    "c_tens = rccolumn.CTENS\n",
    "\n",
    "conc = rcmaterials.ConcreteMaterial(5000)\n",
    "bw = 16\n",
    "h = 16\n",
    "\n",
    "rebar = rcmaterials.RebarMaterial(60000)\n",
    "layer_distances = np.array([2.5, 13.5])\n",
    "layer_bar_sizes = np.array([9, 9])\n",
    "layer_bar_counts = np.array([4, 4])"
   ]
  },
  {
   "cell_type": "code",
   "execution_count": 5,
   "id": "2f6791df-9164-4ce3-bc07-cf47b26efe50",
   "metadata": {},
   "outputs": [],
   "source": [
    "# Create function for returning array with total layer area by layer:\n",
    "def get_layer_areas(layer_bar_sizes, layer_bar_counts, rebar: rcmaterials.RebarMaterial):\n",
    "    layers = layer_bar_counts.shape[0]\n",
    "    layer_areas = np.zeros(layers)\n",
    "    for i in range(layers):\n",
    "        layer_areas[i] = rebar.bar_areas[layer_bar_sizes[i]] * layer_bar_counts[i]\n",
    "    return layer_areas"
   ]
  },
  {
   "cell_type": "code",
   "execution_count": 6,
   "id": "6caeebb5-d013-43f4-a6d9-12b436637b1a",
   "metadata": {},
   "outputs": [
    {
     "data": {
      "text/plain": [
       "array([4., 4.])"
      ]
     },
     "execution_count": 6,
     "metadata": {},
     "output_type": "execute_result"
    }
   ],
   "source": [
    "layer_areas = get_layer_areas(layer_bar_sizes, layer_bar_counts, rebar)\n",
    "layer_areas"
   ]
  },
  {
   "cell_type": "markdown",
   "id": "3645aa32-43b7-43b7-93b6-4a9a13faff53",
   "metadata": {},
   "source": [
    "<span style=\"color: orange;\">**TODO**:</span>\n",
    "- [ ]  In the US you'll generally use the same grade of bar everywhere, but in Japan, there are three common grades. As a code enchancement, need to expand the ability to have different layer fy and ey properties."
   ]
  },
  {
   "cell_type": "code",
   "execution_count": 7,
   "id": "bf1b9f83-1596-4029-bc03-2cde96d9e45d",
   "metadata": {},
   "outputs": [],
   "source": [
    "# Calculate other attributes of column, determined from factors above:"
   ]
  },
  {
   "cell_type": "code",
   "execution_count": 8,
   "id": "f4ac2c58-6627-428f-8f3a-5d64f3a743d5",
   "metadata": {},
   "outputs": [
    {
     "data": {
      "text/plain": [
       "(256, 8.0, 0.03125)"
      ]
     },
     "execution_count": 8,
     "metadata": {},
     "output_type": "execute_result"
    }
   ],
   "source": [
    "d = max(layer_distances)\n",
    "\n",
    "Ag = bw * h\n",
    "Astl = sum(layer_areas)\n",
    "rho = Astl / Ag\n",
    "\n",
    "Ag, Astl, rho"
   ]
  },
  {
   "cell_type": "markdown",
   "id": "d4d157e9-f152-4223-b1e4-6c37874f467d",
   "metadata": {},
   "source": [
    "<span style=\"color: tomato;\">**TODO**:</span> \n",
    "- [X] Create function to calculate the column *rho*.\n",
    "- [X] Create function to return d and d'."
   ]
  },
  {
   "cell_type": "markdown",
   "id": "93da76a3-90dc-4c60-9091-34b8df6071d2",
   "metadata": {},
   "source": [
    "## Test Code at Pure Axial and Pure Moment Points\n",
    "Compare the following simple functions to the *pm_points()* output (all four are from *rccolumn.py*)"
   ]
  },
  {
   "cell_type": "code",
   "execution_count": 9,
   "id": "aa0ab38d-8e70-498e-9ac4-5b76ea34a607",
   "metadata": {},
   "outputs": [
    {
     "data": {
      "text/plain": [
       "1534.0"
      ]
     },
     "execution_count": 9,
     "metadata": {},
     "output_type": "execute_result"
    }
   ],
   "source": [
    "# Pure Compression\n",
    "Po = rccolumn.Po(bw * h, layer_areas, conc, rebar)\n",
    "Po / 1000"
   ]
  },
  {
   "cell_type": "code",
   "execution_count": 10,
   "id": "83e6ea64-9a61-4afa-a89c-471ab0c3c38e",
   "metadata": {},
   "outputs": [
    {
     "data": {
      "text/plain": [
       "(1534.0, 0.0)"
      ]
     },
     "execution_count": 10,
     "metadata": {},
     "output_type": "execute_result"
    }
   ],
   "source": [
    "# Compare with get_pm\n",
    "P, M, strains = rccolumn.pm_points(c_comp, bw, h, layer_distances, layer_areas, conc, rebar)\n",
    "P / 1000, M / 12000"
   ]
  },
  {
   "cell_type": "code",
   "execution_count": 11,
   "id": "23336bb2-22a9-4a2c-b525-7281adb4b917",
   "metadata": {},
   "outputs": [
    {
     "data": {
      "text/plain": [
       "-480.0"
      ]
     },
     "execution_count": 11,
     "metadata": {},
     "output_type": "execute_result"
    }
   ],
   "source": [
    "# Pure Tension\n",
    "Pnt = rccolumn.Pntmax(bw * h, layer_areas, conc, rebar)\n",
    "Pnt / 1000"
   ]
  },
  {
   "cell_type": "code",
   "execution_count": 12,
   "id": "65ee53b3-aba1-4e37-9ba4-54e0cddad799",
   "metadata": {},
   "outputs": [
    {
     "data": {
      "text/plain": [
       "(-480.0, 0.0)"
      ]
     },
     "execution_count": 12,
     "metadata": {},
     "output_type": "execute_result"
    }
   ],
   "source": [
    "# Compare with get_pm\n",
    "P, M, strains = rccolumn.pm_points(c_tens, bw, h, layer_distances, layer_areas, conc, rebar)\n",
    "P / 1000, M / 12000"
   ]
  },
  {
   "cell_type": "code",
   "execution_count": 13,
   "id": "b95810df-ab76-45ff-a524-8d9ebf95f081",
   "metadata": {},
   "outputs": [
    {
     "data": {
      "text/plain": [
       "(-0.0, 237.68)"
      ]
     },
     "execution_count": 13,
     "metadata": {},
     "output_type": "execute_result"
    }
   ],
   "source": [
    "# Pure Moment Case\n",
    "# First need to calculate the Z ratio, then calculate c from Z:\n",
    "z_m = rccolumn.get_z_at_pure_m(bw, h, layer_distances, layer_areas, conc, rebar)\n",
    "c_m = rccolumn.c_from_z(z_m, d, conc, rebar)\n",
    "\n",
    "# Next we can calculate the P and M\n",
    "P, M, strains = rccolumn.pm_points(c_m, bw, h, layer_distances, layer_areas, conc, rebar)\n",
    "\n",
    "round(P / 1000, 3), round(M / 12000, 3)"
   ]
  },
  {
   "cell_type": "markdown",
   "id": "2561386d-7405-4ceb-a7a5-acbfa47cf687",
   "metadata": {},
   "source": [
    "<span style=\"color: dodgerblue;\">**CONCLUSION**:</span> The above functions are working as planned."
   ]
  },
  {
   "cell_type": "markdown",
   "id": "3f938adb-69bd-476d-86ef-1748177396c8",
   "metadata": {},
   "source": [
    "## Investigate range of c values between *c<sub>max</sub>* and *Z* = 0\n",
    "On a PM diagram, strain has a non-linear relationship with the rotation angle of a line segment from the origin to the corresponding point on the PM curve. Near c -> inf for pure compression; the strain is limited to concrete.ecu. We'll probably need a geometric distribution of c values in this range to get a reasonable distribution of PM points."
   ]
  },
  {
   "cell_type": "code",
   "execution_count": 14,
   "id": "45832710-a498-4165-9f59-077a9196e7ee",
   "metadata": {},
   "outputs": [
    {
     "data": {
      "text/plain": [
       "(inf, 13.5)"
      ]
     },
     "execution_count": 14,
     "metadata": {},
     "output_type": "execute_result"
    }
   ],
   "source": [
    "# One option is to traverse valuse from c_max down to c at z = 0:\n",
    "c_max = rccolumn.CCOMP\n",
    "c_at_Z_0 = rccolumn.c_from_z(z=0, layer_distance=d, concrete=conc, rebar=rebar)\n",
    "c_max, c_at_Z_0"
   ]
  },
  {
   "cell_type": "code",
   "execution_count": 15,
   "id": "4a166de5-fa44-49f1-97b1-ee624ffcdb46",
   "metadata": {},
   "outputs": [
    {
     "data": {
      "text/plain": [
       "(1.45, 0)"
      ]
     },
     "execution_count": 15,
     "metadata": {},
     "output_type": "execute_result"
    }
   ],
   "source": [
    "# Another option is to stay in the z-domain\n",
    "z_max = rccolumn.max_z(conc, rebar)\n",
    "z_max, 0"
   ]
  },
  {
   "cell_type": "code",
   "execution_count": 16,
   "id": "6432ffe2-1cf4-4397-9c0c-c2839b52e425",
   "metadata": {},
   "outputs": [
    {
     "data": {
      "text/plain": [
       "(array([1.45      , 1.28888889, 1.12777778, 0.96666667, 0.80555556,\n",
       "        0.64444444, 0.48333333, 0.32222222, 0.16111111, 0.        ]),\n",
       " array([         inf, 121.5       ,  60.75      ,  40.5       ,\n",
       "         30.375     ,  24.3       ,  20.25      ,  17.35714286,\n",
       "         15.1875    ,  13.5       ]))"
      ]
     },
     "execution_count": 16,
     "metadata": {},
     "output_type": "execute_result"
    }
   ],
   "source": [
    "# Determine how many points over this range to calculate\n",
    "points = 10\n",
    "\n",
    "# Use linspace to develope a linear distribution over the z-domain\n",
    "zs = np.linspace(z_max, 0, points)\n",
    "cs_at_zs = np.zeros(points)\n",
    "for i in range(points):\n",
    "    cs_at_zs[i] = rccolumn.c_from_z(zs[i], d, conc, rebar)\n",
    "\n",
    "# Print the values\n",
    "zs, cs_at_zs"
   ]
  },
  {
   "cell_type": "code",
   "execution_count": 17,
   "id": "85950e6b-dd7e-49e5-8b68-33c4d4495eb8",
   "metadata": {},
   "outputs": [],
   "source": [
    "P = np.zeros(points)\n",
    "M = np.zeros(points)\n",
    "strains = np.zeros(points)\n",
    "for i in range(points):\n",
    "    P[i], M[i], strains[i] = rccolumn.pm_points(cs_at_zs[i], bw, h, layer_distances, layer_areas, conc, rebar)"
   ]
  },
  {
   "cell_type": "code",
   "execution_count": 18,
   "id": "526928a7-f9fe-46d2-921b-a2b368ec3bb7",
   "metadata": {},
   "outputs": [
    {
     "data": {
      "text/plain": [
       "<matplotlib.collections.PathCollection at 0x19d4720eb60>"
      ]
     },
     "execution_count": 18,
     "metadata": {},
     "output_type": "execute_result"
    },
    {
     "data": {
      "image/png": "[encoded data removed]",
      "text/plain": [
       "<Figure size 640x480 with 1 Axes>"
      ]
     },
     "metadata": {},
     "output_type": "display_data"
    }
   ],
   "source": [
    "# Plot the values\n",
    "plt.plot(M / 12000, P / 1000, color=\"dodgerblue\")\n",
    "plt.scatter(M / 12000, P / 1000, color=\"dodgerblue\")"
   ]
  },
  {
   "cell_type": "code",
   "execution_count": 19,
   "id": "1d43b4ed-e624-4f05-aa8a-edb13de28833",
   "metadata": {},
   "outputs": [
    {
     "data": {
      "text/plain": [
       "(array([1.45000000e+00, 6.45810186e-01, 2.87635032e-01, 1.28108713e-01,\n",
       "        5.70578702e-02, 2.54127957e-02, 1.13185120e-02, 5.04111056e-03,\n",
       "        2.24524176e-03, 1.00000000e-03]),\n",
       " array([        inf, 24.34126828, 16.84066584, 14.80832818, 14.05298869,\n",
       "        13.74082256, 13.6062083 , 13.54709822, 13.52093639, 13.50931677]))"
      ]
     },
     "execution_count": 19,
     "metadata": {},
     "output_type": "execute_result"
    }
   ],
   "source": [
    "# Next let's try a geometric distribution\n",
    "zs = np.geomspace(z_max, 0.001, points)\n",
    "for i in range(points):\n",
    "    cs_at_zs[i] = rccolumn.c_from_z(zs[i], d, conc, rebar)\n",
    "\n",
    "# Print the values\n",
    "zs, cs_at_zs"
   ]
  },
  {
   "cell_type": "markdown",
   "id": "e3a08c5a-e334-4884-9a0d-41b4e63150e7",
   "metadata": {},
   "source": [
    "<span style=\"color: tomato;\">**WARNING**:</span> Geomspace **CANNOT** zero can not be a terminal for *geomspace*, so if you use it, you must back off of Z = 0 some amount."
   ]
  },
  {
   "cell_type": "code",
   "execution_count": 20,
   "id": "e4d388a9-4f51-45d3-8bd4-9279810d2e42",
   "metadata": {},
   "outputs": [],
   "source": [
    "Pg = np.zeros(points)\n",
    "Mg = np.zeros(points)\n",
    "strainsg = np.zeros(points)\n",
    "for i in range(points):\n",
    "    Pg[i], Mg[i], strainsg[i] = rccolumn.pm_points(cs_at_zs[i], bw, h, layer_distances, layer_areas, conc, rebar)"
   ]
  },
  {
   "cell_type": "code",
   "execution_count": 21,
   "id": "d21fde54-e8d2-42ae-a5a2-833296e9a8b7",
   "metadata": {},
   "outputs": [
    {
     "data": {
      "text/plain": [
       "<matplotlib.collections.PathCollection at 0x19d49452740>"
      ]
     },
     "execution_count": 21,
     "metadata": {},
     "output_type": "execute_result"
    },
    {
     "data": {
      "image/png": "[encoded data removed]",
      "text/plain": [
       "<Figure size 640x480 with 1 Axes>"
      ]
     },
     "metadata": {},
     "output_type": "display_data"
    }
   ],
   "source": [
    "# Plot the values\n",
    "plt.plot(M / 12000, P / 1000, color=\"tomato\")\n",
    "plt.scatter(M / 12000, P / 1000, color=\"tomato\")\n",
    "\n",
    "plt.plot(Mg / 12000, Pg / 1000, color=\"dodgerblue\")\n",
    "plt.scatter(Mg / 12000, Pg / 1000, color=\"dodgerblue\")"
   ]
  },
  {
   "cell_type": "markdown",
   "id": "72d2fadf-1bd8-405e-b20d-ba0a13aa4767",
   "metadata": {},
   "source": [
    "<span style=\"color: dodgerblue;\">**NOTE**:</span> The *linspace* distribution seems to do better closer to z = 0, while *geomspace* does better closer to c = inf."
   ]
  },
  {
   "cell_type": "markdown",
   "id": "d469af21-61f5-426b-865d-2a8b69ddef59",
   "metadata": {},
   "source": [
    "### Calculate intermediate points by equal spacing between Po and P(z=0)\n",
    "An alternative to c- or z-domain points, we could calculate Po and P(z = 0) and then divide that value into equal regions, findign the z or c for the intermiate P values."
   ]
  },
  {
   "cell_type": "code",
   "execution_count": 22,
   "id": "97c9f627-1d3f-4ae2-87ad-d2843180290d",
   "metadata": {},
   "outputs": [
    {
     "data": {
      "text/plain": [
       "array([1534000., 1437900., 1341800., 1245700., 1149600., 1053500.,\n",
       "        957400.])"
      ]
     },
     "execution_count": 22,
     "metadata": {},
     "output_type": "execute_result"
    }
   ],
   "source": [
    "points = 7 # This will include Po and P(z=0)\n",
    "\n",
    "# We already calculated Po above, so let's get P(z=0)\n",
    "P_at_Z_0 = rccolumn.pm_points(c_at_Z_0, bw, h, layer_distances, layer_areas, conc, rebar)[0]\n",
    "\n",
    "# Let's create a linspace of P values:\n",
    "Ps = np.linspace(Po, P_at_Z_0, points)\n",
    "Ps"
   ]
  },
  {
   "cell_type": "code",
   "execution_count": 23,
   "id": "a690a648-b976-4de1-8eb3-971b7d91cdcf",
   "metadata": {},
   "outputs": [],
   "source": [
    "# Get the z arrays:\n",
    "zs = np.zeros(points)\n",
    "cs = np.zeros(points)\n",
    "for i in range(points):\n",
    "    zs[i] = rccolumn.get_z_at_p(Ps[i], bw, h, layer_distances, layer_areas, conc, rebar)\n",
    "    cs[i] = rccolumn.c_from_z(zs[i], d, conc, rebar)"
   ]
  },
  {
   "cell_type": "code",
   "execution_count": 24,
   "id": "e42e8ef5-78fa-43d8-8fd5-edeaf438177b",
   "metadata": {},
   "outputs": [],
   "source": [
    "# The following code was used for ensuring the extrema were included however, it doesn't appear this is really necessary\n",
    "\n",
    "# expanded_zs = zs.copy()\n",
    "# expanded_zs = np.insert(expanded_zs, 0, z_max)\n",
    "# expanded_zs = np.append(expanded_zs, 0)\n",
    "# expanded_zs"
   ]
  },
  {
   "cell_type": "code",
   "execution_count": 25,
   "id": "8156d280-398f-4383-b1c6-f4ba46f246b0",
   "metadata": {},
   "outputs": [],
   "source": [
    "# Next we need to get the c array:\n",
    "# cs = np.zeros(expanded_zs.shape[0])\n",
    "# for i in range(expanded_zs.shape[0]):\n",
    "#    cs[i] = rccolumn.c_from_z(expanded_zs[i], d, conc, rebar)\n",
    "# cs"
   ]
  },
  {
   "cell_type": "code",
   "execution_count": 26,
   "id": "230b2243-1258-4175-bcf3-d5c1b22fd6c3",
   "metadata": {},
   "outputs": [
    {
     "data": {
      "text/plain": [
       "array([1.21777344, 0.59958333, 0.42091265, 0.33886591, 0.24611098,\n",
       "       0.14117817, 0.02253215])"
      ]
     },
     "execution_count": 26,
     "metadata": {},
     "output_type": "execute_result"
    }
   ],
   "source": [
    "zs"
   ]
  },
  {
   "cell_type": "code",
   "execution_count": 27,
   "id": "1b71ace3-82ac-4db0-ac6d-e329403b2fff",
   "metadata": {},
   "outputs": [
    {
     "data": {
      "text/plain": [
       "array([84.29268293, 23.01812837, 19.0217089 , 17.61713568, 16.25980448,\n",
       "       14.95619923, 13.71309345])"
      ]
     },
     "execution_count": 27,
     "metadata": {},
     "output_type": "execute_result"
    }
   ],
   "source": [
    "cs"
   ]
  },
  {
   "cell_type": "code",
   "execution_count": 28,
   "id": "98b86198-d30e-4c31-a4cd-da3d84520966",
   "metadata": {},
   "outputs": [
    {
     "data": {
      "text/plain": [
       "array([5.26829268, 1.43863302, 1.18885681, 1.10107098, 1.01623778,\n",
       "       0.93476245, 0.85706834])"
      ]
     },
     "execution_count": 28,
     "metadata": {},
     "output_type": "execute_result"
    }
   ],
   "source": [
    "# We can see the c values as a multiple of the total section depth --- for comparison\n",
    "cs / h"
   ]
  },
  {
   "cell_type": "code",
   "execution_count": 29,
   "id": "e9a46f58-0fce-4b34-b208-7c70474ffcd5",
   "metadata": {},
   "outputs": [],
   "source": [
    "# let's test with pm_points:\n",
    "Pp = np.zeros(points)\n",
    "Mp = np.zeros(points)\n",
    "strainsp = np.zeros(points)\n",
    "for i in range(points):\n",
    "    Pp[i], Mp[i], strainsp[i] = rccolumn.pm_points(cs[i], bw, h, layer_distances, layer_areas, conc, rebar)"
   ]
  },
  {
   "cell_type": "code",
   "execution_count": 30,
   "id": "866336a2-fe4f-47a6-81e1-f4feae74bc30",
   "metadata": {},
   "outputs": [
    {
     "data": {
      "text/plain": [
       "(array([1534. , 1437.9, 1341.8, 1245.7, 1149.6, 1053.5,  957.4]),\n",
       " array([  0.        ,  44.04583333,  97.44350885, 148.84711212,\n",
       "        193.20538251, 231.2611759 , 263.85425582]))"
      ]
     },
     "execution_count": 30,
     "metadata": {},
     "output_type": "execute_result"
    }
   ],
   "source": [
    "Pp / 1000, Mp / 12000"
   ]
  },
  {
   "cell_type": "code",
   "execution_count": 31,
   "id": "3640a6d8-6765-4323-b71f-0322750f5b1d",
   "metadata": {},
   "outputs": [
    {
     "data": {
      "text/plain": [
       "[<matplotlib.lines.Line2D at 0x19d472b8dc0>]"
      ]
     },
     "execution_count": 31,
     "metadata": {},
     "output_type": "execute_result"
    },
    {
     "data": {
      "image/png": "[encoded data removed]",
      "text/plain": [
       "<Figure size 640x480 with 1 Axes>"
      ]
     },
     "metadata": {},
     "output_type": "display_data"
    }
   ],
   "source": [
    "# Plot the values\n",
    "plt.scatter(Mp / 12000, Pp / 1000, color=\"tomato\", zorder = 10)\n",
    "plt.plot(Mp / 12000, Pp / 1000, color=\"dodgerblue\")"
   ]
  },
  {
   "cell_type": "markdown",
   "id": "a815d20f-6fa4-417c-a80c-70a4d5053a47",
   "metadata": {},
   "source": [
    "<span style=\"color: dodgerblue;\">**CONCLUSION**:</span> Rather than using the z- or c- domains to get a distribution of points over the range from pure compression to P(z=0), just calculate the interval boundaries [Po, P(z=0)] --> z --> c --> pm_points()"
   ]
  },
  {
   "cell_type": "markdown",
   "id": "325566f5-1856-4636-8b95-173d6e5e3b3a",
   "metadata": {},
   "source": [
    "<span style=\"color: tomato;\">**TODO**:</span>\n",
    "- [x] Create a function to evenly space points along the positive Z region."
   ]
  },
  {
   "cell_type": "code",
   "execution_count": 32,
   "id": "7202eb89-8d85-4bc0-9437-88c3dc99e961",
   "metadata": {},
   "outputs": [],
   "source": [
    "def test_equally_spaced_positive_zs(bw, h, \n",
    "                       layer_distances, layer_areas, \n",
    "                       concrete: rcmaterials.ConcreteMaterial, \n",
    "                       rebar: rcmaterials.RebarMaterial, \n",
    "                       points: int = 5):\n",
    "    Po = rccolumn.Po(bw * h, layer_areas, concrete, rebar)\n",
    "\n",
    "    c_at_z_0 = rccolumn.c_from_z(0, max(layer_distances), concrete, rebar)\n",
    "    P_at_z_0 = rccolumn.pm_points(c_at_z_0, bw, h, layer_distances, layer_areas, conc, rebar)[0]\n",
    "    Ps = np.linspace(Po, P_at_z_0, points)\n",
    "                           \n",
    "    zs = np.zeros(points)\n",
    "    cs = np.zeros(points)\n",
    "    for i in range(points):\n",
    "        zs[i] = rccolumn.get_z_at_p(Ps[i], bw, h, layer_distances, layer_areas, concrete, rebar)\n",
    "    return zs"
   ]
  },
  {
   "cell_type": "code",
   "execution_count": 33,
   "id": "60c70dee-6248-4ec9-8464-da9368d399a0",
   "metadata": {},
   "outputs": [
    {
     "data": {
      "text/plain": [
       "array([1.21777344, 0.59958333, 0.42091265, 0.33886591, 0.24611098,\n",
       "       0.14117817, 0.02253215])"
      ]
     },
     "execution_count": 33,
     "metadata": {},
     "output_type": "execute_result"
    }
   ],
   "source": [
    "# Time to test:\n",
    "zs_2 = test_equally_spaced_positive_zs(bw, h, layer_distances, layer_areas, conc, rebar, points)\n",
    "zs_2"
   ]
  },
  {
   "cell_type": "code",
   "execution_count": 34,
   "id": "0ab4a691-d19f-4819-9abf-94104e26f448",
   "metadata": {},
   "outputs": [
    {
     "data": {
      "text/plain": [
       "array([ True,  True,  True,  True,  True,  True,  True])"
      ]
     },
     "execution_count": 34,
     "metadata": {},
     "output_type": "execute_result"
    }
   ],
   "source": [
    "# Check if it's true\n",
    "zs == zs_2"
   ]
  },
  {
   "cell_type": "markdown",
   "id": "9eb0ad83-4d3a-45a5-9951-0216bd4c5d14",
   "metadata": {},
   "source": [
    "## Calculate Capped Maximum Axial Capacity\n",
    "In the last section we determined a strategy for getting equidistance points between Zmax and Z = 0, however, we need to determine where the capped axial max occurs. Per ACI 318 Table 22.4.2.1 --- by default assume Pnmax = 0.8Po, except where <code>has_spirals == True</code> or <code>is_ch_10_composite == True</code>, where Pnmax = 0.85P0."
   ]
  },
  {
   "cell_type": "code",
   "execution_count": 35,
   "id": "63f9c301-0b26-4b98-83e2-f9380534bf87",
   "metadata": {},
   "outputs": [
    {
     "data": {
      "text/plain": [
       "1534.0"
      ]
     },
     "execution_count": 35,
     "metadata": {},
     "output_type": "execute_result"
    }
   ],
   "source": [
    "# Pure Compression\n",
    "Po = rccolumn.Po(bw * h, layer_areas, conc, rebar)\n",
    "Po / 1000"
   ]
  },
  {
   "cell_type": "code",
   "execution_count": 36,
   "id": "d1bba85e-5d36-485b-9920-02383776c107",
   "metadata": {},
   "outputs": [
    {
     "data": {
      "text/plain": [
       "1227.2"
      ]
     },
     "execution_count": 36,
     "metadata": {},
     "output_type": "execute_result"
    }
   ],
   "source": [
    "# Capped Maximum Compression\n",
    "Pn =  rccolumn.Pnmax(bw * h, layer_areas, conc, rebar)\n",
    "Pn / 1000"
   ]
  },
  {
   "cell_type": "code",
   "execution_count": 37,
   "id": "9f4c0e60-dd45-41e7-a934-b842c6b722bf",
   "metadata": {},
   "outputs": [
    {
     "data": {
      "text/plain": [
       "0.3218861910586853"
      ]
     },
     "execution_count": 37,
     "metadata": {},
     "output_type": "execute_result"
    }
   ],
   "source": [
    "z_at_capped_compression = rccolumn.get_z_at_p(Pn, bw, h, layer_distances, layer_areas, conc, rebar)\n",
    "z_at_capped_compression"
   ]
  },
  {
   "cell_type": "markdown",
   "id": "3db7b693-b4cd-4c16-a8b6-de02932b1928",
   "metadata": {},
   "source": [
    "<span style=\"color: dodgerblue;\">**OBSERVATION**:</span> In the case of this column, 0.8Po appears to occur within the positive z region. Therefore, perhaps the function in the previous section should be revised to:\n",
    "1. Check if capped max is in the positive z region (most likely)\n",
    "2. Create two regions: zmax -> capped max, then capped max to z = 0\n",
    "\n",
    "<span style=\"color: dodgerblue;\">**NOTE**:</span> there is a potential to repeate the capped max point, this could be removed afterwards or avoided before had.\n",
    "\n",
    "<span style=\"color: tomato;\">**TODO**:</span>\n",
    "- [ ] Modify equally_spaced_positive_zs() to have two regions."
   ]
  },
  {
   "cell_type": "code",
   "execution_count": 38,
   "id": "d4a87788-4655-4766-aa98-b8752f726d01",
   "metadata": {},
   "outputs": [
    {
     "data": {
      "text/plain": [
       "(1227.2, 0.3218861910586853)"
      ]
     },
     "execution_count": 38,
     "metadata": {},
     "output_type": "execute_result"
    }
   ],
   "source": [
    "# Test module function results\n",
    "points = 10\n",
    "\n",
    "p_capped = rccolumn.Pnmax(bw * h, layer_areas, conc, rebar, has_spirals = False, is_ch_10_composite = False)\n",
    "z_at_p_capped = rccolumn.get_z_at_p(p_capped, bw, h, layer_distances, layer_areas, conc, rebar)\n",
    "p_capped / 1000, z_at_p_capped"
   ]
  },
  {
   "cell_type": "code",
   "execution_count": 39,
   "id": "655e0796-0bf5-48ad-be2e-4df8988bfe8c",
   "metadata": {},
   "outputs": [
    {
     "data": {
      "text/plain": [
       "61360.0"
      ]
     },
     "execution_count": 39,
     "metadata": {},
     "output_type": "execute_result"
    }
   ],
   "source": [
    "a_range_step = (Po - p_capped) / 5\n",
    "a_range_step"
   ]
  },
  {
   "cell_type": "code",
   "execution_count": 40,
   "id": "83476b72-06d8-45bf-ba7c-12098eb1ec10",
   "metadata": {},
   "outputs": [
    {
     "data": {
      "text/plain": [
       "array([1534000., 1472640., 1411280., 1349920., 1288560.])"
      ]
     },
     "execution_count": 40,
     "metadata": {},
     "output_type": "execute_result"
    }
   ],
   "source": [
    "ps_a = np.arange(Po, p_capped, -a_range_step)\n",
    "ps_a"
   ]
  },
  {
   "cell_type": "code",
   "execution_count": 41,
   "id": "11bb5fb2-e193-4a31-a27b-82765d9fd1b0",
   "metadata": {},
   "outputs": [
    {
     "data": {
      "text/plain": [
       "957400.0"
      ]
     },
     "execution_count": 41,
     "metadata": {},
     "output_type": "execute_result"
    }
   ],
   "source": [
    "# Get P at Z=0 (calculated previously)\n",
    "P_at_Z_0"
   ]
  },
  {
   "cell_type": "code",
   "execution_count": 42,
   "id": "98f50b87-bf02-454f-b65b-a30bc4cb8d13",
   "metadata": {},
   "outputs": [
    {
     "data": {
      "text/plain": [
       "array([1227200., 1159750., 1092300., 1024850.,  957400.])"
      ]
     },
     "execution_count": 42,
     "metadata": {},
     "output_type": "execute_result"
    }
   ],
   "source": [
    "ps_b = np.linspace(p_capped, P_at_Z_0, points - 5)\n",
    "ps_b"
   ]
  },
  {
   "cell_type": "code",
   "execution_count": 43,
   "id": "f84b69cd-2e8b-4502-a348-38df27b7a2fc",
   "metadata": {},
   "outputs": [
    {
     "data": {
      "text/plain": [
       "array([1534.  , 1472.64, 1411.28, 1349.92, 1288.56, 1227.2 , 1159.75,\n",
       "       1092.3 , 1024.85,  957.4 ])"
      ]
     },
     "execution_count": 43,
     "metadata": {},
     "output_type": "execute_result"
    }
   ],
   "source": [
    "ps = np.hstack((ps_a, ps_b))\n",
    "ps / 1000"
   ]
  },
  {
   "cell_type": "code",
   "execution_count": 44,
   "id": "732bec57-2d73-45c8-a02f-7a638f7d90bd",
   "metadata": {},
   "outputs": [
    {
     "data": {
      "text/plain": [
       "array([1.21777344, 0.74433333, 0.48866667, 0.42739874, 0.37669739,\n",
       "       0.32188619, 0.25645653, 0.18510782, 0.10731137, 0.02253215])"
      ]
     },
     "execution_count": 44,
     "metadata": {},
     "output_type": "execute_result"
    }
   ],
   "source": [
    "new_zs = rccolumn.get_positive_zs(bw, h, layer_distances, layer_areas, conc, rebar, points = 9, has_spirals = False, is_ch_10_composite = False)\n",
    "new_zs"
   ]
  },
  {
   "cell_type": "code",
   "execution_count": 45,
   "id": "a014e485-71b4-4eb5-96f1-8bea1306fee9",
   "metadata": {},
   "outputs": [],
   "source": [
    "points = new_zs.shape[0]\n",
    "\n",
    "new_cs = np.zeros(points)\n",
    "new_Ps = np.zeros(points)\n",
    "new_Ms = np.zeros(points)\n",
    "new_strainss = np.zeros(points)\n",
    "for i in range(points):\n",
    "    new_cs[i] = rccolumn.c_from_z(new_zs[i], d, conc, rebar)\n",
    "    new_Ps[i], new_Ms[i], new_strainss[i] = rccolumn.pm_points(new_cs[i], bw, h, layer_distances, layer_areas, conc, rebar)"
   ]
  },
  {
   "cell_type": "code",
   "execution_count": 46,
   "id": "1f86d8fd-1edc-4b0f-b3ad-fc1a84b89cd8",
   "metadata": {},
   "outputs": [
    {
     "data": {
      "text/plain": [
       "array([1534.  , 1472.64, 1411.28, 1349.92, 1288.56, 1227.2 , 1159.75,\n",
       "       1092.3 , 1024.85,  957.4 ])"
      ]
     },
     "execution_count": 46,
     "metadata": {},
     "output_type": "execute_result"
    }
   ],
   "source": [
    "new_Ps / 1000"
   ]
  },
  {
   "cell_type": "code",
   "execution_count": 47,
   "id": "466f10d1-dd85-48ed-8270-58f81951345a",
   "metadata": {},
   "outputs": [
    {
     "data": {
      "text/plain": [
       "[<matplotlib.lines.Line2D at 0x19d4733ac50>]"
      ]
     },
     "execution_count": 47,
     "metadata": {},
     "output_type": "execute_result"
    },
    {
     "data": {
      "image/png": "[encoded data removed]",
      "text/plain": [
       "<Figure size 640x480 with 1 Axes>"
      ]
     },
     "metadata": {},
     "output_type": "display_data"
    }
   ],
   "source": [
    "# Plot the values\n",
    "plt.scatter(new_Ms / 12000, new_Ps / 1000, color=\"tomato\", zorder= 10)\n",
    "plt.plot(new_Ms / 12000, new_Ps / 1000, color=\"dodgerblue\")"
   ]
  },
  {
   "cell_type": "code",
   "execution_count": 48,
   "id": "a3ec85f6-1f28-457e-a717-776d37666066",
   "metadata": {},
   "outputs": [
    {
     "data": {
      "text/plain": [
       "array([], dtype=int64)"
      ]
     },
     "execution_count": 48,
     "metadata": {},
     "output_type": "execute_result"
    }
   ],
   "source": [
    "# Let's determine the index of the value that is the capped maximum.\n",
    "p_capped_index = np.where(new_Ps == p_capped)[0]\n",
    "p_capped_index"
   ]
  },
  {
   "cell_type": "code",
   "execution_count": 49,
   "id": "9eb5f107-fe7a-4026-99d0-5b9615c037cc",
   "metadata": {},
   "outputs": [
    {
     "data": {
      "text/plain": [
       "(array([1534000.        , 1472639.99999975, 1411280.00000022,\n",
       "        1349920.00000109, 1288559.99999989, 1227199.99999905,\n",
       "        1159749.99999838, 1092299.99999851, 1024850.0000007 ,\n",
       "         957399.99999937]),\n",
       " 1227200.0)"
      ]
     },
     "execution_count": 49,
     "metadata": {},
     "output_type": "execute_result"
    }
   ],
   "source": [
    "# NOTE: nothing is returned because the array calculated value is ever so slightly different.\n",
    "# We could handle this by rounding the answer inside pm_points, which may be sensible given the\n",
    "# precision. Or we could create a function to find the nearest value.\n",
    "new_Ps, p_capped"
   ]
  },
  {
   "cell_type": "code",
   "execution_count": 50,
   "id": "becd5890-90a5-4aa0-840c-2d8ef5eaaece",
   "metadata": {},
   "outputs": [],
   "source": [
    "def find_nearest(array, value, as_index: bool = True):\n",
    "    array = np.asarray(array)\n",
    "    index = (np.abs(array - value)).argmin()\n",
    "    if as_index:\n",
    "        return index\n",
    "    else:\n",
    "        return array[index]"
   ]
  },
  {
   "cell_type": "code",
   "execution_count": 51,
   "id": "027ca1b6-9792-48d2-ab43-271cfacf595a",
   "metadata": {},
   "outputs": [
    {
     "data": {
      "text/plain": [
       "5"
      ]
     },
     "execution_count": 51,
     "metadata": {},
     "output_type": "execute_result"
    }
   ],
   "source": [
    "capped_index = find_nearest(new_Ps, p_capped)\n",
    "capped_index"
   ]
  },
  {
   "cell_type": "code",
   "execution_count": 52,
   "id": "7d0aa931-86a4-44d8-95fb-5d03087e3336",
   "metadata": {},
   "outputs": [],
   "source": [
    "Pcap = new_Ps[capped_index]\n",
    "Mcap = new_Ms[capped_index]"
   ]
  },
  {
   "cell_type": "code",
   "execution_count": 53,
   "id": "bac5e687-11be-4c52-b69e-b9257808a8f0",
   "metadata": {},
   "outputs": [
    {
     "data": {
      "text/plain": [
       "<matplotlib.collections.PathCollection at 0x19d4a60cc70>"
      ]
     },
     "execution_count": 53,
     "metadata": {},
     "output_type": "execute_result"
    },
    {
     "data": {
      "image/png": "[encoded data removed]",
      "text/plain": [
       "<Figure size 640x480 with 1 Axes>"
      ]
     },
     "metadata": {},
     "output_type": "display_data"
    }
   ],
   "source": [
    "# Plot the values WITH the capped values highlighted\n",
    "plt.scatter(new_Ms / 12000, new_Ps / 1000, color=\"dodgerblue\")\n",
    "plt.plot(new_Ms / 12000, new_Ps / 1000, color=\"dodgerblue\")\n",
    "\n",
    "# Highlight the capped value\n",
    "plt.scatter(Mcap / 12000, Pcap / 1000, color=\"tomato\", s = 100, zorder = 10)"
   ]
  },
  {
   "cell_type": "markdown",
   "id": "b2bc2cca-5cbb-4552-bd53-b2a33007d1b3",
   "metadata": {},
   "source": [
    "## Create List of Zs between Z = 0 and Pure Bending"
   ]
  },
  {
   "cell_type": "code",
   "execution_count": 54,
   "id": "ef61eb13-955d-4e33-81e4-08cdebcdc7b8",
   "metadata": {},
   "outputs": [
    {
     "data": {
      "text/plain": [
       "array([-0.003 , -0.0031, -0.0032, -0.0033, -0.0034, -0.0035, -0.0036,\n",
       "       -0.0037, -0.0038, -0.0039, -0.004 , -0.0041, -0.0042, -0.0043,\n",
       "       -0.0044, -0.0045, -0.0046, -0.0047, -0.0048, -0.0049, -0.005 ])"
      ]
     },
     "execution_count": 54,
     "metadata": {},
     "output_type": "execute_result"
    }
   ],
   "source": [
    "# create range between es = -0.003 through -0.005\n",
    "cardinal_strains = np.arange(-0.0030, -0.00505, -0.0001)\n",
    "cardinal_strains"
   ]
  },
  {
   "cell_type": "code",
   "execution_count": 55,
   "id": "08fa0f60-26e6-4ee1-8648-3fd7d15275ba",
   "metadata": {},
   "outputs": [
    {
     "data": {
      "text/plain": [
       "array([-1.45      , -1.49833333, -1.54666667, -1.595     , -1.64333333,\n",
       "       -1.69166667, -1.74      , -1.78833333, -1.83666667, -1.885     ,\n",
       "       -1.93333333, -1.98166667, -2.03      , -2.07833333, -2.12666667,\n",
       "       -2.175     , -2.22333333, -2.27166667, -2.32      , -2.36833333,\n",
       "       -2.41666667])"
      ]
     },
     "execution_count": 55,
     "metadata": {},
     "output_type": "execute_result"
    }
   ],
   "source": [
    "zs_strains = rccolumn.zs_from_strains(cardinal_strains, rebar)\n",
    "zs_strains"
   ]
  },
  {
   "cell_type": "code",
   "execution_count": 56,
   "id": "cebab388-182b-499e-8f8a-d0a98e54feae",
   "metadata": {},
   "outputs": [
    {
     "data": {
      "text/plain": [
       "-4.574536344416801"
      ]
     },
     "execution_count": 56,
     "metadata": {},
     "output_type": "execute_result"
    }
   ],
   "source": [
    "# Next we need to determined the range between Z at es = -0.005 and Z at Mmax\n",
    "# We can assume there will be say n number of points over this range.\n",
    "z_Mmax = rccolumn.get_z_at_pure_m(bw, h, layer_distances, layer_areas, conc, rebar)\n",
    "z_Mmax"
   ]
  },
  {
   "cell_type": "code",
   "execution_count": 57,
   "id": "01ad75c4-bf00-466d-b6e2-27eb349ec2be",
   "metadata": {},
   "outputs": [
    {
     "data": {
      "text/plain": [
       "(2.157869677750136, 0.269733709718767, True)"
      ]
     },
     "execution_count": 57,
     "metadata": {},
     "output_type": "execute_result"
    }
   ],
   "source": [
    "points = 9\n",
    "spaces = points - 1\n",
    "distance = zs_strains[-1] - z_Mmax\n",
    "step_distance = distance / spaces\n",
    "distance, step_distance, step_distance * spaces == distance"
   ]
  },
  {
   "cell_type": "code",
   "execution_count": 58,
   "id": "2b07a64e-e86b-410f-9c23-8d4a88bd0e1a",
   "metadata": {},
   "outputs": [
    {
     "data": {
      "text/plain": [
       "array([-2.68640038, -2.92241737, -3.15843437, -3.39445136, -3.63046836,\n",
       "       -3.86648536, -4.10250235, -4.33851935, -4.57453634])"
      ]
     },
     "execution_count": 58,
     "metadata": {},
     "output_type": "execute_result"
    }
   ],
   "source": [
    "# Using numpy.linspace, we cans start one step past es = -0.005\n",
    "zs_bal_to_pure_m = np.linspace(zs_strains[-1] - step_distance, z_Mmax, points)\n",
    "zs_bal_to_pure_m"
   ]
  },
  {
   "cell_type": "code",
   "execution_count": 59,
   "id": "6f4ccbfb-4ab0-43b8-bc65-70db68cfdc68",
   "metadata": {},
   "outputs": [
    {
     "data": {
      "text/plain": [
       "array([-0.125     , -0.25      , -0.375     , -0.5       , -0.625     ,\n",
       "       -0.75      , -0.875     , -1.        , -1.45      , -1.93333333,\n",
       "       -2.41666667, -2.95613409, -3.36073465, -3.76533522, -4.16993578,\n",
       "       -4.57453634])"
      ]
     },
     "execution_count": 59,
     "metadata": {},
     "output_type": "execute_result"
    }
   ],
   "source": [
    "# Test function zs_from_zero_to_pure_m\n",
    "zs_part_2 = rccolumn.get_zs_from_zero_to_pure_m(bw, h, layer_distances, layer_areas, conc, rebar)\n",
    "zs_part_2"
   ]
  },
  {
   "cell_type": "markdown",
   "id": "2d15ea8c-11de-4617-951b-d9f5c9125aee",
   "metadata": {},
   "source": [
    "## Zs in the tension region\n",
    "1. Calculate Z at max moment (P = 0)\n",
    "2. Calculate pure Tension (M = 0)\n",
    "3. Calculate max Z (might not be the same as at Pure Tension) - this will likely be maximum T load"
   ]
  },
  {
   "cell_type": "code",
   "execution_count": 60,
   "id": "d988443b-7272-47f1-9dfb-76b2976e3d50",
   "metadata": {},
   "outputs": [
    {
     "data": {
      "text/plain": [
       "-4.574536344416801"
      ]
     },
     "execution_count": 60,
     "metadata": {},
     "output_type": "execute_result"
    }
   ],
   "source": [
    "z_Mmax"
   ]
  },
  {
   "cell_type": "code",
   "execution_count": 61,
   "id": "71ed4077-8475-4beb-95ad-2553303573d6",
   "metadata": {},
   "outputs": [
    {
     "data": {
      "text/plain": [
       "-480000.0"
      ]
     },
     "execution_count": 61,
     "metadata": {},
     "output_type": "execute_result"
    }
   ],
   "source": [
    "# We've already calculated the Pnt,max\n",
    "Pnt"
   ]
  },
  {
   "cell_type": "code",
   "execution_count": 62,
   "id": "bde184a3-127f-45d8-ab2b-e3ab92a63dbb",
   "metadata": {},
   "outputs": [
    {
     "data": {
      "text/plain": [
       "1.4499999999983104"
      ]
     },
     "execution_count": 62,
     "metadata": {},
     "output_type": "execute_result"
    }
   ],
   "source": [
    "z_pnt = rccolumn.get_z_at_p(Pnt, bw, h, layer_distances, layer_areas, conc, rebar)\n",
    "z_pnt"
   ]
  },
  {
   "cell_type": "markdown",
   "id": "3c94f61e-caca-400e-b366-075542e48b5a",
   "metadata": {},
   "source": [
    "<span style=\"color: tomato;\">**WARNING**:</span> This value is not correct, it looks like the **z_at_p( )** function has problems in the tension region.\n",
    "\n",
    "<span style=\"color: tomato;\">**TODO**:</span>\n",
    "- [ ] For now, don't plot M = 0 point via the z-method\n",
    "- [ ] Create function to get the z value from Pnt"
   ]
  },
  {
   "cell_type": "code",
   "execution_count": 63,
   "id": "36c46866-e627-4c6f-b625-6f501c94f896",
   "metadata": {},
   "outputs": [
    {
     "data": {
      "text/plain": [
       "-57.99999999999999"
      ]
     },
     "execution_count": 63,
     "metadata": {},
     "output_type": "execute_result"
    }
   ],
   "source": [
    "z_min = rccolumn.min_z(rebar)\n",
    "z_min"
   ]
  },
  {
   "cell_type": "code",
   "execution_count": 64,
   "id": "735573cb-b913-4b2c-9317-f9b2198a68e5",
   "metadata": {},
   "outputs": [
    {
     "data": {
      "text/plain": [
       "array([-11.2527193 , -17.09612939, -22.93953948, -28.78294956,\n",
       "       -34.62635965, -40.46976974, -46.31317983, -52.15658991,\n",
       "       -58.        ])"
      ]
     },
     "execution_count": 64,
     "metadata": {},
     "output_type": "execute_result"
    }
   ],
   "source": [
    "# Use linspace to create n number of points\n",
    "point_count = 9\n",
    "distance = z_Mmax - z_min\n",
    "spaces = point_count - 1\n",
    "step_distance = - distance / spaces\n",
    "\n",
    "zs_tension = np.linspace(z_Mmax + step_distance, z_min, point_count)\n",
    "zs_tension"
   ]
  },
  {
   "cell_type": "markdown",
   "id": "4ea755b4-011e-410a-88f3-b7e1d8c7af67",
   "metadata": {},
   "source": [
    "<span style=\"color: tomato;\">**NOTE**:</span> The tension region appears to have the same issue where the z-domain may not be the best for creating an evenly distributed set of pm points"
   ]
  },
  {
   "cell_type": "markdown",
   "id": "a26de501-85a1-4289-bf74-becf35dc971f",
   "metadata": {},
   "source": [
    "# Test Hemisphere PM"
   ]
  },
  {
   "cell_type": "code",
   "execution_count": 65,
   "id": "b202e0f3-e465-483d-856e-a290aa38d516",
   "metadata": {},
   "outputs": [
    {
     "data": {
      "text/plain": [
       "array([-5.80000000e+01, -4.67462908e+01, -2.26481454e+01, -1.46154303e+01,\n",
       "       -1.05990727e+01, -8.18925815e+00, -6.58271513e+00, -5.43518439e+00,\n",
       "       -4.57453634e+00, -4.57453634e+00, -4.16993578e+00, -3.76533522e+00,\n",
       "       -3.36073465e+00, -2.95613409e+00, -2.41666667e+00, -1.93333333e+00,\n",
       "       -1.45000000e+00, -1.00000000e+00, -8.75000000e-01, -7.50000000e-01,\n",
       "       -6.25000000e-01, -5.00000000e-01, -3.75000000e-01, -2.50000000e-01,\n",
       "       -1.25000000e-01,  2.25321516e-02,  9.09312244e-02,  1.54792934e-01,\n",
       "        2.14391138e-01,  2.69999325e-01,  3.21886191e-01,  3.76697393e-01,\n",
       "        4.27398737e-01,  4.88666667e-01,  7.44333333e-01,  1.21777344e+00])"
      ]
     },
     "execution_count": 65,
     "metadata": {},
     "output_type": "execute_result"
    }
   ],
   "source": [
    "zs = rccolumn.get_half_zs(bw, h, layer_distances, layer_areas, conc, rebar) \n",
    "zs"
   ]
  },
  {
   "cell_type": "code",
   "execution_count": 66,
   "id": "bfe2f295-4c31-472a-adf4-4d80a4aea22a",
   "metadata": {},
   "outputs": [
    {
     "data": {
      "text/plain": [
       "array([ 0.32926829,  0.40615159,  0.81230317,  1.21845476,  1.62460635,\n",
       "        2.03075794,  2.43690952,  2.84306111,  3.2492127 ,  3.2492127 ,\n",
       "        3.48313589,  3.75335414,  4.06902509,  4.44267006,  5.0625    ,\n",
       "        5.78571429,  6.75      ,  7.98979592,  8.41935484,  8.89772727,\n",
       "        9.43373494, 10.03846154, 10.7260274 , 11.51470588, 12.42857143,\n",
       "       13.71309345, 14.4032446 , 15.11341353, 15.84239204, 16.58897357,\n",
       "       17.35197269, 18.23809974, 19.14235851, 20.36234397, 27.73972603,\n",
       "       84.29268293])"
      ]
     },
     "execution_count": 66,
     "metadata": {},
     "output_type": "execute_result"
    }
   ],
   "source": [
    "cs = rccolumn.get_half_cs(zs, d, conc, rebar)\n",
    "cs"
   ]
  },
  {
   "cell_type": "code",
   "execution_count": 67,
   "id": "64291064-a540-4b16-a0be-788c0ff6d0ed",
   "metadata": {},
   "outputs": [
    {
     "data": {
      "text/plain": [
       "(array([-4.62087805e+05, -4.57905354e+05, -4.35810707e+05, -4.13716061e+05,\n",
       "        -3.39135756e+05, -2.09938242e+05, -1.16441683e+05, -6.03456708e+04,\n",
       "        -4.09781933e-08, -4.09781933e-08,  3.07076687e+04,  6.33897888e+04,\n",
       "         9.85445360e+04,  1.36853070e+05,  1.94548148e+05,  2.55372487e+05,\n",
       "         3.29311111e+05,  4.16756009e+05,  4.71012903e+05,  5.27036364e+05,\n",
       "         5.86195181e+05,  6.49092308e+05,  7.16495890e+05,  7.89400000e+05,\n",
       "         8.69114286e+05,  9.57400000e+05,  1.01136000e+06,  1.06532000e+06,\n",
       "         1.11928000e+06,  1.17324000e+06,  1.22720000e+06,  1.28856000e+06,\n",
       "         1.34992000e+06,  1.41128000e+06,  1.47264000e+06,  1.53400000e+06]),\n",
       " array([ 140938.39381321,  173167.66058588,  339156.30061765,\n",
       "         497965.92009531,  938267.63952621, 1671784.9937942 ,\n",
       "        2201768.06887523, 2518869.11846911, 2852164.26942572,\n",
       "        2852164.26942572, 3018601.21182293, 3192552.36085816,\n",
       "        3375102.79799963, 3567410.98850586, 3840829.81481481,\n",
       "        4103000.92214664, 4377771.11111111, 4629680.68212319,\n",
       "        4503133.96462019, 4366061.48760331, 4220522.52286253,\n",
       "        4062467.81065089, 3886029.96059298, 3682575.29411765,\n",
       "        3439160.40816327, 3166251.06987828, 2954075.65307393,\n",
       "        2722714.65312018, 2470257.76456933, 2194899.79000431,\n",
       "        1894949.53595128, 1521989.03011663, 1113073.69755789,\n",
       "         674959.99999877,  337480.00000138,       0.        ]))"
      ]
     },
     "execution_count": 67,
     "metadata": {},
     "output_type": "execute_result"
    }
   ],
   "source": [
    "p, m, strains = rccolumn.get_half_pm(cs, bw, h, layer_distances, layer_areas, conc, rebar)\n",
    "p, m"
   ]
  },
  {
   "cell_type": "code",
   "execution_count": 68,
   "id": "3fc49d97-9105-4861-8b75-fd33cd436779",
   "metadata": {},
   "outputs": [
    {
     "data": {
      "text/plain": [
       "[<matplotlib.lines.Line2D at 0x19d4a67bc70>]"
      ]
     },
     "execution_count": 68,
     "metadata": {},
     "output_type": "execute_result"
    },
    {
     "data": {
      "image/png": "[encoded data removed]",
      "text/plain": [
       "<Figure size 640x480 with 1 Axes>"
      ]
     },
     "metadata": {},
     "output_type": "display_data"
    }
   ],
   "source": [
    "# Plot the values\n",
    "plt.scatter(m / 12000, p / 1000, color=\"dodgerblue\")\n",
    "plt.plot(m / 12000, p / 1000, color=\"dodgerblue\")"
   ]
  },
  {
   "cell_type": "code",
   "execution_count": 69,
   "id": "c6189d47-cbab-4800-8ddd-568f14690b79",
   "metadata": {},
   "outputs": [],
   "source": [
    "# Create a maxmin function:\n",
    "def limit_min_max(value, min_limit, max_limit):\n",
    "    return max(min(value, max_limit), min_limit)"
   ]
  },
  {
   "cell_type": "code",
   "execution_count": 70,
   "id": "1906fcde-78c0-4b3a-b81c-23780febd8ff",
   "metadata": {},
   "outputs": [
    {
     "data": {
      "text/plain": [
       "0.75"
      ]
     },
     "execution_count": 70,
     "metadata": {},
     "output_type": "execute_result"
    }
   ],
   "source": [
    "min_value = 0.65\n",
    "max_value = 0.85\n",
    "value = 0.75\n",
    "limit_min_max(value, min_value, max_value)"
   ]
  },
  {
   "cell_type": "code",
   "execution_count": 71,
   "id": "319d9988-c955-4f03-8502-f1c27f0442e2",
   "metadata": {},
   "outputs": [],
   "source": [
    "# Create function for axial_moment_reduction_factor()\n",
    "def test_get_axial_moment_reduction_factor(strain_at_dt, rebar: rcmaterials.RebarMaterial, has_spirals: bool = False):\n",
    "    phi_tens = 0.9\n",
    "    phi_comp = 0.75 if has_spirals == True else 0.65\n",
    "    coeff = 0.15 if has_spirals == True else 0.25\n",
    "    return max(min(phi_comp + coeff * (strain_at_dt - -rebar.ey) / (-0.005 - -rebar.ey), phi_tens), phi_comp)"
   ]
  },
  {
   "cell_type": "code",
   "execution_count": 72,
   "id": "2a2ac621-83d3-4e97-aa36-51a460333986",
   "metadata": {},
   "outputs": [
    {
     "data": {
      "text/plain": [
       "-0.5"
      ]
     },
     "execution_count": 72,
     "metadata": {},
     "output_type": "execute_result"
    }
   ],
   "source": [
    "strain = -0.5\n",
    "strain"
   ]
  },
  {
   "cell_type": "code",
   "execution_count": 73,
   "id": "98ff82d9-7899-4661-b982-1bf957c2cfa8",
   "metadata": {},
   "outputs": [
    {
     "data": {
      "text/plain": [
       "0.9"
      ]
     },
     "execution_count": 73,
     "metadata": {},
     "output_type": "execute_result"
    }
   ],
   "source": [
    "test_get_axial_moment_reduction_factor(strain, rebar, has_spirals = False)"
   ]
  },
  {
   "cell_type": "markdown",
   "id": "70736a8d-cf79-41df-b316-b461e586a1a2",
   "metadata": {},
   "source": [
    "<span style=\"color: dodgerblue;\">**NOTE**:</span> Function returns the phi factor per ACI 318 Table 21.2.2"
   ]
  },
  {
   "cell_type": "code",
   "execution_count": 74,
   "id": "819b8986-254e-456e-81e6-2151c03c3bd6",
   "metadata": {},
   "outputs": [
    {
     "data": {
      "text/plain": [
       "array([0.9       , 0.9       , 0.9       , 0.9       , 0.9       ,\n",
       "       0.9       , 0.9       , 0.9       , 0.9       , 0.9       ,\n",
       "       0.9       , 0.9       , 0.9       , 0.9       , 0.9       ,\n",
       "       0.81470588, 0.72941176, 0.65      , 0.65      , 0.65      ,\n",
       "       0.65      , 0.65      , 0.65      , 0.65      , 0.65      ,\n",
       "       0.65      , 0.65      , 0.65      , 0.65      , 0.65      ,\n",
       "       0.65      , 0.65      , 0.65      , 0.65      , 0.65      ,\n",
       "       0.65      ])"
      ]
     },
     "execution_count": 74,
     "metadata": {},
     "output_type": "execute_result"
    }
   ],
   "source": [
    "phis = rccolumn.get_multiple_axial_moment_reduction_factors(strains, rebar, has_spirals = False)\n",
    "phis"
   ]
  },
  {
   "cell_type": "code",
   "execution_count": 75,
   "id": "90fa1544-bdca-427b-9e55-bbc5f7981963",
   "metadata": {},
   "outputs": [
    {
     "data": {
      "text/plain": [
       "(array([-4.15879024e+02, -4.12114818e+02, -3.92229637e+02, -3.72344455e+02,\n",
       "        -3.05222181e+02, -1.88944417e+02, -1.04797515e+02, -5.43111037e+01,\n",
       "        -3.68803740e-11, -3.68803740e-11,  2.76369019e+01,  5.70508099e+01,\n",
       "         8.86900824e+01,  1.23167763e+02,  1.75093333e+02,  2.08053467e+02,\n",
       "         2.40203399e+02,  2.70891406e+02,  3.06158387e+02,  3.42573636e+02,\n",
       "         3.81026867e+02,  4.21910000e+02,  4.65722329e+02,  5.13110000e+02,\n",
       "         5.64924286e+02,  6.22310000e+02,  6.57384000e+02,  6.92458000e+02,\n",
       "         7.27532000e+02,  7.62606000e+02,  7.97680000e+02,  8.37564000e+02,\n",
       "         8.77448000e+02,  9.17332000e+02,  9.57216000e+02,  9.97100000e+02]),\n",
       " array([ 10.57037954,  12.98757454,  25.43672255,  37.34744401,\n",
       "         70.37007296, 125.38387453, 165.13260517, 188.91518389,\n",
       "        213.91232021, 213.91232021, 226.39509089, 239.44142706,\n",
       "        253.13270985, 267.55582414, 288.06223611, 278.56158221,\n",
       "        266.09981264, 250.77437028, 243.91975642, 236.49499725,\n",
       "        228.61163666, 220.05033974, 210.49328953, 199.47282843,\n",
       "        186.28785544, 171.50526629, 160.01243121, 147.48037704,\n",
       "        133.80562891, 118.89040529, 102.64309986,  82.44107246,\n",
       "         60.29149195,  36.56033333,  18.28016667,   0.        ]))"
      ]
     },
     "execution_count": 75,
     "metadata": {},
     "output_type": "execute_result"
    }
   ],
   "source": [
    "design_p = p * phis\n",
    "design_m = m * phis\n",
    "design_p / 1000, design_m / 12000"
   ]
  },
  {
   "cell_type": "code",
   "execution_count": 76,
   "id": "2f60b7cb-e135-4df1-9180-94b17b87852e",
   "metadata": {},
   "outputs": [
    {
     "data": {
      "text/plain": [
       "[<matplotlib.lines.Line2D at 0x19d4a4f1ff0>]"
      ]
     },
     "execution_count": 76,
     "metadata": {},
     "output_type": "execute_result"
    },
    {
     "data": {
      "image/png": "[encoded data removed]",
      "text/plain": [
       "<Figure size 640x480 with 1 Axes>"
      ]
     },
     "metadata": {},
     "output_type": "display_data"
    }
   ],
   "source": [
    "# Plot the values\n",
    "plt.scatter(m / 12000, p / 1000, color=\"dodgerblue\")\n",
    "plt.plot(m / 12000, p / 1000, color=\"dodgerblue\")\n",
    "\n",
    "plt.scatter(design_m / 12000, design_p / 1000, color=\"tomato\")\n",
    "plt.plot(design_m / 12000, design_p / 1000, color=\"tomato\", linestyle=\"dashed\")\n",
    "# plt.plot(design_m / 12000, design_p / 1000, color=\"tomato\", linestyle=\"dashed\")"
   ]
  },
  {
   "cell_type": "code",
   "execution_count": 77,
   "id": "7d1e00b9-d906-4ba4-a0cb-b1ca65411bf0",
   "metadata": {},
   "outputs": [],
   "source": [
    "design_ps, design_ms = rccolumn.get_design_pm_points(cs, bw, h, layer_distances, layer_areas, conc, rebar, has_spirals = False, is_capped = True)"
   ]
  },
  {
   "cell_type": "code",
   "execution_count": 78,
   "id": "3c4ce067-e6a2-4713-9756-1bd5bd252f1c",
   "metadata": {},
   "outputs": [
    {
     "data": {
      "text/plain": [
       "[<matplotlib.lines.Line2D at 0x19d4a6bb760>]"
      ]
     },
     "execution_count": 78,
     "metadata": {},
     "output_type": "execute_result"
    },
    {
     "data": {
      "image/png": "[encoded data removed]",
      "text/plain": [
       "<Figure size 640x480 with 1 Axes>"
      ]
     },
     "metadata": {},
     "output_type": "display_data"
    }
   ],
   "source": [
    "# Plot the values\n",
    "plt.scatter(m / 12000, p / 1000, color=\"dodgerblue\")\n",
    "plt.plot(m / 12000, p / 1000, color=\"dodgerblue\")\n",
    "\n",
    "plt.scatter(design_ms / 12000, design_ps / 1000, color=\"tomato\")\n",
    "plt.plot(design_ms / 12000, design_ps / 1000, color=\"tomato\", linestyle=\"dashed\")\n",
    "# plt.plot(design_m / 12000, design_p / 1000, color=\"tomato\", linestyle=\"dashed\")"
   ]
  },
  {
   "cell_type": "code",
   "execution_count": 79,
   "id": "e7c117ed-2a7e-4007-8030-561cb84af615",
   "metadata": {},
   "outputs": [
    {
     "data": {
      "text/plain": [
       "array([-4.15879024e+02, -4.12114818e+02, -3.92229637e+02, -3.72344455e+02,\n",
       "       -3.05222181e+02, -1.88944417e+02, -1.04797515e+02, -5.43111037e+01,\n",
       "       -3.68803740e-11, -3.68803740e-11,  2.76369019e+01,  5.70508099e+01,\n",
       "        8.86900824e+01,  1.23167763e+02,  1.75093333e+02,  2.08053467e+02,\n",
       "        2.40203399e+02,  2.70891406e+02,  3.06158387e+02,  3.42573636e+02,\n",
       "        3.81026867e+02,  4.21910000e+02,  4.65722329e+02,  5.13110000e+02,\n",
       "        5.64924286e+02,  6.22310000e+02,  6.57384000e+02,  6.92458000e+02,\n",
       "        7.27532000e+02,  7.62606000e+02,  7.97680000e+02,  7.97680000e+02,\n",
       "        7.97680000e+02,  7.97680000e+02,  7.97680000e+02,  7.97680000e+02])"
      ]
     },
     "execution_count": 79,
     "metadata": {},
     "output_type": "execute_result"
    }
   ],
   "source": [
    "design_ps / 1000"
   ]
  },
  {
   "cell_type": "code",
   "execution_count": 80,
   "id": "93fc70f7-b372-427d-bb4c-770b6f0b1845",
   "metadata": {},
   "outputs": [
    {
     "data": {
      "text/plain": [
       "array([ 10.57037954,  12.98757454,  25.43672255,  37.34744401,\n",
       "        70.37007296, 125.38387453, 165.13260517, 188.91518389,\n",
       "       213.91232021, 213.91232021, 226.39509089, 239.44142706,\n",
       "       253.13270985, 267.55582414, 288.06223611, 278.56158221,\n",
       "       266.09981264, 250.77437028, 243.91975642, 236.49499725,\n",
       "       228.61163666, 220.05033974, 210.49328953, 199.47282843,\n",
       "       186.28785544, 171.50526629, 160.01243121, 147.48037704,\n",
       "       133.80562891, 118.89040529, 102.64309986,  82.44107246,\n",
       "        60.29149195,  36.56033333,  18.28016667,   0.        ])"
      ]
     },
     "execution_count": 80,
     "metadata": {},
     "output_type": "execute_result"
    }
   ],
   "source": [
    "design_ms / 12000"
   ]
  },
  {
   "cell_type": "code",
   "execution_count": 81,
   "id": "c99e0879-a3e5-4d8c-840b-1e3e00ad21e8",
   "metadata": {},
   "outputs": [
    {
     "data": {
      "text/plain": [
       "(array([-4.15879024e+05, -4.12114818e+05, -3.92229637e+05, -3.72344455e+05,\n",
       "        -3.05222181e+05, -1.88944417e+05, -1.04797515e+05, -5.43111037e+04,\n",
       "        -3.68803740e-08, -3.68803740e-08,  2.76369019e+04,  5.70508099e+04,\n",
       "         8.86900824e+04,  1.23167763e+05,  1.75093333e+05,  2.08053467e+05,\n",
       "         2.40203399e+05,  2.70891406e+05,  3.06158387e+05,  3.42573636e+05,\n",
       "         3.81026867e+05,  4.21910000e+05,  4.65722329e+05,  5.13110000e+05,\n",
       "         5.64924286e+05,  6.22310000e+05,  6.57384000e+05,  6.92458000e+05,\n",
       "         7.27532000e+05,  7.62606000e+05,  7.97680000e+05,  8.37564000e+05,\n",
       "         8.77448000e+05,  9.17332000e+05,  9.57216000e+05,  9.97100000e+05]),\n",
       " array([ 126844.55443189,  155850.89452729,  305240.67055588,\n",
       "         448169.32808578,  844440.87557359, 1504606.49441478,\n",
       "        1981591.26198771, 2266982.2066222 , 2566947.84248315,\n",
       "        2566947.84248315, 2716741.09064063, 2873297.12477234,\n",
       "        3037592.51819967, 3210669.88965527, 3456746.83333333,\n",
       "        3342738.98657241, 3193197.75163399, 3009292.44338007,\n",
       "        2927037.07700312, 2837939.96694215, 2743339.63986065,\n",
       "        2640604.07692308, 2525919.47438544, 2393673.94117647,\n",
       "        2235454.26530612, 2058063.19542088, 1920149.17449806,\n",
       "        1769764.52452812, 1605667.54697006, 1426684.8635028 ,\n",
       "        1231717.19836833,  989292.86957581,  723497.90341263,\n",
       "         438723.9999992 ,  219362.0000009 ,       0.        ]))"
      ]
     },
     "execution_count": 81,
     "metadata": {},
     "output_type": "execute_result"
    }
   ],
   "source": [
    "cap_ps, cap_ms = rccolumn.get_design_pm_points(cs, bw, h, layer_distances, layer_areas, conc, rebar, has_spirals = False, is_capped = False)\n",
    "cap_ps, cap_ms"
   ]
  },
  {
   "cell_type": "code",
   "execution_count": 82,
   "id": "c6b65a69-5009-455d-bcbc-e058c2a73200",
   "metadata": {},
   "outputs": [
    {
     "data": {
      "text/plain": [
       "-4.574536344416801"
      ]
     },
     "execution_count": 82,
     "metadata": {},
     "output_type": "execute_result"
    }
   ],
   "source": [
    "z_mmax = rccolumn.get_z_at_pure_m(bw, h, layer_distances, layer_areas, conc, rebar)\n",
    "z_mmax"
   ]
  },
  {
   "cell_type": "code",
   "execution_count": 83,
   "id": "ceb23a09-3a8d-4a05-9b0b-8fdd44d902c3",
   "metadata": {},
   "outputs": [
    {
     "data": {
      "text/plain": [
       "3.249212699686176"
      ]
     },
     "execution_count": 83,
     "metadata": {},
     "output_type": "execute_result"
    }
   ],
   "source": [
    "c_mmax = rccolumn.c_from_z(z_mmax, max(layer_distances), conc, rebar)\n",
    "c_mmax"
   ]
  },
  {
   "cell_type": "code",
   "execution_count": 84,
   "id": "bc34ef2f-7e43-4fb7-af94-a6b9316e8d77",
   "metadata": {},
   "outputs": [
    {
     "data": {
      "text/plain": [
       "array([0.        , 0.40615159, 0.81230317, 1.21845476, 1.62460635,\n",
       "       2.03075794, 2.43690952, 2.84306111, 3.2492127 ])"
      ]
     },
     "execution_count": 84,
     "metadata": {},
     "output_type": "execute_result"
    }
   ],
   "source": [
    "points = 9\n",
    "cs = np.linspace(0, c_mmax, points)\n",
    "cs"
   ]
  },
  {
   "cell_type": "code",
   "execution_count": 85,
   "id": "7ad6a700-e235-444e-a4cb-e6b44c8d2fe0",
   "metadata": {},
   "outputs": [
    {
     "data": {
      "text/plain": [
       "array([-58.        , -46.74629076, -22.64814538, -14.61543025,\n",
       "       -10.59907269,  -8.18925815,  -6.58271513,  -5.43518439,\n",
       "        -4.57453634])"
      ]
     },
     "execution_count": 85,
     "metadata": {},
     "output_type": "execute_result"
    }
   ],
   "source": [
    "zs = np.zeros(points)\n",
    "for i in range(points):\n",
    "    zs[i] = rccolumn.z_from_c(cs[i], max(layer_distances), conc, rebar)\n",
    "zs"
   ]
  },
  {
   "cell_type": "code",
   "execution_count": 86,
   "id": "8ada7d0d-aea5-4560-b0dc-277fc7cafc73",
   "metadata": {},
   "outputs": [],
   "source": [
    "c_x = 2\n",
    "p_x, m_x, e_x = rccolumn.pm_points(c_x, bw, h, layer_distances, layer_areas, conc, rebar)"
   ]
  },
  {
   "cell_type": "code",
   "execution_count": 87,
   "id": "021610ab-8852-42d9-ae2c-e9017e10d13a",
   "metadata": {},
   "outputs": [
    {
     "data": {
      "text/plain": [
       "<matplotlib.collections.PathCollection at 0x19d4a766bf0>"
      ]
     },
     "execution_count": 87,
     "metadata": {},
     "output_type": "execute_result"
    },
    {
     "data": {
      "image/png": "[encoded data removed]",
      "text/plain": [
       "<Figure size 640x480 with 1 Axes>"
      ]
     },
     "metadata": {},
     "output_type": "display_data"
    }
   ],
   "source": [
    "# Plot the values\n",
    "plt.scatter(m / 12000, p / 1000, color=\"dodgerblue\", s=20)\n",
    "plt.plot(m / 12000, p / 1000, color=\"dodgerblue\", linewidth=2)\n",
    "\n",
    "plt.scatter(design_ms / 12000, design_ps / 1000, color=\"tomato\", s=20)\n",
    "plt.plot(design_ms / 12000, design_ps / 1000, color=\"tomato\", linewidth=3)\n",
    "\n",
    "# Capped portion as dashed lined\n",
    "plt.plot(cap_ms / 12000, cap_ps / 1000, color=\"tomato\", linestyle=\"dashed\", zorder = -1)\n",
    "\n",
    "# Individual Points\n",
    "plt.scatter(m_x / 12000, p_x / 1000, color=\"indigo\", s=100, zorder=10)"
   ]
  },
  {
   "cell_type": "code",
   "execution_count": null,
   "id": "93e2054f-bc24-4aab-ba87-32b5fb2b2fd7",
   "metadata": {},
   "outputs": [],
   "source": []
  }
 ],
 "metadata": {
  "kernelspec": {
   "display_name": "Python 3 (ipykernel)",
   "language": "python",
   "name": "python3"
  },
  "language_info": {
   "codemirror_mode": {
    "name": "ipython",
    "version": 3
   },
   "file_extension": ".py",
   "mimetype": "text/x-python",
   "name": "python",
   "nbconvert_exporter": "python",
   "pygments_lexer": "ipython3",
   "version": "3.10.5"
  }
 },
 "nbformat": 4,
 "nbformat_minor": 5
}
